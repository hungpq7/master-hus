{
 "cells": [
  {
   "cell_type": "markdown",
   "metadata": {},
   "source": [
    "- [Textbook](https://faculty.ksu.edu.sa/sites/default/files/rosen_discrete_mathematics_and_its_applications_7th_edition.pdf)\n",
    "- [Python](https://colab.research.google.com/drive/1vGYrfTyTM2QF3bVeSj_UStaRKwkTFCCm#scrollTo=aSh0bpboPoVn)\n",
    "- [Calculator](https://www.desmos.com/scientific)\n",
    "- [Solution 6th](https://brainly.com/textbook-solutions/b-discrete-mathematics-applications-6th-edition-college-math-9780073229720)\n",
    "- [Solution 7th](https://brainly.com/textbook-solutions/b-discrete-mathematics-applications-7th-edition-college-math-9780073383095)"
   ]
  },
  {
   "cell_type": "markdown",
   "metadata": {},
   "source": [
    "## 7.1 - Discrete Probability"
   ]
  },
  {
   "cell_type": "markdown",
   "metadata": {},
   "source": [
    "***\n",
    "***19.**\n",
    "*What is the probability that a five-card poker hand contains cards of five different kinds and does not contain a flush or a straight?*\n",
    "\n",
    "- Number of possible hands: $C(52,5)$\n",
    "- Hands with five different ranks: $4^5\\times C(13,5)=1,317,888$. Explain:\n",
    "    - Choosing 5 ranks out of 13 possible ranks: $C(13,5)$.\n",
    "    - Each rank can be 1 out of 4 suits: $4^5$.\n",
    "- Hands with flush or straight: $5148+10,240-40=15,348$. Explain:\n",
    "    - hands with flush: $4\\times C(13,5)=5148$\n",
    "    - hands with straight: $4^5\\times10=10,240$\n",
    "    - hands with flush straight: $4\\times10=40$\n",
    "- Valid hands: $1,317,888-15,348$"
   ]
  },
  {
   "cell_type": "markdown",
   "metadata": {},
   "source": [
    "***\n",
    "**24.**\n",
    "*Find the probability of winning a lottery by selecting the correct six integers, where the order in which these integers are selected does not matter, from the positive integers not exceeding each of: 30, 36, 42, and 48?*\n",
    "\n",
    "Number of correct lottery is always 1. Number of possible lotter number is $C(n,6)$"
   ]
  },
  {
   "cell_type": "markdown",
   "metadata": {},
   "source": [
    "***\n",
    "**38.**\n",
    "*Two events $E_1$ and $E_2$ are called independent if $p(E_1 \\cap E_2) = p(E_1)p(E_2)$. For each of the following pairs of events, which are subsets of the set of all possible outcomes when a coin is tossed three times, determine whether or not they are independent.*\n",
    "\n",
    "*a) $E_1$: tails comes up when the coin is tossed the first time; $E_2$: heads comes up when the coin is tossed the second time.* $P(E_1)=P(E_2)=4/8,P(E_1\\cap E_2)=2/8\\to$ independent\n",
    "\n",
    "*b) $E_1$: the first coin comes up tails; $E_2$: two, and not three, heads come up in a row.* $P(E_1)=4/8,P(E_2)=2/8,P(E_1\\cap E_2)=1/8\\to$ independent \n",
    "\n",
    "*c) $E_1$: the second coin comes up tails; $E_2$: two, and not three, heads come up in a row.* $P(E_1)=4/8,P(E_2)=2/8,P(E_1\\cap E_2)=0\\to$ dependent"
   ]
  },
  {
   "cell_type": "markdown",
   "metadata": {},
   "source": [
    "***\n",
    "**39.**\n",
    "*Explain what is wrong with the statement that in the Monty Hall Three-Door Puzzle the probability that the prize is behind the first door you select and the probability that the prize is behind the other of the two doors that Monty does not open are both $1/2$, because there are two doors left.*\n",
    "\n",
    "Without losing generality, let's say we opened door #1. There are 3 cases:\n",
    "- The prize is behind door 1. No matter which door Monty opens (#2 or #3), we lose if we switch.\n",
    "- The prize is behind door 2. As Monty must always open an no-prize door, any door left is 100% prize. So we win if we switch.\n",
    "- The prize is behind door 3. Same reasoning as case 2. We win if we switch.\n",
    "\n",
    "Summarizing all 3 cases results in a winning probability of $2/3$ if we switch. People are making mistake at this problem because they are treating case 2 and 3 as a single case, while in fact, they are two separated cases with the same result. Giving each case an identifier easily solves the problems."
   ]
  },
  {
   "cell_type": "markdown",
   "metadata": {},
   "source": [
    "## 7.2 - Probability Theory"
   ]
  },
  {
   "cell_type": "markdown",
   "metadata": {},
   "source": [
    "***\n",
    "**10.** What is the probability of these events when we randomly select a permutation of the 26 lowercase letters of the English alphabet?\n",
    "- *The first 13 letters of the permutation are in alphabetical order.* $14\\times 13!/26!$\n",
    "- *$a$ is the first letter of the permutation and $z$ is the last letter.* $24!/26!$\n",
    "- *$a$ and $z$ are next to each other in the permutation.* $2\\times 25!/26!$ (treat az or za a single letter)\n",
    "- *$a$ and $b$ are not next to each other in the permutation.* $1-2\\times 25!/26!$\n",
    "- *$a$ and $z$ are separated by at least 23 letters in the permutation.* $6\\times24!/26!$\n",
    "- *$z$ precedes both $a$ and $b$ in the permutation.* $1/3$ (simply ignore other characters)"
   ]
  },
  {
   "cell_type": "markdown",
   "metadata": {},
   "source": [
    "***\n",
    "**13.** *Show that if $E$ and $F$ are events, then $p(E \\cap F) \\geq p(E) + p(F) - 1$. This is known as Bonferroni’s inequality.*\n",
    "\n",
    "$p(E \\cap F)=p(E)+p(F)-p(E \\cup F)\\geq p(E)+p(F)-1 $ (as probabilities must be $\\leq1$)\n",
    "\n",
    "Without losing generality, assume $p(E)\\geq p(F)$, then $p(E \\cap F)\\leq p(F)$. Equality occurs only when $E$ is a superset of $F$.\\\n",
    "So $p(E \\cup F)=p(E)+p(F)-p(E \\cap F)\\geq p(E)$"
   ]
  },
  {
   "cell_type": "markdown",
   "metadata": {},
   "source": [
    "***\n",
    "**15.** *Prove Boole’s inequality: if $E_1, E_2, \\ldots, E_n$ are events from a finite sample space, then $p(E_1 \\cup E_2 \\cup \\cdots \\cup E_n) \\leq p(E_1) + p(E_2) + \\cdots + p(E_n)$*\n",
    "- Basic step: $n=2$ then $p(E_1)+p(E_2)=p(E_1\\cup E_2) + p(E_1\\cap E_2)\\geq p(E_1\\cup E_2)$\n",
    "- Assume $n=k$ is correct, then $p(E_1\\cup\\ldots \\cup E_k)\\leq p(E_1)+\\ldots+ p(E_k)$\n",
    "- For $n=k+1$, $p(E_1)+\\ldots+ p(E_k)+p(E_{k+1})\\geq p(E_1\\cup\\ldots \\cup E_k)+p(E_{k+1})\\geq p(E_1\\cup\\ldots \\cup E_k+E_{k+1})$"
   ]
  },
  {
   "cell_type": "markdown",
   "metadata": {},
   "source": [
    "***\n",
    "**30.** Find the probability that a randomly generated bit string of length 10 does not contain a 0 if bits are independent and if\n",
    "- *a 0 bit and a 1 bit are equally likely.* $0.5^{10}$\n",
    "- *the probability that a bit is a 1 is 0.6.* $0.6^{10}$\n",
    "- *the probability that the $i$-th bit is a 1 is $1/2^i$ for $i = 1, 2, 3, \\ldots, 10$.*\n",
    "$\\displaystyle{ \\prod_{i=1}^{10} 1/2^{i}=1/2^{55} }$"
   ]
  },
  {
   "cell_type": "markdown",
   "metadata": {},
   "source": [
    "## 7.3 - Bayes' Theorem"
   ]
  },
  {
   "cell_type": "markdown",
   "metadata": {},
   "source": [
    "***\n",
    "**1.**\n",
    "*Suppose that $E$ and $F$ are events in a sample space and $p(E) = 1/3$, $p(F) = 1/2$, and $p(E \\mid F) = 2/5$. Find $p(F \\mid E)$.*\n",
    "\n",
    "$p(F\\mid E)=p(E\\mid F)\\cdot p(F)/p(E)=2/5 \\times 1/2 \\div 1/3=3/5$"
   ]
  },
  {
   "cell_type": "markdown",
   "metadata": {},
   "source": [
    "***\n",
    "<b>*12.</b>\n",
    "*A space probe near Neptune communicates with Earth using bit strings. Suppose that in its transmissions it sends a 1 one-third of the time and a 0 two-thirds of the time. When a 0 is sent, the probability that it is received correctly is 0.9, and the probability that it is received incorrectly (as a 1) is 0.1. When a 1 is sent, the probability that it is received correctly is 0.8, and the probability that it is received incorrectly (as a 0) is 0.2.*\n",
    "\n",
    "*a) Find the probability that a 0 is received.* $0.2\\cdot 1/3+0.9\\cdot2/3=2/3$\n",
    "\n",
    "*b) Use Bayes' theorem to find the probability that a 0 was transmitted, given that a 0 was received.*\n",
    "\n",
    "- Hypothesis $H$: 0 was trasmitted\n",
    "- Evidence $E$: 0 was received\n",
    "- $P(E)=2/3$\n",
    "- $P(H)=2/3$\n",
    "- $P(E|H)=0.9$\n",
    "- $P(H|E)=P(E|H)\\cdot P(H)/P(E)=0.9$"
   ]
  },
  {
   "cell_type": "markdown",
   "metadata": {},
   "source": [
    "***\n",
    "**13.**\n",
    "*Suppose that $E$, $F_1$, $F_2$, and $F_3$ are events from a sample space $S$ and that $F_1$, $F_2$, and $F_3$ are pairwise disjoint and their union is $S$. Find $p(F_1 \\mid E)$ if $p(E \\mid F_1) = \\frac{1}{8}$, $p(E \\mid F_2) = \\frac{1}{4}$, $p(E \\mid F_3) = \\frac{1}{6}$, $p(F_1) = \\frac{1}{4}$, $p(F_2) = \\frac{1}{4}$, and $p(F_3) = \\frac{1}{2}$.*\n",
    "- $P(E)=\\sum P(E|F_k)P(F_k)=1/8\\cdot1/4+1/4\\cdot1/4+1/6\\cdot1/2=17/96$\n",
    "- $P(F_1|E)=P(E|F_1)\\cdot P(F_1)/P(E)=3/17$"
   ]
  },
  {
   "cell_type": "markdown",
   "metadata": {},
   "source": [
    "## 7.4 - Mean & Variance"
   ]
  },
  {
   "cell_type": "markdown",
   "metadata": {},
   "source": [
    "***\n",
    "**7.** *The final exam of a discrete mathematics course consists of 50 true/false questions, each worth two points, and 25 multiple-choice questions, each worth four points. The probability that Linda answers a true/false question correctly is 0.9, and the probability that she answers a multiple-choice question correctly is 0.8. What is her expected score on the final?*\n",
    "\n",
    "$50 \\cdot 2 \\cdot 0.9 + 25 \\cdot 4 \\cdot 0.8=170$"
   ]
  },
  {
   "cell_type": "markdown",
   "metadata": {},
   "source": [
    "***\n",
    "> **20.** *Show that if $X_1, X_2, \\ldots, X_n$ are mutually independent random variables, then $E\\left(\\prod_{i=1}^{n} X_i\\right) = \\prod_{i=1}^{n} E(X_i)$.*"
   ]
  },
  {
   "cell_type": "markdown",
   "metadata": {},
   "source": [
    "***\n",
    "**21.** *The conditional expectation of the random variable $X$ given the event $A$ from the sample space $S$ is $E(X \\mid A) = \\sum_{r \\in X(S)} r \\cdot P(X = r \\mid A)$. What is expected value of the sum of the numbers appearing on two fair dice when they are rolled given that the sum of these numbers is at least nine. That is, what is $E(X \\mid A)$ where $X$ is the sum of the numbers appearing on the two dice and $A$ is the event that $X \\geq 9$?*\n",
    "\n",
    "$$\\frac{9\\cdot4+10\\cdot3+11\\cdot2+12\\cdot1}{4+3+2+1}=10$$"
   ]
  },
  {
   "cell_type": "markdown",
   "metadata": {},
   "source": [
    "***\n",
    "**22.** *The law of total expectation states that if the sample space $S$ is the disjoint union of the events $S_1, S_2, \\ldots, S_n$ and $X$ is a random variable, then $E(X) = \\sum_{j=1}^{n} E(X \\mid S_j) P(S_j)$. Prove the law of total expectations.*\n",
    "\n",
    "$E(X|S_j)=\\sum x_i P(x_i|S_j)$\n",
    "\n",
    "$\n",
    "\\sum E(X|S_j)P(S_j)\n",
    "=\\sum(\\sum x_i P(x_i|S_j)) P(S_j)\n",
    "=\\sum x_i(\\sum P(x_i|S_j) P(S_j))\n",
    "=\\sum x_i P(x_i)\n",
    "=E(X)\n",
    "$"
   ]
  }
 ],
 "metadata": {
  "language_info": {
   "name": "python"
  }
 },
 "nbformat": 4,
 "nbformat_minor": 2
}
