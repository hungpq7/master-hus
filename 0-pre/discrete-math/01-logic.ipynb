{
 "cells": [
  {
   "cell_type": "markdown",
   "metadata": {},
   "source": [
    "- [Textbook](https://faculty.ksu.edu.sa/sites/default/files/rosen_discrete_mathematics_and_its_applications_7th_edition.pdf)\n",
    "- [Python](https://colab.research.google.com/drive/1vGYrfTyTM2QF3bVeSj_UStaRKwkTFCCm#scrollTo=aSh0bpboPoVn)\n",
    "- [Calculator](https://www.desmos.com/scientific)"
   ]
  },
  {
   "cell_type": "markdown",
   "metadata": {},
   "source": [
    "## 1.1 - Propositional Logic\n",
    "- $\\neg$ negation\n",
    "- $\\land$ conjunction\n",
    "- $\\lor$ disjunction\n",
    "- $\\oplus$ exclusive or\n",
    "- $\\rightarrow$ condition\n",
    "- $\\leftrightarrow$ bi-condition\n",
    "\n",
    "|$x$|$y$|$x\\land y$|$x\\lor y$|$x\\oplus y$|$x\\rightarrow y$|$x\\leftrightarrow y$|\n",
    "|:-:|:-:|:--------:|:-------:|:---------:|:--------------:|:------------------:|\n",
    "|1  |1  |1         |1        |0          |1               |1                   |\n",
    "|1  |0  |0         |1        |1          |0               |0                   |\n",
    "|0  |1  |0         |1        |1          |1               |0                   |\n",
    "|0  |0  |0         |0        |0          |1               |1                   |."
   ]
  },
  {
   "cell_type": "markdown",
   "metadata": {},
   "source": [
    "***\n",
    "**32.** *Construct truth tables*\n",
    "\n",
    "a) $p \\rightarrow \\neg p$\\\n",
    "b) $p \\leftrightarrow \\neg p$\n",
    "\n",
    "|$p$|$\\neg p$|$p\\rightarrow\\neg p$|$p\\leftrightarrow\\neg p$|\n",
    "|:-:|:-:|:-:|:-:|\n",
    "|1|0|0|0|\n",
    "|0|1|1|0|\n",
    "\n",
    "c) $p \\oplus (p \\lor q)$\n",
    "\n",
    "|$p$|$q$|$p\\lor q$|$p\\oplus(p\\lor q)$|\n",
    "|:-:|:-:|:-:|:-:|\n",
    "|1|1|1|0|\n",
    "|1|0|1|0|\n",
    "|0|1|1|1|\n",
    "|0|0|0|0|\n",
    "\n",
    "d) $(p \\land q) \\rightarrow (p \\lor q)$\n",
    "\n",
    "|$p$|$q$|$p\\land q$|$p\\lor q$|$(p\\land q)\\rightarrow (p\\lor q)$|\n",
    "|:-:|:-:|:-:|:-:|:-:|\n",
    "|1|1|1|1|1|\n",
    "|1|0|0|1|1|\n",
    "|0|1|0|1|1|\n",
    "|0|0|0|0|1|\n",
    "\n",
    "e) $(q \\rightarrow \\neg p) \\leftrightarrow (p \\leftrightarrow q)$\n",
    "\n",
    "|$p$|$q$|$\\neg p$|$q\\rightarrow\\neg p$|$p\\leftrightarrow q$|$(q\\rightarrow\\neg p)\\oplus(p\\leftrightarrow q)$|\n",
    "|:-:|:-:|:-:|:-:|:-:|:-:|\n",
    "|1|1|0|0|1|1|\n",
    "|1|0|0|1|0|1|\n",
    "|0|1|1|1|0|1|\n",
    "|0|0|1|1|1|0|\n",
    "\n",
    "f) $(p \\leftrightarrow q) \\oplus (p \\leftrightarrow \\neg q)$\n",
    "\n",
    "|$p$|$q$|$\\neg q$|$p\\leftrightarrow q$|$p\\leftrightarrow\\neg q$|$(p\\leftrightarrow q)\\oplus(p\\leftrightarrow\\neg q)$|\n",
    "|:-:|:-:|:-:|:-:|:-:|:-:|\n",
    "|1|1|0|1|0|1|\n",
    "|1|0|1|0|1|1|\n",
    "|0|1|0|0|1|1|\n",
    "|0|0|1|1|0|1|"
   ]
  },
  {
   "cell_type": "markdown",
   "metadata": {},
   "source": [
    "***\n",
    "**33.** *Construct truth tables*\n",
    "\n",
    "a) $(p \\lor q) \\rightarrow (p \\oplus q)$\n",
    "\n",
    "b) $(p \\oplus q) \\rightarrow (p \\land q)$\n",
    "\n",
    "c) $(p \\lor q) \\oplus (p \\land q)$\n",
    "\n",
    "d) $(p \\leftrightarrow q) \\oplus (\\neg p \\leftrightarrow q)$\n",
    "\n",
    "e) $(p \\leftrightarrow q) \\oplus (\\neg p \\leftrightarrow \\neg r)$\n",
    "\n",
    "f) $(p \\oplus q) \\rightarrow (p \\oplus \\neg q)$"
   ]
  },
  {
   "cell_type": "markdown",
   "metadata": {},
   "source": [
    "***\n",
    "***48.** $p$ = \"This statement is false\" is not a statement because it is self-contradictory. In other words, its content and its value cannot be the same."
   ]
  },
  {
   "cell_type": "markdown",
   "metadata": {},
   "source": [
    "***\n",
    "***49.**\n",
    "*The $n^{th}$ statement in a list of 100 statements is \"Exactly $n$ of the statements in this list are false.\"`*\n",
    "\n",
    "*a) What conclusions can you draw from these statements?*\n",
    "\n",
    "100 statements are mutually exclusive $\\rightarrow$ number of true statements can only be 0 or 1.\\\n",
    "If the number of true statements is 0, then:\\\n",
    "$\\quad\\rightarrow$ there are $100$ false statements\\\n",
    "$\\quad\\rightarrow$ $p_{100}$ is true (conflict with its content)\\\n",
    "$\\quad\\rightarrow$ there are 1 true statement & 99 false statements\\\n",
    "$\\quad\\rightarrow$ $p_{99}$ is true, the rest are false\n",
    "\n",
    "*b) Answer part (a) if the $n^{th}$ statement is \"At least $n$ of the statements in this list are false.\"*\\\n",
    "*c) Answer part (b) assuming that the list contains 99 statements.*\n",
    "\n",
    "Denote $N$ the total number of statements is, $X$ the number of false statements. According to their contents, there are $X$ true statements from $p_1$ to $p_X$ $\\rightarrow$ there are $100-X$ false statements $\\rightarrow X=N-X \\rightarrow X=N/2$.\n",
    "- If $N=100$ then $X=50$.\n",
    "- If $N=99$ then $X$ does not exists."
   ]
  },
  {
   "cell_type": "markdown",
   "metadata": {},
   "source": [
    "## 1.2 - Applications of Propositional Logic"
   ]
  },
  {
   "cell_type": "markdown",
   "metadata": {},
   "source": [
    "***\n",
    "**33.**\n",
    "*Steve would like to determine the relative salaries of three coworkers using two facts. (1) if Fred is not the highest paid of the three, then Janice is. (2) if Janice is not the lowest paid, then Maggie is paid the most. Determine who is paid the most and who the least?*\n",
    "\n",
    "- Fact 1 $\\rightarrow$ Maggie is not #1\n",
    "- Fact 2 is a conditional statement + LHS is false $\\rightarrow$ fact 2 is true if only LHS is false $\\rightarrow$ Janice is #3.\n",
    "- Above inferences $\\rightarrow$ Maggie is #2 $\\rightarrow$ Fred is #1."
   ]
  },
  {
   "cell_type": "markdown",
   "metadata": {},
   "source": [
    "***\n",
    "**39.**\n",
    "*Freedonia has fifty senators. Each senator is either honest or corrupt. Suppose you know that (1) at least one of the Freedonian senators is honest and (2) given any two Freedonian senators, at least one is corrupt. Based on these facts, determine how many Freedonian senators are honest and how many are corrupt?*\n",
    "\n",
    "If there is a second honest senator then fact 2 is false. So, there can only exactly 1 honest senator, the rest are corrupt."
   ]
  },
  {
   "cell_type": "markdown",
   "metadata": {},
   "source": [
    "## 1.3 - Proposition Equivalances\n",
    "- $p\\land 1=p$\n",
    "- $p\\land 0=0$\n",
    "- $p\\lor 1=1$\n",
    "- $p\\lor 0=p$"
   ]
  },
  {
   "cell_type": "markdown",
   "metadata": {},
   "source": [
    "***\n",
    "**8.**\n",
    "*Use De Morgan’s laws to find the negation of each of the following statements.*\n",
    "- *Kwame will take a job in industry or go to graduate school.* $\\rightarrow$ Kwame will not take a job in industry and will not go to graduate school\n",
    "- *Yoshiko knows Java and calculus.* $\\rightarrow$ Yoshiko doesn't know Java or calculus\n",
    "- *James is young and strong.* $\\rightarrow$ James is not young or is not strong\n",
    "- *Rita will move to Oregon or Washington.* $\\rightarrow$ Rita will not move to Oregon and Washington"
   ]
  },
  {
   "cell_type": "markdown",
   "metadata": {},
   "source": [
    "***\n",
    "**30.**\n",
    "*Prove a compound statement is tautology*\n",
    "\n",
    "Variable|Bit|\n",
    ":-|:-|\n",
    "$p$                                               |$11110000$|\n",
    "$q$                                               |$11001100$|\n",
    "$r$                                               |$10101010$|\n",
    "$\\neg p$                                          |$00001111$|\n",
    "$(p\\lor q)$                                       |$11111100$|\n",
    "$(\\neg p\\lor r)\\equiv(p\\rightarrow r)$            |$10101111$|\n",
    "$(p\\lor q)\\land(\\neg p\\lor r)$                    |$10101100$|\n",
    "$(q\\lor r)$                                       |$11101110$|\n",
    "$(p\\lor q)\\land(\\neg p\\lor r)\\rightarrow(q\\lor r)$|$11111111$|"
   ]
  },
  {
   "cell_type": "markdown",
   "metadata": {},
   "source": [
    "***\n",
    "> **42.**\n",
    "*Suppose that a truth table in n propositional variables is specified. Show that a compound proposition with this truth table can be formed by taking the disjunction of conjunctions of the variables or their negations, with one conjunction included for each combination of values for which the compound proposition is true. The resulting compound proposition is said to be in disjunctive normal form*"
   ]
  },
  {
   "cell_type": "markdown",
   "metadata": {},
   "source": [
    "## 1.4 - Predicates and Quantifiers"
   ]
  },
  {
   "cell_type": "markdown",
   "metadata": {},
   "source": [
    "***\n",
    "**46.** *Establish logical equivalences*\n",
    "- $(\\forall x \\, P(x)) \\lor A \\equiv \\forall x \\, (P(x) \\lor A)$\n",
    "- $(\\exists x \\, P(x)) \\lor A \\equiv \\exists x \\, (P(x) \\lor A)$\n",
    "\n",
    "If $A=1$ then both sides are $1$. If $A=0$ then both sides are $\\forall xP(x)$ (part a) or $\\exists xP(x)$ (part b)"
   ]
  },
  {
   "cell_type": "markdown",
   "metadata": {},
   "source": [
    "***\n",
    "**47.** *Establish logical equivalences*\n",
    "- $(\\forall x \\, P(x)) \\land A \\equiv \\forall x \\, (P(x) \\land A)$\n",
    "- $(\\exists x \\, P(x)) \\land A \\equiv \\exists x \\, (P(x) \\land A)$\n",
    "\n",
    "If $A=0$ then both sides are $0$. If $A=1$ then both sides are $\\forall xP(x)$ (part a) or $\\exists xP(x)$ (part b)"
   ]
  },
  {
   "cell_type": "markdown",
   "metadata": {},
   "source": [
    "***\n",
    "**48.** *Establish logical equivalences*\n",
    "- $\\forall x \\, (A \\to P(x)) \\equiv A \\to \\forall x \\, P(x)$\n",
    "- $\\exists x \\, (A \\to P(x)) \\equiv A \\to \\exists x \\, P(x)$"
   ]
  },
  {
   "cell_type": "markdown",
   "metadata": {},
   "source": [
    "***\n",
    "**49.** *Establish logical equivalences*\n",
    "\n",
    "a) $\\forall x \\, (P(x) \\to A) \\equiv \\exists x \\, P(x) \\to A$\n",
    "\n",
    "If $A=1$ then both side are $1$. Consider $A=0$, eg all squares < 0\n",
    "- If $P(x)=0$ for every $x$, eg $x^4<-7$\n",
    "    - $P(x)\\rightarrow A=1$, so LHS is $1$\n",
    "    - $\\exists xP(x)=0$, so RHS is $1$\n",
    "- If $P(x)=1$ for some $x$, let's say at $x=x_0$, eg $x<7$\n",
    "    - $P(x_0)\\rightarrow A=0$, so LHS is $0$ (there is 1 false case)\n",
    "    - $\\exists xP(x)=1$, so RHS is $0$\n",
    "\n",
    "b) $\\exists x \\, (P(x) \\to A) \\equiv \\forall x \\, P(x) \\to A$\n",
    "\n",
    "If $A=1$ then both side are $1$. Consider $A=0$, eg all squares < 0.\n",
    "- If $P(x)=0$ for some $x$, let's say at $x=x_0$, eg $x<7$\n",
    "    - $P(x_0)\\rightarrow A=1$, so LHS is $1$\n",
    "    - $\\forall xP(x)=0$, so RHS is $1$\n",
    "- If $P(x)=1$ for every $x$, eg $x^4\\geq0$\n",
    "    - $P(x)\\rightarrow A=0$, so LHS is $0$\n",
    "    - $\\forall xP(x)=1$, so RHS is $0$\n",
    "\n",
    "---"
   ]
  },
  {
   "cell_type": "markdown",
   "metadata": {},
   "source": [
    "## 1.5 - Nested Quantifiers"
   ]
  },
  {
   "cell_type": "markdown",
   "metadata": {},
   "source": [
    "***\n",
    "> **47.**\n",
    "*Show that the two statements $\\neg \\exists x \\forall y P(x, y)$ and $\\forall x \\exists y \\neg P(x, y)$, where both quantifiers over the first variable in $P(x, y)$ have the same domain, and both quantifiers over the second variable in $P(x, y)$ have the same domain, are logically equivalent.*"
   ]
  },
  {
   "cell_type": "markdown",
   "metadata": {},
   "source": [
    "***\n",
    "> ***48.**\n",
    "*Show that $\\forall x P(x) \\lor \\forall x Q(x)$ and $\\forall x \\forall y (P(x) \\lor Q(y))$, where all quantifiers have the same nonempty domain, are logically equivalent. (The new variable $y$ is used to combine the quantifications correctly.)*"
   ]
  },
  {
   "cell_type": "markdown",
   "metadata": {},
   "source": [
    "***\n",
    "> ***49.**\n",
    "\n",
    "*a) Show that $\\forall x P(x) \\land \\exists x Q(x)$ is logically equivalent to $\\forall x \\exists y (P(x) \\land Q(y))$, where all quantifiers have the same nonempty domain.*\n",
    "\n",
    "*b) Show that $\\forall x P(x) \\lor \\exists x Q(x)$ is equivalent to $\\forall x \\exists y (P(x) \\lor Q(y))$, where all quantifiers have the same nonempty domain.*"
   ]
  },
  {
   "cell_type": "markdown",
   "metadata": {},
   "source": [
    "## 1.6 - Rules of Inference"
   ]
  },
  {
   "cell_type": "markdown",
   "metadata": {},
   "source": [
    "***\n",
    "> **13.**\n",
    "*For each of these arguments, explain which rules of inference are used for each step.*\n",
    "\n",
    "*a) \"Doug, a student in this class, knows how to write programs in JAVA. Everyone who knows how to write programs in JAVA can get a high-paying job. Therefore, someone in this class can get a high-paying job.\"*\n",
    "\n",
    "*b) \"Somebody in this class enjoys whale watching. Every person who enjoys whale watching cares about ocean pollution. Therefore, there is a person in this class who cares about ocean pollution.\"*\n",
    "\n",
    "*c) \"Each of the 93 students in this class owns a personal computer. Everyone who owns a personal computer can use a word processing program. Therefore, Zeke, a student in this class, can use a word processing program.\"*\n",
    "\n",
    "*d) \"Everyone in New Jersey lives within 50 miles of the ocean. Someone in New Jersey has never seen the ocean. Therefore, someone who lives within 50 miles of the ocean has never seen the ocean.\"*\n"
   ]
  },
  {
   "cell_type": "markdown",
   "metadata": {},
   "source": [
    "***\n",
    "> **19.**\n",
    "*Determine whether each of these arguments is valid. If an argument is correct, what rule of inference is being used? If it is not, what logical error occurs?*\n",
    "\n",
    "*a) If $n$ is a real number such that $n > 1$, then $n^2 > 1$. Suppose that $n^2 > 1$. Then $n > 1$.*\n",
    "\n",
    "*b) If $n$ is a real number with $n > 3$, then $n^2 > 9$. Suppose that $n^2 \\leq 9$. Then $n \\leq 3$.*\n",
    "\n",
    "*c) If $n$ is a real number with $n > 2$, then $n^2 > 4$. Suppose that $n \\leq 2$. Then $n^2 \\leq 4$.*\n"
   ]
  }
 ],
 "metadata": {
  "language_info": {
   "name": "python"
  }
 },
 "nbformat": 4,
 "nbformat_minor": 2
}
