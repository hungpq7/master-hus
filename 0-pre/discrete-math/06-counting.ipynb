{
 "cells": [
  {
   "cell_type": "markdown",
   "metadata": {},
   "source": [
    "- [Textbook](https://faculty.ksu.edu.sa/sites/default/files/rosen_discrete_mathematics_and_its_applications_7th_edition.pdf)\n",
    "- [Python](https://colab.research.google.com/drive/1vGYrfTyTM2QF3bVeSj_UStaRKwkTFCCm#scrollTo=aSh0bpboPoVn)\n",
    "- [Calculator](https://www.desmos.com/scientific)"
   ]
  },
  {
   "cell_type": "markdown",
   "metadata": {},
   "source": [
    "## 6.1 - The Basics of Counting"
   ]
  },
  {
   "cell_type": "markdown",
   "metadata": {},
   "source": [
    "***\n",
    "**1.**\n",
    "*There are 18 mathematics majors and 325 computer science majors at a college.*\n",
    "- *In how many ways can two representative be picked so that one is a mathematics major and the other is a computer science major?** $18*325=5850$\n",
    "- *In how many ways can one representative be picked who is either a mathematics major or a computer science major?* $18+325=343$"
   ]
  },
  {
   "cell_type": "markdown",
   "metadata": {},
   "source": [
    "***\n",
    "**17.**\n",
    "*How many strings of five ASCII characters contain the character @ (\"at\" sign) at least once? (Note: There are 128 different ASCII characters).*\n",
    "\n",
    "- Number of strings of length 5: $128^5$\n",
    "- Number of strings of length 5 without @: $127^5$\n",
    "- Answer = $128^5-127^5=1321368961$"
   ]
  },
  {
   "cell_type": "markdown",
   "metadata": {},
   "source": [
    "***\n",
    "**18.**\n",
    "*How many 5-element DNA sequences*\n",
    "- *end with A?* `****A` $\\rightarrow4^4=256$\n",
    "- *start with T and end with G?* `T***G` $\\rightarrow4^3=64$\n",
    "- *contain only A and T?* $2^5=32$\n",
    "- *do not contain C?* $3^5=243$"
   ]
  },
  {
   "cell_type": "markdown",
   "metadata": {},
   "source": [
    "***\n",
    "**19.**\n",
    "*How many 6-element RNA sequences*\n",
    "- *do not contain U?* $3^6=729$\n",
    "- *end with GU?* `****GU` $\\rightarrow4^4=256$\n",
    "- *start with C?* `C*****` $\\rightarrow4^5=1024$\n",
    "- *contain only A or U?* $2^6=64$"
   ]
  },
  {
   "cell_type": "markdown",
   "metadata": {},
   "source": [
    "***\n",
    "**24.** *How many positive integers between 1000 and 9999 inclusive*\n",
    "\n",
    "a)\n",
    "- *are divisible by 9?* $(9999-1008)/9+1=1000$\n",
    "- are even? $(9998-1000)/2+1=4500$ or $9\\cdot10\\cdot10\\cdot5=4500$\n",
    "- have distinct digits? $9\\cdot8\\cdot8\\cdot7=4536$ (must go left-to-right, the other direction causes cases)\n",
    "- are not divisible by 3? $(9999-1000)-(9999-1002)/3=6000$\n",
    "\n",
    "b)\n",
    "- are divisible by 5? $(9995-1000)/5+1=1800$\n",
    "- are divisible by 7? $(9996-1001)/7+1=1286$\n",
    "- are divisible by 5 and 7? $(9975-1015)/35+1=257$\n",
    "- are divisible by 5 or 7? $1800+1286-257=2829$\n",
    "- are not divisible by either 5 or 7? $9000-2829=6171$\n",
    "- are divisible by 5 but not by 7? $1800-257=1543$"
   ]
  },
  {
   "cell_type": "markdown",
   "metadata": {},
   "source": [
    "***\n",
    "***50.**\n",
    "*How many bit strings of length 10 contain either five consecutive 0s or five consecutive 1s?*\n",
    "\n",
    "Consider where the first `1` of the consecutive sequence starts\n",
    "\n",
    "- Start at position 1: `11111xxxxx` $\\to$ $2^5=32$ possibilities\n",
    "- Start at position 2: `011111xxxx` $\\to$ $2^4=16$ possibilities\n",
    "- Start at position 3: `x011111xxx` $\\to$ $2^4=16$ possibilities\n",
    "- Start at position 4: `xx011111xx` $\\to$ $2^4=16$ possibilities\n",
    "- Start at position 5: `xxx011111x` $\\to$ $2^4=16$ possibilities\n",
    "- Start at position 6: `xxxx011111` $\\to$ $2^4=16$ possibilities\n",
    "\n",
    "So there are $32+16\\cdot5=112$ strings contains `11111`, the same for number of strings containing `00000`.\\\n",
    "There are 2 strings contains both, so final result is $112\\cdot2-2=222$"
   ]
  },
  {
   "cell_type": "markdown",
   "metadata": {},
   "source": [
    "## 6.2 - The Pigeonhole Principle"
   ]
  },
  {
   "cell_type": "markdown",
   "metadata": {},
   "source": [
    "***\n",
    "**3.**\n",
    "*A drawer contains a dozen brown socks and a dozen black socks, all unmatched. A man takes socks out at random in the dark. How many socks must he take out to be sure that:*\n",
    "- *at least two socks of the same color?* - Worst case: 1 black 1 brown $\\to$ need one more $\\to$ total 3 socks\n",
    "- *at least two black socks?* - Worst case: 12 brown 1 black $\\to$ need one more $\\to$ total 14 socks"
   ]
  },
  {
   "cell_type": "markdown",
   "metadata": {},
   "source": [
    "***\n",
    "**11.**\n",
    "*Let $(x_i, y_i, z_i), i = 1, 2, 3, 4, 5, 6, 7, 8, 9,$ be a set of nine distinct points with integer coordinates in $xyz$ space. Show that the midpoint of at least one pair of these points has integer coordinates.*\n",
    "\n",
    "Mid point of $P_i$ and $P_j$ has integer coordinates if only $(x_i,x_j)$, $(y_i,y_j)$, $(z_i,z_j)$ all 3 pairs must have the same parity. Each pair has 2 possibilities: same parity or different parity. So 3 pairs have $2^3=8$ possibilities. There are 9 points, so there must be at least $\\lceil 9/8 \\rceil=2$ points having all 3 pair of coordinates sharing the same parity."
   ]
  },
  {
   "cell_type": "markdown",
   "metadata": {},
   "source": [
    "***\n",
    "**12.**\n",
    "*How many ordered pairs of integers $(a, b)$ are needed to guarantee that there are two ordered pairs $(a_1, b_1)$ and $(a_2, b_2)$ such that $a_1 \\mod 5 = a_2 \\mod 5$ and $b_1 \\mod 5 = b_2 \\mod 5$?*\n",
    "\n",
    "Every integer when dividing by 5 can have 5 possibilities $\\to$ a pair of integers have $5^2=25$ possibilities. So we need at least $26$ pairs."
   ]
  },
  {
   "cell_type": "markdown",
   "metadata": {},
   "source": [
    "***\n",
    "**18.**\n",
    "*Suppose that there are 9 students in a discrete mathematics class at a small college.*\n",
    "- *Show that the class must have at least 5 male students or at least 5 female students.*\n",
    "- *Show that the class must have at least 3 male students or at least 7 female students.*\n",
    "\n",
    "Assume num of males $<m$ and num of females $<n$ ($m+n=10$)\\\n",
    "$\\to$ num of males $\\leq m-1$ and num of females $\\leq n-1$ \\\n",
    "$\\to$ total students $\\leq m-1+n-1=8$"
   ]
  },
  {
   "cell_type": "markdown",
   "metadata": {},
   "source": [
    "***\n",
    "> **39.**\n",
    "*Find the least number of cables required to connect 100 computers to 20 printers to guarantee that every subset of 20 computers can directly access 20 different printers. (Here, the assumptions about cables and computers are the same as in Example 9.) Justify your answer.*"
   ]
  },
  {
   "cell_type": "markdown",
   "metadata": {},
   "source": [
    "## 6.3 - Permutation and Combination"
   ]
  },
  {
   "cell_type": "markdown",
   "metadata": {},
   "source": [
    "***\n",
    "**12.**\n",
    "*How many bit strings of length 12 contain*\n",
    "- *exactly three 1s?* $C(12,3)=220$\n",
    "- *at most three 1s?* $C(12,0)+C(12,1)+C(12,2)+C(12,3)=299$\n",
    "- *at least three 1s?* $2^{12}-299+220=4017$\n",
    "- *an equal number of 0s and 1s?* $C(12,6)=926$"
   ]
  },
  {
   "cell_type": "markdown",
   "metadata": {},
   "source": [
    "***\n",
    "**16.**\n",
    "*How many subsets with an odd number of elements does a set with 10 elements have?*\n",
    "\n",
    "$C(10,1)+C(10,3)+C(10,5)+C(10,7)+C(10,9)=512$"
   ]
  },
  {
   "cell_type": "markdown",
   "metadata": {},
   "source": [
    "***\n",
    "**18.**\n",
    "*A coin is flipped eight times where each flip comes up either heads or tails. How many possible outcomes*\n",
    "- *are there in total?* $2^8=256$\n",
    "- *contain exactly three heads?* $C(8,3)=56$\n",
    "- *contain at least three heads?* $256-C(8,0)-C(8,1)-C(8,2)=219$\n",
    "- *contain the same number of heads and tails?* $C(8,4)=70$"
   ]
  },
  {
   "cell_type": "markdown",
   "metadata": {},
   "source": [
    "***\n",
    "**22.**\n",
    "*How many permutations of the letters ABCDEFGH contain*\n",
    "- *the string ED?* $(8-2+1)!=7!=5040$\n",
    "- *the string CDE?* $(8-3+1)!=6!=720$\n",
    "- *the strings BA and FGH?* $(8-5+2)!=5!=120$\n",
    "- *the strings AB, DE, and GH?* $(8-6+3)!=5!=120$\n",
    "- *the strings CAB and BED?* $(8-6+2)!=4!=24$\n",
    "- *the strings BCA and ABF?* $0$"
   ]
  },
  {
   "cell_type": "markdown",
   "metadata": {},
   "source": [
    "***\n",
    "**28.**\n",
    "*A professor writes 40 discrete mathematics true/false questions. Of the statements in these questions, 17 are true. If the questions can be positioned in any order, how many different answer keys are possible?*\n",
    "\n",
    "$C(40,17)$"
   ]
  },
  {
   "cell_type": "markdown",
   "metadata": {},
   "source": [
    "***\n",
    "***29.**\n",
    "*How many 4-permutations of the positive integers not exceeding 100 contain three consecutive integers $k, k + 1, k + 2$, in the correct order*\n",
    "\n",
    "*b) where they are in consecutive positions in the permutation?*\n",
    "- $(k,k+1,k+2,x)$ and $k=1,\\ldots,98$. For each $k$ there can be $97$ possibilities of $x$ $\\to97\\times98$.\n",
    "- $(x,k,k+1,k+2)$ we should excludes 4 consecutives as they have already been in the first calculation. So $x\\neq k-1$, which cannot happens for $k=1$. So $97$ possibilities of $x$ when $k=1$ and $96$ possibilities of $x$ when $k=2,\\ldots,98$ $\\to97+96\\times 97=97^2$\n",
    "- Total: $97\\times 98+97^2=97\\times 195=18,915$\n",
    "\n",
    "*a) where these consecutive integers can perhaps be separated by other integers in the permutation?*\n",
    "- $(k,x,k+1,k+2)$. There are $98$ values of $k$ and $97$ values of $x$ $\\to 97\\cdot98$\n",
    "- $(k,k+1,x,k+2)$. Same $x$ $\\to 97\\times98$\n",
    "- Total: $18,915+97\\times98\\times2=37,927$"
   ]
  },
  {
   "cell_type": "markdown",
   "metadata": {},
   "source": [
    "## 6.4 - Binomial Coefficients and Identity"
   ]
  },
  {
   "cell_type": "markdown",
   "metadata": {},
   "source": [
    "***\n",
    "**10.**\n",
    "*Give a formula for the coefficient of $x^k$ in the expansion of $\\left(x + \\frac{1}{x}\\right)^{100}$, where $k$ is an integer.*\n",
    "\n",
    "$\\displaystyle{\n",
    "    \\left( x+x^{-1} \\right)^{100}\n",
    "    = \\sum_{i=1}^{100}{ C_i^{100} x^{i}x^{-(100-i)} }\n",
    "    = \\sum_{i=1}^{100}{ C_i^{100} x^{2i-100} }\n",
    "}$\n",
    "\n",
    "- Assume $k=2i-100$. Note that $1\\leq i \\leq 100$.\n",
    "- So for $k=-100,-98,\\ldots,98,100$, coefficient of $x^k$ is $C_i^{100}=C_{k/2+50}^{100}$\n",
    "- For $k>100$ or $k<-100$ or $k$ is an odd number, $x^k$ does not appear in the expansion, therefore its coefficient is $0$"
   ]
  },
  {
   "cell_type": "markdown",
   "metadata": {},
   "source": [
    "***\n",
    "***11.**\n",
    "*Give a formula for the coefficient of $x^k$ in the expansion of $\\left(x^2 - \\frac{1}{x}\\right)^{100}$, where $k$ is an integer.*\n",
    "\n",
    "$\\displaystyle{\n",
    "    (x^2-x^{-1})^{100}\n",
    "    = \\sum_{i=1}^{100}{ -(-1)^i C_i^{100}x^{2i}x^{-(100-i)} }\n",
    "    = \\sum_{i=1}^{100}{ -(-1)^i C_i^{100}x^{3i-100}} \n",
    "}$"
   ]
  },
  {
   "cell_type": "markdown",
   "metadata": {},
   "source": [
    "- Assume $k=3i-100$, not that $1\\leq i \\leq 100$\n",
    "- So, for $k=-97,-94,\\ldots,197,200$, coefficient of $x^k$ is $-(-1)^i C_i^{100} = -(-1)^{(k+100)/3} C_{(k+100)/3}^{100}$\n",
    "- Otherwise, coeficient is $0$"
   ]
  },
  {
   "cell_type": "markdown",
   "metadata": {},
   "source": [
    "***\n",
    "**12.**\n",
    "*Use Pascal’s identity to produce the row immediately following this row in Pascal’s triangle. The row of Pascal’s triangle containing the binomial coefficients $\\binom{10}{k}, 0 \\leq k \\leq 10$, is:*\n",
    "\n",
    "$$1 \\quad 10 \\quad 45 \\quad 120 \\quad 210 \\quad 252 \\quad 210 \\quad 120 \\quad 45 \\quad 10 \\quad 1$$\n",
    "$$1 \\quad 11 \\quad 55 \\quad 165 \\quad 330 \\quad 462 \\quad 462 \\quad 330 \\quad 165 \\quad 55 \\quad 11 \\quad 1$$"
   ]
  },
  {
   "cell_type": "markdown",
   "metadata": {},
   "source": [
    "***\n",
    "> **16.**\n",
    "\n",
    "*a) Use Exercise 14 and Corollary 1 to show that if $n$ is an integer greater than 1, then $\\binom{n}{\\lfloor n/2 \\rfloor} \\geq 2^n/n$.*\n",
    "\n",
    "*b) Conclude from part (a) that if $n$ is a positive integer, then $\\binom{2n}{n} \\geq 4^n/2n$.*"
   ]
  },
  {
   "cell_type": "markdown",
   "metadata": {},
   "source": [
    "***\n",
    "***27.**\n",
    "*Prove the hockeystick identity whenever $n$ and $r$ are positive integers*\n",
    "$$\n",
    "\\sum_{k=0}^{r} \\binom{n + k}{k} = \\binom{n + r + 1}{r}\n",
    "$$\n",
    "\n",
    "*a) using a combinatorial argument.*\n",
    "- RHS: Imagine a bit string having $r$ 0s and $n+1$ 1s. Then there are $C(n+r+1,r)$ ways organizing such bit strings.\n",
    "- LHS: Assume there are $r-k$ consecutive 0s at the end of the string, then $k=0,1,\\ldots,r$. There also must be at least one 1 right before the 0-sequence. So, we only care about $k$ 0s and $n$ 1s left, resulting in $C(n+k,k)$ combinations of such strings. Using sum rule, we end up have $\\sum_{k=0}^{r}{C(n+k,k)}$ satisfied strings.\n",
    "\n",
    "*b) using Pascal’s identity.* $C(n-1,k-1)+C(n-1,k)=C(n,k)$\n",
    "\n",
    "$\\begin{aligned}\n",
    "& \\binom{n+r+1}{r} \\\\\n",
    "&= \\binom{n+r}{r}+\\binom{n+r}{r-1} \\\\\n",
    "&= \\binom{n+r}{r}+\\binom{n+r-1}{r-1}+\\binom{n+r-1}{r-2} \\\\\n",
    "&= \\binom{n+r}{r}+\\binom{n+r-1}{r-1}+\\ldots+\\binom{n+1}{1}+\\binom{n+1}{0} \\\\\n",
    "&= \\binom{n+r}{r}+\\binom{n+r-1}{r-1}+\\ldots+\\binom{n+1}{1}+\\binom{n+0}{0} \\\\\n",
    "\\end{aligned}$"
   ]
  },
  {
   "cell_type": "markdown",
   "metadata": {},
   "source": [
    "***\n",
    "**33.**\n",
    "*In this exercise we will count the number of paths in the $xy$ plane between the origin $(0, 0)$ and point $(m, n)$, where $m$ and $n$ are nonnegative integers, such that each path is made up of a series of steps, where each step is a move one unit to the right or a move one unit upward. (No moves to the left or downward are allowed.) Two such paths from $(0, 0)$ to $(5, 3)$ are illustrated here.*\n",
    "\n",
    "*a) Show that each path of the type described can be represented by a bit string consisting of $m$ 0s and $n$ 1s, where a 0 represents a move one unit to the right and a 1 represents a move one unit upward.* When moving to the right total of $m$ times and moving upward total of $n$ times, we end up positioning at coordinate $(m,n)$, order doesn't matter. By representing movement with a bit string consisting of $m$ 0s and $n$ 1s, we are presenting every possibilities.\n",
    "\n",
    "*b) Conclude from part (a) that there are $C(m+n,n)$ paths of the desired type.* There $m+n$ positions, in which $n$ positions can be allocated to 1s, so there will be $C(m+n,n)$ paths."
   ]
  }
 ],
 "metadata": {
  "language_info": {
   "name": "python"
  }
 },
 "nbformat": 4,
 "nbformat_minor": 2
}
