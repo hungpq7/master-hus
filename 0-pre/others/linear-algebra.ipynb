{
 "cells": [
  {
   "cell_type": "markdown",
   "metadata": {},
   "source": [
    "QR decomposition\n",
    "\n",
    "#### Household transformation\n",
    "- Các phép biến đổi tuyến tính: tịnh tiến, đối xứng, xoay\n",
    "- Cho vector v != 0, kích thước R^m, Tìm ma trận trực giao Q sao cho: Qx đối xứng với x qua span(v).\n",
    "- Phép chiếu x bất kỳ trên span(v): $P=vv^T/v^Tv$\n",
    "- Do tính chất đối xứng nên $x+Qx=2Px=(2P-I)x$\n",
    "- A=QR mục đích là tạo ra ma trận tam giác trên R, nên Q thường ko thực sự được tính\n",
    "- Q có thể nhìn nhận thành 1 chuỗi Q1, Q2,... mỗi ma trận khử 1 cột để lần lượt tạo ra R\n",
    "- bài toán 2: tìm ma trận lấy đối xứng v. Có thể chuẩn hoá: v/vTv để xác định u.\n",
    "- Biến đổi Givens dựa trên phép quay\n",
    "- Phép quay góc phi: e^(i phi) = cos phi + i sin phi"
   ]
  }
 ],
 "metadata": {
  "language_info": {
   "name": "python"
  }
 },
 "nbformat": 4,
 "nbformat_minor": 2
}
