{
  "cells": [
    {
      "cell_type": "markdown",
      "metadata": {
        "id": "wfB-SUKYAasY"
      },
      "source": [
        "## Question 2.11\n",
        "In Sect. 2.7, an interpretation for a model with systematic component $μ = E[log(y)] = β_0 + β_1x$ was discussed.\n",
        "1. Use a Taylor series expansion of $log(y)$ about $μ = E[y]$.\n",
        "2. Find the expected value of both sides of this equation, and hence show that $E[log(y)] ≈ log(E[y]) = log(μ)$.\n",
        "3. Using this information, show that an increase in the value of $x$ by $1$ is associated (approximately) with a change in $μ$ by a factor of $exp(β_1)$.\n"
      ]
    },
    {
      "cell_type": "markdown",
      "metadata": {
        "id": "nlgHqgwAYM86"
      },
      "source": [
        "### Answer to 2.11, 1\n",
        "***Use a Taylor series expansion of  $log(y)$  about  $μ=E[y]$.***\n",
        "\n",
        "We already saw how to do Taylor expansion in the previous question.  So let's plug-and-chug.\n",
        "\n",
        "NOTE that we'll use the natural log, so I'll give my answers in terms of $ln$ instead of $log$.\n",
        "\n",
        "> $f(y) = ln(y) = f(\\mu) + f'(\\mu)(y - \\mu) + f''(\\mu)(y - \\mu)^2 + ...$\n",
        "\n",
        "> $= ln(\\mu) + \\frac{1}{\\mu}(y - \\mu) - \\frac{1}{2\\mu^2}(y - \\mu)^2 + ...$"
      ]
    },
    {
      "cell_type": "markdown",
      "metadata": {
        "id": "B-7zaMQYaHXS"
      },
      "source": [
        "### Answer to 2.11, 2\n",
        "***Find the expected value of both sides of this equation, and hence show that $E[log(y)] ≈ log(E[y]) = log(μ)$.***\n",
        "\n",
        "We'll start by taking the expectation of each term.\n",
        "\n",
        "> $E[ln(y)] = E[ln(\\mu)] + E[\\frac{1}{\\mu}(y-\\mu)] - E[\\frac{1}{2\\mu^2}(y-\\mu)^2] + ...$\n",
        "\n",
        "Since $\\mu$ and $ln(\\mu)$ are constants, we get\n",
        "\n",
        "> $E[ln(y)] = ln(\\mu) + \\frac{1}{\\mu}E[(y-\\mu)] - \\frac{1}{2\\mu^2}E[(y-\\mu)^2] + ...$\n",
        "\n",
        "Interestingly, $E[(y-\\mu)]=0$ and $E[(y-\\mu)^2] = var(y)$ such that we're left with\n",
        "\n",
        "> $E[ln(y)] = ln(\\mu) - \\frac{1}{2\\mu^2}var(y) + ...$\n",
        "\n",
        "In other words,\n",
        "\n",
        "> $E[ln(y)] \\approx ln(\\mu)$\n",
        "\n",
        "which is what we're meant to show."
      ]
    },
    {
      "cell_type": "markdown",
      "metadata": {
        "id": "jOz52jkYeeUg"
      },
      "source": [
        "### Answer to 2.11, 3\n",
        "***Using this information, show that an increase in the value of $x$ by $1$ is associated (approximately) with a change in $μ$ by a factor of $exp(β_1)$.***\n",
        "\n",
        "Given that $E[ln(y)] \\approx ln(\\mu) \\approx \\beta_0 + \\beta_1x$, a 1-unit increase in $x$ causes a $\\beta_1$ change to $ln(\\mu)$.  But we're meant to show the change to $\\mu$ (not $ln(\\mu)$).\n",
        "\n",
        "To do this, we can inverse the natural log by exponentiating both sides of the equation.\n",
        "\n",
        "> $e^{(ln(\\mu))} = \\mu = e^{(\\beta_0 + \\beta_1x)} = e^{\\beta_0} \\times e^{\\beta_1x}$\n",
        "\n",
        "So a one-unit increase in $x$ **multiplicatively** increases $\\mu$ by a factor of $e^{\\beta_1}$.  For instance, take $\\mu_0$ to be $\\mu$ when $x=2$ such that $\\mu_0 = e^{\\beta_0} \\times e^{2\\beta_1}$.  Now take $\\mu_1$ to be $\\mu$ when $x=3$ such that $\\mu_1 = e^{\\beta_0} \\times e^{3\\beta_1}$.  Then $\\frac{\\mu_1}{\\mu_0} = \\frac{e^{\\beta_0} \\times e^{3\\beta_1}}{e^{\\beta_0} \\times e^{2\\beta_1}} = e^{\\beta_1}$"
      ]
    },
    {
      "cell_type": "markdown",
      "metadata": {
        "id": "jkW7IDKnHOH2"
      },
      "source": [
        "## Question 2.12\n",
        "Using R, produce a vector of 30 random numbers $y$ from a standard normal distribution (use `rnorm()`). Generate a second vector of 30 random numbers $x$ from a standard normal distribution. Find the P-value for testing if the explanatory variable $x$ is significantly related to $y$ using the regression model `lm(y ~ x)`.\n",
        "\n",
        "Repeat the process a large number of times, say 1000 times. What proportion of the P-values are less than 5%? Less than 10%? What is the lesson?\n",
        "\n",
        "### Answer\n",
        "To execute this we'll run the model through a for-loop."
      ]
    },
    {
      "cell_type": "code",
      "execution_count": null,
      "metadata": {
        "id": "lbkmnqOuHuBg",
        "vscode": {
          "languageId": "r"
        }
      },
      "outputs": [],
      "source": [
        "pvalues <- numeric(length=1000)\n",
        "\n",
        "for(i in 1:1000){\n",
        "  x <- rnorm(30)\n",
        "  y <- rnorm(30)\n",
        "\n",
        "  m <- lm(y ~ 0+x)\n",
        "\n",
        "  pvalues[i] <- summary(m)$coef[,4]\n",
        "}"
      ]
    },
    {
      "cell_type": "markdown",
      "metadata": {
        "id": "whVmuLf5IsHC"
      },
      "source": [
        "Here's the important thing to understand here.  We know that there is no relationship between `x` and `y` BECAUSE WE MADE THE DATA SUCH THAT THEY ARE INDEPENDENT.  Having said that, How many p-values should we expect to be $\\le 0.05$? $\\le 0.10$?\n",
        "\n",
        "To answer, remember what p-values represent, the probability of our null distribution generating data like that which we found.  So we should ~5% of our p-values to be $\\le 0.05$ and 10% of our pvalues to be $\\le 0.10$.  "
      ]
    },
    {
      "cell_type": "code",
      "execution_count": null,
      "metadata": {
        "colab": {
          "base_uri": "https://localhost:8080/",
          "height": 472
        },
        "id": "j8U6aXdmIhJp",
        "outputId": "5ab37d70-35f1-4d1e-ca10-0958adf87fea",
        "vscode": {
          "languageId": "r"
        }
      },
      "outputs": [
        {
          "data": {
            "text/html": [
              "0.055"
            ],
            "text/latex": [
              "0.055"
            ],
            "text/markdown": [
              "0.055"
            ],
            "text/plain": [
              "[1] 0.055"
            ]
          },
          "metadata": {},
          "output_type": "display_data"
        },
        {
          "data": {
            "text/html": [
              "0.115"
            ],
            "text/latex": [
              "0.115"
            ],
            "text/markdown": [
              "0.115"
            ],
            "text/plain": [
              "[1] 0.115"
            ]
          },
          "metadata": {},
          "output_type": "display_data"
        },
        {
          "data": {
            "image/png": "[encoded data removed]",
            "text/plain": [
              "Plot with title “Histogram of pvalues”"
            ]
          },
          "metadata": {
            "image/png": {
              "height": 420,
              "width": 420
            }
          },
          "output_type": "display_data"
        }
      ],
      "source": [
        "hist(pvalues, breaks=20); abline(v=0.05, col=\"red\"); abline(v=0.10, col=\"red\", lty=2)\n",
        "\n",
        "sum(pvalues < 0.05) / length(pvalues)\n",
        "sum(pvalues < 0.10) / length(pvalues)"
      ]
    },
    {
      "cell_type": "markdown",
      "metadata": {
        "id": "AAhTdBP4KAub"
      },
      "source": [
        "Indeed, this is what we find.  What's the lesson? I guess there's a few.  \n",
        "1. For one null-hypothesis significance tests (NHST) do NOT test the experimental hypothesis but rather the null hypothesis.  \n",
        "2. Rejected null hypotheses remain suspect.  To properly test a hypothesis, many controls must be in place, the result should be replicated several times, and test in several ways, and tested in different contexts (people, equipment, location, etc.).\n",
        "3. A large number of NHSTs will lead to false rejections."
      ]
    },
    {
      "cell_type": "markdown",
      "metadata": {
        "id": "3ShuYSPagRbd"
      },
      "source": [
        "## Question 2.13\n",
        "A study exposed sleeping people (males and females) of various ages to four different fire cues (a crackling noise, a shuffling noise, a flickering light, an unpleasant smell), and recorded the response time (in seconds) for the people to wake. Use the partially complete ANOVA table (Table 2.7) to answer the following questions.\n",
        "\n",
        "1. Determine the degrees of freedom omitted from Table 2.7.\n",
        "2. Determine how many observations were used in the analysis.\n",
        "3. Find an unbiased estimate of $σ^2$.\n",
        "4. Determine which explanatory variables are statistically significant for predicting response time, using sequential F-tests.\n",
        "5. The analysed data are for participants who actually woke during the experiment; some failed to wake at all and were omitted from the analysis. Explain how this affects the interpretation of the results.\n",
        "6. Compute the aic for the three nested models implied by Table 2.7. What model is suggested by the aic?\n",
        "7. Compute the bic for the three nested models implied by Table 2.7. What model is suggested by the bic?\n",
        "8. Compute $R^2$ and the adjusted $R^2$ for the three models implied by Table 2.7. What model is suggested by the $R^2$ and the adjusted $R^2$?\n",
        "9. Compare the models suggested by the anova table, the aic, the bic, $R^2$ and the adjusted $R^2$. Comment.\n",
        "\n",
        "\\\n",
        "\n",
        "**Table 2.7**\n",
        "\n",
        "| Source of Variation | df | SS |\n",
        "|---------------------|----|----|\n",
        "| Cue | ? | 117,793|\n",
        "| Sex | ? | 2,659 |\n",
        "| Age | 3 | 22,850 |\n",
        "| Residual | 60 | 177,639 |"
      ]
    },
    {
      "cell_type": "markdown",
      "metadata": {
        "id": "f4mNP7aIhbi4"
      },
      "source": [
        "### Answer to 2.13, 1\n",
        "***Determine the degrees of freedom omitted from Table 2.7.***\n",
        "\n",
        "We have 4 cues and 2 sexes.  Our basic equation for the degrees of freedom for a factor with $levels = l$ is $df = l-1$.  So here, $df_{cue} = 4-1=3$ and $df_{sex}=2-1=1$."
      ]
    },
    {
      "cell_type": "markdown",
      "metadata": {
        "id": "F6jWOuAPjmXI"
      },
      "source": [
        "### Answer to 2.13, 2\n",
        "***Determine how many observations were used in the analysis.***\n",
        "\n",
        "Now that we have our total df, 67, we can take advantage of the fact that $df_{total} = n-1$.  Hence, the total number of observations was $n=df_{total}+1 = 67+1 = 68$."
      ]
    },
    {
      "cell_type": "markdown",
      "metadata": {
        "id": "9K_6PQ8gkX6Q"
      },
      "source": [
        "### Answer to 2.13, 3\n",
        "***Find an unbiased estimate of $σ^2$.***\n",
        "\n",
        "Our unbiased estimate of the $\\sigma^2$, the residual variance, is $\\hat{\\sigma}^2 = \\frac{SS_{residual}}{df_{residual}} = \\frac{1777639}{60} = 2960.65$"
      ]
    },
    {
      "cell_type": "markdown",
      "metadata": {
        "id": "CBQ2t1QTzJft"
      },
      "source": [
        "### Answer to 2.13, 4\n",
        "***Determine which explanatory variables are statistically significant for predicting response time, using sequential F-tests.***\n",
        "\n",
        "I don't really like this question.  The output of sequential F-tests varies with the sequence in which you test the factors; test $\\text{Sex}$ first and you get one answer, test it second and get a different answer.  Without some information about how these variables relate, i.e., which should be controlled for when testing, there are too many possible tests from which to make sense.  So I'll just run calculate the F for each variable.\n",
        "\n",
        "| Source of Variation | df | SS | MS | F | p |\n",
        "|---------------------|----|----|----|---|---|\n",
        "| Cue | 3 | 117,793 | 39,264.33 | 4.42 | 0.01 |\n",
        "| Sex | 1 | 2,659 | 2,659 | 0.90 | 0.35 |\n",
        "| Age | 3 | 22,850 | 7616.67 | 2.57 | 0.06 |\n",
        "| Residual | 60 | 177,639 | 2,960.65 | NA | NA |"
      ]
    },
    {
      "cell_type": "markdown",
      "metadata": {
        "id": "V0RgmMZPIw37"
      },
      "source": [
        "### Answer to 2.13, 5\n",
        "***The analysed data are for participants who actually woke during the experiment; some failed to wake at all and were omitted from the analysis. Explain how this affects the interpretation of the results.***\n",
        "\n",
        "At least, this limits the applicability of the findings; those that awoke may differ from those that did not.  We might call this a \"bias\".  Rather than speaking to something like the probabilities of certain outcomes, then, it can only speak to something like the *conditional* probabilities of certain outcomes; e.g., *conditional on waking up...*."
      ]
    },
    {
      "cell_type": "markdown",
      "metadata": {
        "id": "Jr7LbEvVKVjk"
      },
      "source": [
        "### Answer to 2.13, 6\n",
        "***Compute the aic for the three nested models implied by Table 2.7. What model is suggested by the aic?***\n",
        "\n",
        "To start, we should acknowledge that the book seemingly advocates ANOVA for comparing nested models but AIC/BIC for non-nested models.  However, as this question suggests, I don't think there is any reason that AIC cannot also be used for comparing nested models.\n",
        "\n",
        "Equation 2.35 gives us the formula aic:\n",
        "\n",
        "$$AIC = n \\ \\text{ln}(\\text{RSS}/n) + 2p'$$\n",
        "\n",
        "I think that the implied \"three nested models\" are $\\text{(Cue)} < \\text{(Cue + Sex)} < \\text{(Cue + Sex + Age)}$.  Let's first find $\\text{AIC}_{\\text{(Cue+Sex+Age)}}$\n",
        "\n",
        "$$\\text{AIC}_{\\text{(Cue+Sex+Age)}} = 68 \\ \\text{ln}\\left(\\frac{177,639}{68}\\right) + 2(4) \\approx 543$$\n",
        "$$\\text{AIC}_{\\text{(Cue+Sex)}} = 68 \\ \\text{ln}\\left(\\frac{177,639 + 22,850}{68}\\right) + 2(3) \\approx 549$$\n",
        "$$\\text{AIC}_{\\text{(Cue)}} = 68 \\ \\text{ln}\\left(\\frac{177,639 + 22,850 + 2,659}{68}\\right) + 2(2) \\approx 548$$\n",
        "$$\\text{AIC}_{\\text{(intercept)}} = 68 \\ \\text{ln}\\left(\\frac{177,639 + 22,850 + 2,659 + 117,793}{68}\\right) + 2(1) \\approx 577$$\n",
        "\n",
        "So the \"intercept-only\" model does the worst, but the other 3 models are pretty similar."
      ]
    },
    {
      "cell_type": "code",
      "execution_count": null,
      "metadata": {
        "colab": {
          "base_uri": "https://localhost:8080/",
          "height": 86
        },
        "id": "L2OqnFIm1hSU",
        "outputId": "90fb6166-5fa1-4694-9055-ed0fa06b5482",
        "vscode": {
          "languageId": "r"
        }
      },
      "outputs": [
        {
          "data": {
            "text/html": [
              "543.02406628989"
            ],
            "text/latex": [
              "543.02406628989"
            ],
            "text/markdown": [
              "543.02406628989"
            ],
            "text/plain": [
              "[1] 543.0241"
            ]
          },
          "metadata": {},
          "output_type": "display_data"
        },
        {
          "data": {
            "text/html": [
              "549.252473021922"
            ],
            "text/latex": [
              "549.252473021922"
            ],
            "text/markdown": [
              "549.252473021922"
            ],
            "text/plain": [
              "[1] 549.2525"
            ]
          },
          "metadata": {},
          "output_type": "display_data"
        },
        {
          "data": {
            "text/html": [
              "548.148399884942"
            ],
            "text/latex": [
              "548.148399884942"
            ],
            "text/markdown": [
              "548.148399884942"
            ],
            "text/plain": [
              "[1] 548.1484"
            ]
          },
          "metadata": {},
          "output_type": "display_data"
        },
        {
          "data": {
            "text/html": [
              "577.246331800532"
            ],
            "text/latex": [
              "577.246331800532"
            ],
            "text/markdown": [
              "577.246331800532"
            ],
            "text/plain": [
              "[1] 577.2463"
            ]
          },
          "metadata": {},
          "output_type": "display_data"
        }
      ],
      "source": [
        "68 * log(177639 / 68) + 8\n",
        "68 * log((177639 + 22850) / 68) + 6\n",
        "68 * log((177639 + 22850 + 2659) / 68) + 4\n",
        "68 * log((177639 + 22850 + 2659 + 117793) / 68) + 2"
      ]
    },
    {
      "cell_type": "markdown",
      "metadata": {
        "id": "HV-VnnDdPCzb"
      },
      "source": [
        "### Answer to 2.13, 7\n",
        "***Compute the bic for the three nested models implied by Table 2.7. What model is suggested by the bic?***\n",
        "\n",
        "Recall that BIC is an alternative to AIC.  Its formula is given in Equation 2.36:\n",
        "\n",
        "$$BIC = n \\ \\text{ln}(\\text{RSS}/n) + p' \\text{ln} \\ n$$\n",
        "\n",
        "$$BIC_{Cue + Sex + Age} = 68 \\ \\text{ln} \\ \\left(\\frac{177,639}{68}\\right) + 4 \\ \\text{ln}(68) \\approx 552$$\n",
        "\n",
        "$$BIC_{Cue + Sex} = 68 \\ \\text{ln} \\ \\left(\\frac{177,639 + 22,850}{68}\\right) + 3 \\ \\text{ln}(68) \\approx 556$$\n",
        "\n",
        "$$BIC_{Cue} = 68 \\ \\text{ln} \\ \\left(\\frac{177,639 + 22,850 + 2,659}{68}\\right) + 2 \\ \\text{ln}(68) \\approx 553$$\n",
        "\n",
        "$$BIC_{(intercept)} = 68 \\ \\text{ln} \\ \\left(\\frac{177,639 + 22,850 + 2,659 + 117,793}{68}\\right) + 1 \\ \\text{ln}(68) \\approx 579$$\n",
        "\n",
        "Once again, the models are pretty similar, but the \"intercept-only\" model seems appreciably worse than any of the others.  Technically, the $Cue + Sex + Age$ model is best."
      ]
    },
    {
      "cell_type": "code",
      "execution_count": null,
      "metadata": {
        "colab": {
          "base_uri": "https://localhost:8080/",
          "height": 86
        },
        "id": "5W88v7TS3Czt",
        "outputId": "c3106d43-8de3-4a3b-ab4a-92b27f130f8f",
        "vscode": {
          "languageId": "r"
        }
      },
      "outputs": [
        {
          "data": {
            "text/html": [
              "551.902097110595"
            ],
            "text/latex": [
              "551.902097110595"
            ],
            "text/markdown": [
              "551.902097110595"
            ],
            "text/plain": [
              "[1] 551.9021"
            ]
          },
          "metadata": {},
          "output_type": "display_data"
        },
        {
          "data": {
            "text/html": [
              "555.910996137451"
            ],
            "text/latex": [
              "555.910996137451"
            ],
            "text/markdown": [
              "555.910996137451"
            ],
            "text/plain": [
              "[1] 555.911"
            ]
          },
          "metadata": {},
          "output_type": "display_data"
        },
        {
          "data": {
            "text/html": [
              "552.587415295294"
            ],
            "text/latex": [
              "552.587415295294"
            ],
            "text/markdown": [
              "552.587415295294"
            ],
            "text/plain": [
              "[1] 552.5874"
            ]
          },
          "metadata": {},
          "output_type": "display_data"
        },
        {
          "data": {
            "text/html": [
              "579.465839505708"
            ],
            "text/latex": [
              "579.465839505708"
            ],
            "text/markdown": [
              "579.465839505708"
            ],
            "text/plain": [
              "[1] 579.4658"
            ]
          },
          "metadata": {},
          "output_type": "display_data"
        }
      ],
      "source": [
        "68 * log((177639) / 68) + 4*log(68)\n",
        "68 * log((177639 + 22850) / 68) + 3*log(68)\n",
        "68 * log((177639 + 22850 + 2659) / 68) + 2*log(68)\n",
        "68 * log((177639 + 22850 + 2659 + 117793) / 68) + 1*log(68)"
      ]
    },
    {
      "cell_type": "markdown",
      "metadata": {
        "id": "z5SVOqIW14Kn"
      },
      "source": [
        "### Answer to 2.13, 8\n",
        "***Compute $R^2$ and the adjusted $R^2$ for the three models implied by Table 2.7. What model is suggested by the $R^2$ and the adjusted $\\bar{R}^2$?***\n",
        "\n",
        "Let's recall the equations for $R^2$ and $\\bar{R}^2$; by equations (2.29) and (2.30):\n",
        "$$R^2 = \\frac{\\text{ssReg}}{SST} = 1 - \\frac{RSS}{SST}$$\n",
        "\\\n",
        "$$\\bar{R}^2 = 1 - \\frac{RSS/(n-p')}{SST/(n-1)} = 1 - (1 - R^2) \\frac{n-1}{n-p'}$$\n",
        "\\\n",
        "\\\n",
        "$$R^2_{Cue+Sex+Age} = 1 - \\frac{177,639}{177,639 + 22,850 + 2659 + 117,793} \\approx 0.45$$\n",
        "\\\n",
        "$$\\bar{R}^2_{Cue+Sex+Age} = 1 - \\frac{177,639 / (68 - 4)}{(177,639 + 22,850 + 2659 + 117,793) / (68 - 1)} \\approx 0.42$$\n",
        "\\\n",
        "\\\n",
        "$$R^2_{Cue+Sex} = 1 - \\frac{177,639 + 117,793}{177,639 + 22,850 + 2659 + 117,793} \\approx 0.08$$\n",
        "\\\n",
        "$$\\bar{R}^2_{Cue+Sex} = 1 - \\frac{(177,639 + 117,793) / (68 - 3)}{(177,639 + 22,850 + 2659 + 117,793) / (68 - 1)} \\approx 0.05$$\n",
        "\\\n",
        "\\\n",
        "$$R^2_{Cue} = 1 - \\frac{177,639 + 117,793 + 2659}{177,639 + 22,850 + 2659 + 117,793} \\approx 0.07$$\n",
        "\\\n",
        "$$\\bar{R}^2_{Cue} = 1 - \\frac{(177,639 + 117,793 + 2659) / (68 - 2)}{(177,639 + 22,850 + 2659 + 117,793) / (68 - 1)} \\approx 0.06$$\n",
        "\n",
        "Both metrics tell about the same: the full model is most explanatory and the others explain similar limited amounts of variance."
      ]
    },
    {
      "cell_type": "code",
      "execution_count": null,
      "metadata": {
        "colab": {
          "base_uri": "https://localhost:8080/",
          "height": 121
        },
        "id": "cXcFprhR4BMZ",
        "outputId": "f0641452-f98c-4cf2-de41-e7274b9c5dc6",
        "vscode": {
          "languageId": "r"
        }
      },
      "outputs": [
        {
          "data": {
            "text/html": [
              "0.446505744046414"
            ],
            "text/latex": [
              "0.446505744046414"
            ],
            "text/markdown": [
              "0.446505744046414"
            ],
            "text/plain": [
              "[1] 0.4465057"
            ]
          },
          "metadata": {},
          "output_type": "display_data"
        },
        {
          "data": {
            "text/html": [
              "0.420560700798589"
            ],
            "text/latex": [
              "0.420560700798589"
            ],
            "text/markdown": [
              "0.420560700798589"
            ],
            "text/plain": [
              "[1] 0.4205607"
            ]
          },
          "metadata": {},
          "output_type": "display_data"
        },
        {
          "data": {
            "text/html": [
              "0.0794818985420996"
            ],
            "text/latex": [
              "0.0794818985420996"
            ],
            "text/markdown": [
              "0.0794818985420996"
            ],
            "text/plain": [
              "[1] 0.0794819"
            ]
          },
          "metadata": {},
          "output_type": "display_data"
        },
        {
          "data": {
            "text/html": [
              "0.0511582646510873"
            ],
            "text/latex": [
              "0.0511582646510873"
            ],
            "text/markdown": [
              "0.0511582646510873"
            ],
            "text/plain": [
              "[1] 0.05115826"
            ]
          },
          "metadata": {},
          "output_type": "display_data"
        },
        {
          "data": {
            "text/html": [
              "0.0711968866551796"
            ],
            "text/latex": [
              "0.0711968866551796"
            ],
            "text/markdown": [
              "0.0711968866551796"
            ],
            "text/plain": [
              "[1] 0.07119689"
            ]
          },
          "metadata": {},
          "output_type": "display_data"
        },
        {
          "data": {
            "text/html": [
              "0.0571241122105611"
            ],
            "text/latex": [
              "0.0571241122105611"
            ],
            "text/markdown": [
              "0.0571241122105611"
            ],
            "text/plain": [
              "[1] 0.05712411"
            ]
          },
          "metadata": {},
          "output_type": "display_data"
        }
      ],
      "source": [
        "1 - (177639)/ ((177639 + 22850 + 2659 + 117793))\n",
        "1 - ((177639) / (68-4)) / ((177639 + 22850 + 2659 + 117793) / (68-1))\n",
        "\n",
        "1 - (177639 + 117793)/ ((177639 + 22850 + 2659 + 117793))\n",
        "1 - ((177639 + 117793) / (68-3)) / ((177639 + 22850 + 2659 + 117793) / (68-1))\n",
        "\n",
        "1 - (177639 + 117793 + 2659)/ ((177639 + 22850 + 2659 + 117793))\n",
        "1 - ((177639 + 117793 + 2659) / (68-2)) / ((177639 + 22850 + 2659 + 117793) / (68-1))"
      ]
    },
    {
      "cell_type": "markdown",
      "metadata": {
        "id": "zD15GYtk4ofX"
      },
      "source": [
        "### Answer to 2.13, 9\n",
        "***Compare the models suggested by the anova table, the aic, the bic, $R^2$ and the adjusted $R^2$. Comment.***\n",
        "\n",
        "Across each model-comparison technique, the full model performed best.  However, the methods differed in their relative ranking of the remaining incomplete models: aic and bic show that the 3 models perform similarly well, while $R^2$ and $\\bar{R}^2$ appear to suggest a large difference between the full model and either incomplete model."
      ]
    },
    {
      "cell_type": "markdown",
      "metadata": {
        "id": "ICoKq4xYVUnb"
      },
      "source": [
        "## Question 2.14\n",
        "\n",
        "Numerous studies have shown an association between seasonal ambient temperature (in ◦C) and blood pressure (in mm Hg). A study of 574 rural Ghanaian men aged between 18 and 65 studied this relationship [9] (and also included a number of extraneous variables) using a linear regression model, producing the results in Table 2.8.\n",
        "\n",
        "**Table 2.8 The parameter estimates and the standard errors in the linear regression model for estimating the systolic blood pressure (in mm Hg) in Ghanaian men aged between 18 and 65 (Problem 2.14)**\n",
        "\n",
        "|Explanatory variable|$\\hat{\\beta}_j$|se($\\hat{\\beta}_j$)|\n",
        "|--------------------|---------------|-------------------|\n",
        "|Constant|100.812|13.096|\n",
        "|Age(in years|0.332|0.062|\n",
        "|Waist circumference (in cm)|0.411|0.090|\n",
        "|Alcohol (yes:1; no:0)|-3.003|1.758|\n",
        "|Smoking (yes:1; no:0)|-0.362|2.732|\n",
        "|Ambient temperature (in ◦C)|-0.521|0.262|\n",
        "\n",
        "\n",
        "1. Compute the P-values for each term in the model, and comment.\n",
        "\n",
        "2. After adjusting for age, waist circumference, alcohol consumption and smoking habits, describe the relationship between ambient temperature and systolic blood pressure.\n",
        "\n",
        "3. Plot the line describing the relationship between ambient temperature and systolic blood pressure for 30-year-old men who do not smoke, do drink alcohol and have a waist circumference of 100 cm. The authors state that\n",
        "\n",
        ">> Daily mean temperatures range between an average minimum of 20◦C in the rainy season and an average maximum of 40◦C in the dry season. In the dry season, early mornings are usually cool and the afternoons commonly hot with daily maximum temperatures going as high as 45◦C (p. 17).\n",
        "\n",
        ">Use this information to guide your choice of temperature values for your plot.\n",
        "\n",
        "4. Compute a 95% confidence interval for the regression parameter for ambient temperature.\n",
        "\n",
        "5. Interpret the relationship between ambient temperature and all the variables in the regression equation.\n",
        "\n",
        "6. Predict the mean systolic blood pressure for 35 year-old Ghanaian men (who do not smoke, do drink alcohol and have a waist circumference of 100 cm) when the ambient temperature is 30◦C."
      ]
    },
    {
      "cell_type": "markdown",
      "metadata": {
        "id": "rFox4sBuCLio"
      },
      "source": [
        "### Answer to 2.14, 1\n",
        "***Compute the P-values for each term in the model, and comment.***\n",
        "\n",
        "To find the p-values for these $\\hat{\\beta}$ estimates, we'll find the T-statistics like\n",
        "$$T = \\frac{\\hat{\\beta} - \\beta_0}{se(\\hat{\\beta})}$$;\n",
        "if $H_0$ is true, then then $T \\sim t(df=n-p', \\mu=0, \\sigma=se(\\hat{\\beta}))$, from which we estimate the p-value.\n",
        "\n",
        "I'm going to start by loading our data into R so that the computer can do our calculations."
      ]
    },
    {
      "cell_type": "code",
      "execution_count": null,
      "metadata": {
        "colab": {
          "base_uri": "https://localhost:8080/",
          "height": 286
        },
        "id": "XjQE5F7TEi0Q",
        "outputId": "a816cf85-2c21-49a0-dee7-7357763e754e",
        "vscode": {
          "languageId": "r"
        }
      },
      "outputs": [
        {
          "data": {
            "text/html": [
              "<table class=\"dataframe\">\n",
              "<caption>A data.frame: 6 × 3</caption>\n",
              "<thead>\n",
              "\t<tr><th scope=col>Explanatory.variable</th><th scope=col>beta</th><th scope=col>se</th></tr>\n",
              "\t<tr><th scope=col>&lt;chr&gt;</th><th scope=col>&lt;dbl&gt;</th><th scope=col>&lt;dbl&gt;</th></tr>\n",
              "</thead>\n",
              "<tbody>\n",
              "\t<tr><td>Constant</td><td>100.812</td><td>13.096</td></tr>\n",
              "\t<tr><td>Age     </td><td>  0.332</td><td> 0.062</td></tr>\n",
              "\t<tr><td>Waist   </td><td>  0.411</td><td> 0.090</td></tr>\n",
              "\t<tr><td>Alcohol </td><td> -3.003</td><td> 1.758</td></tr>\n",
              "\t<tr><td>Smoking </td><td> -0.362</td><td> 2.732</td></tr>\n",
              "\t<tr><td>Temp    </td><td> -0.521</td><td> 0.262</td></tr>\n",
              "</tbody>\n",
              "</table>\n"
            ],
            "text/latex": [
              "A data.frame: 6 × 3\n",
              "\\begin{tabular}{lll}\n",
              " Explanatory.variable & beta & se\\\\\n",
              " <chr> & <dbl> & <dbl>\\\\\n",
              "\\hline\n",
              "\t Constant & 100.812 & 13.096\\\\\n",
              "\t Age      &   0.332 &  0.062\\\\\n",
              "\t Waist    &   0.411 &  0.090\\\\\n",
              "\t Alcohol  &  -3.003 &  1.758\\\\\n",
              "\t Smoking  &  -0.362 &  2.732\\\\\n",
              "\t Temp     &  -0.521 &  0.262\\\\\n",
              "\\end{tabular}\n"
            ],
            "text/markdown": [
              "\n",
              "A data.frame: 6 × 3\n",
              "\n",
              "| Explanatory.variable &lt;chr&gt; | beta &lt;dbl&gt; | se &lt;dbl&gt; |\n",
              "|---|---|---|\n",
              "| Constant | 100.812 | 13.096 |\n",
              "| Age      |   0.332 |  0.062 |\n",
              "| Waist    |   0.411 |  0.090 |\n",
              "| Alcohol  |  -3.003 |  1.758 |\n",
              "| Smoking  |  -0.362 |  2.732 |\n",
              "| Temp     |  -0.521 |  0.262 |\n",
              "\n"
            ],
            "text/plain": [
              "  Explanatory.variable beta    se    \n",
              "1 Constant             100.812 13.096\n",
              "2 Age                    0.332  0.062\n",
              "3 Waist                  0.411  0.090\n",
              "4 Alcohol               -3.003  1.758\n",
              "5 Smoking               -0.362  2.732\n",
              "6 Temp                  -0.521  0.262"
            ]
          },
          "metadata": {},
          "output_type": "display_data"
        }
      ],
      "source": [
        "d <- data.frame(\"Explanatory variable\" = c(\"Constant\", \"Age\", \"Waist\", \"Alcohol\", \"Smoking\", \"Temp\"),\n",
        "                \"beta\" = c(100.812, 0.332, 0.411, -3.003, -0.362, -0.521),\n",
        "                \"se\" = c(13.096, 0.062, 0.090, 1.758, 2.732, 0.262))\n",
        "\n",
        "d"
      ]
    },
    {
      "cell_type": "markdown",
      "metadata": {
        "id": "k8KrEpKpFOFD"
      },
      "source": [
        "Now let's calulate the T-stat for each; I'm going to assume that $\\beta_0 = 0$ in all cases."
      ]
    },
    {
      "cell_type": "code",
      "execution_count": null,
      "metadata": {
        "colab": {
          "base_uri": "https://localhost:8080/",
          "height": 286
        },
        "id": "7-JHbyT8FNi9",
        "outputId": "2fe08135-f70b-4438-a061-673a2f7d7eab",
        "vscode": {
          "languageId": "r"
        }
      },
      "outputs": [
        {
          "data": {
            "text/html": [
              "<table class=\"dataframe\">\n",
              "<caption>A data.frame: 6 × 4</caption>\n",
              "<thead>\n",
              "\t<tr><th scope=col>Explanatory.variable</th><th scope=col>beta</th><th scope=col>se</th><th scope=col>T.stat</th></tr>\n",
              "\t<tr><th scope=col>&lt;chr&gt;</th><th scope=col>&lt;dbl&gt;</th><th scope=col>&lt;dbl&gt;</th><th scope=col>&lt;dbl&gt;</th></tr>\n",
              "</thead>\n",
              "<tbody>\n",
              "\t<tr><td>Constant</td><td>100.812</td><td>13.096</td><td> 7.6979</td></tr>\n",
              "\t<tr><td>Age     </td><td>  0.332</td><td> 0.062</td><td> 5.3548</td></tr>\n",
              "\t<tr><td>Waist   </td><td>  0.411</td><td> 0.090</td><td> 4.5667</td></tr>\n",
              "\t<tr><td>Alcohol </td><td> -3.003</td><td> 1.758</td><td>-1.7082</td></tr>\n",
              "\t<tr><td>Smoking </td><td> -0.362</td><td> 2.732</td><td>-0.1325</td></tr>\n",
              "\t<tr><td>Temp    </td><td> -0.521</td><td> 0.262</td><td>-1.9885</td></tr>\n",
              "</tbody>\n",
              "</table>\n"
            ],
            "text/latex": [
              "A data.frame: 6 × 4\n",
              "\\begin{tabular}{llll}\n",
              " Explanatory.variable & beta & se & T.stat\\\\\n",
              " <chr> & <dbl> & <dbl> & <dbl>\\\\\n",
              "\\hline\n",
              "\t Constant & 100.812 & 13.096 &  7.6979\\\\\n",
              "\t Age      &   0.332 &  0.062 &  5.3548\\\\\n",
              "\t Waist    &   0.411 &  0.090 &  4.5667\\\\\n",
              "\t Alcohol  &  -3.003 &  1.758 & -1.7082\\\\\n",
              "\t Smoking  &  -0.362 &  2.732 & -0.1325\\\\\n",
              "\t Temp     &  -0.521 &  0.262 & -1.9885\\\\\n",
              "\\end{tabular}\n"
            ],
            "text/markdown": [
              "\n",
              "A data.frame: 6 × 4\n",
              "\n",
              "| Explanatory.variable &lt;chr&gt; | beta &lt;dbl&gt; | se &lt;dbl&gt; | T.stat &lt;dbl&gt; |\n",
              "|---|---|---|---|\n",
              "| Constant | 100.812 | 13.096 |  7.6979 |\n",
              "| Age      |   0.332 |  0.062 |  5.3548 |\n",
              "| Waist    |   0.411 |  0.090 |  4.5667 |\n",
              "| Alcohol  |  -3.003 |  1.758 | -1.7082 |\n",
              "| Smoking  |  -0.362 |  2.732 | -0.1325 |\n",
              "| Temp     |  -0.521 |  0.262 | -1.9885 |\n",
              "\n"
            ],
            "text/plain": [
              "  Explanatory.variable beta    se     T.stat \n",
              "1 Constant             100.812 13.096  7.6979\n",
              "2 Age                    0.332  0.062  5.3548\n",
              "3 Waist                  0.411  0.090  4.5667\n",
              "4 Alcohol               -3.003  1.758 -1.7082\n",
              "5 Smoking               -0.362  2.732 -0.1325\n",
              "6 Temp                  -0.521  0.262 -1.9885"
            ]
          },
          "metadata": {},
          "output_type": "display_data"
        }
      ],
      "source": [
        "d$T.stat <- round(d$beta / d$se, 4)\n",
        "d"
      ]
    },
    {
      "cell_type": "markdown",
      "metadata": {
        "id": "LKR-hID2F11J"
      },
      "source": [
        "We can just about calculate the p-values, but we the degrees of freedom.  Remember, this is $\\nu = n-p'$.  Unfortunately, the question is a little vague.  We're told that $n=574$, and we're given 6 parameters; however, the question states that the analysis used \"a number of extraneous variables\".  I'm not sure if the \"extraneous variables\" are all those given to us, or if some were omitted from the table.  But I'll assume what we're given is the full set of variables; even if it wasn't, it's unlike to make much difference in our estimates."
      ]
    },
    {
      "cell_type": "code",
      "execution_count": null,
      "metadata": {
        "colab": {
          "base_uri": "https://localhost:8080/",
          "height": 286
        },
        "id": "ma3uGIURFneY",
        "outputId": "ce7ec564-4d80-465c-ea86-3b819aa451ce",
        "vscode": {
          "languageId": "r"
        }
      },
      "outputs": [
        {
          "data": {
            "text/html": [
              "<table class=\"dataframe\">\n",
              "<caption>A data.frame: 6 × 5</caption>\n",
              "<thead>\n",
              "\t<tr><th scope=col>Explanatory.variable</th><th scope=col>beta</th><th scope=col>se</th><th scope=col>T.stat</th><th scope=col>p.values</th></tr>\n",
              "\t<tr><th scope=col>&lt;chr&gt;</th><th scope=col>&lt;dbl&gt;</th><th scope=col>&lt;dbl&gt;</th><th scope=col>&lt;dbl&gt;</th><th scope=col>&lt;dbl&gt;</th></tr>\n",
              "</thead>\n",
              "<tbody>\n",
              "\t<tr><td>Constant</td><td>100.812</td><td>13.096</td><td> 7.6979</td><td>0.0000</td></tr>\n",
              "\t<tr><td>Age     </td><td>  0.332</td><td> 0.062</td><td> 5.3548</td><td>0.0000</td></tr>\n",
              "\t<tr><td>Waist   </td><td>  0.411</td><td> 0.090</td><td> 4.5667</td><td>0.0000</td></tr>\n",
              "\t<tr><td>Alcohol </td><td> -3.003</td><td> 1.758</td><td>-1.7082</td><td>0.0881</td></tr>\n",
              "\t<tr><td>Smoking </td><td> -0.362</td><td> 2.732</td><td>-0.1325</td><td>0.8946</td></tr>\n",
              "\t<tr><td>Temp    </td><td> -0.521</td><td> 0.262</td><td>-1.9885</td><td>0.0472</td></tr>\n",
              "</tbody>\n",
              "</table>\n"
            ],
            "text/latex": [
              "A data.frame: 6 × 5\n",
              "\\begin{tabular}{lllll}\n",
              " Explanatory.variable & beta & se & T.stat & p.values\\\\\n",
              " <chr> & <dbl> & <dbl> & <dbl> & <dbl>\\\\\n",
              "\\hline\n",
              "\t Constant & 100.812 & 13.096 &  7.6979 & 0.0000\\\\\n",
              "\t Age      &   0.332 &  0.062 &  5.3548 & 0.0000\\\\\n",
              "\t Waist    &   0.411 &  0.090 &  4.5667 & 0.0000\\\\\n",
              "\t Alcohol  &  -3.003 &  1.758 & -1.7082 & 0.0881\\\\\n",
              "\t Smoking  &  -0.362 &  2.732 & -0.1325 & 0.8946\\\\\n",
              "\t Temp     &  -0.521 &  0.262 & -1.9885 & 0.0472\\\\\n",
              "\\end{tabular}\n"
            ],
            "text/markdown": [
              "\n",
              "A data.frame: 6 × 5\n",
              "\n",
              "| Explanatory.variable &lt;chr&gt; | beta &lt;dbl&gt; | se &lt;dbl&gt; | T.stat &lt;dbl&gt; | p.values &lt;dbl&gt; |\n",
              "|---|---|---|---|---|\n",
              "| Constant | 100.812 | 13.096 |  7.6979 | 0.0000 |\n",
              "| Age      |   0.332 |  0.062 |  5.3548 | 0.0000 |\n",
              "| Waist    |   0.411 |  0.090 |  4.5667 | 0.0000 |\n",
              "| Alcohol  |  -3.003 |  1.758 | -1.7082 | 0.0881 |\n",
              "| Smoking  |  -0.362 |  2.732 | -0.1325 | 0.8946 |\n",
              "| Temp     |  -0.521 |  0.262 | -1.9885 | 0.0472 |\n",
              "\n"
            ],
            "text/plain": [
              "  Explanatory.variable beta    se     T.stat  p.values\n",
              "1 Constant             100.812 13.096  7.6979 0.0000  \n",
              "2 Age                    0.332  0.062  5.3548 0.0000  \n",
              "3 Waist                  0.411  0.090  4.5667 0.0000  \n",
              "4 Alcohol               -3.003  1.758 -1.7082 0.0881  \n",
              "5 Smoking               -0.362  2.732 -0.1325 0.8946  \n",
              "6 Temp                  -0.521  0.262 -1.9885 0.0472  "
            ]
          },
          "metadata": {},
          "output_type": "display_data"
        }
      ],
      "source": [
        "df <- 574 - 6\n",
        "\n",
        "d$p.values <- round(2*(1-pt(abs(d$T.stat), df)),4)\n",
        "\n",
        "d"
      ]
    },
    {
      "cell_type": "markdown",
      "metadata": {
        "id": "4_eq1qH0H6ZN"
      },
      "source": [
        "### Answer to 2.14, 2\n",
        "***After adjusting for age, waist circumference, alcohol consumption and smoking habits, describe the relationship between ambient temperature and systolic blood pressure.***\n",
        "\n",
        "After accounting for other variables, systolic blood pressure is estimated to decrease by 0.521 mmHG for every 1 degree increase in ambient temperature.  The probability of the null distribution accounting for this relationship is 4.72%."
      ]
    },
    {
      "cell_type": "markdown",
      "metadata": {
        "id": "ZDjVTqdGIrSg"
      },
      "source": [
        "### Answer to 2.14, 3\n",
        "***Plot the line describing the relationship between ambient temperature and systolic blood pressure for 30-year-old men who do not smoke, do drink alcohol and have a waist circumference of 100 cm. The authors state that***\n",
        "\n",
        ">> ***Daily mean temperatures range between an average minimum of 20◦C in the rainy season and an average maximum of 40◦C in the dry season. In the dry season, early mornings are usually cool and the afternoons commonly hot with daily maximum temperatures going as high as 45◦C (p. 17).***\n",
        "\n",
        ">***Use this information to guide your choice of temperature values for your plot.***"
      ]
    },
    {
      "cell_type": "code",
      "execution_count": null,
      "metadata": {
        "colab": {
          "base_uri": "https://localhost:8080/",
          "height": 437
        },
        "id": "HbMC804OI5MM",
        "outputId": "8eb3e1c0-854d-45d6-fb8e-4818a9ced48f",
        "vscode": {
          "languageId": "r"
        }
      },
      "outputs": [
        {
          "data": {
            "image/png": "[encoded data removed]",
            "text/plain": [
              "plot without title"
            ]
          },
          "metadata": {
            "image/png": {
              "height": 420,
              "width": 420
            }
          },
          "output_type": "display_data"
        }
      ],
      "source": [
        "# Start by assigning the case values\n",
        "d$Case <- c(1, 30, 100, 0, 0, NA)\n",
        "# Since we're trying to see the effect of temperature, define the set of temperatures\n",
        "temp_seq <- seq(from=0, to=45, by=1)\n",
        "\n",
        "# The SBP for each temperature is defined as the sum of products of each beta coef with its case value;\n",
        "# since we're varying temperature, we add its contributions separate so we can use every value of temp_seq\n",
        "SBP_seq <- (sum((d$beta * d$Case), na.rm=TRUE) + d[6, \"beta\"]*temp_seq)\n",
        "\n",
        "plot(SBP_seq ~ temp_seq, type=\"l\")"
      ]
    },
    {
      "cell_type": "markdown",
      "metadata": {
        "id": "Esqi66TY_9i7"
      },
      "source": [
        "### Answer to 2.14, 4\n",
        "***Compute a 95% confidence interval for the regression parameter for ambient temperature.***"
      ]
    },
    {
      "cell_type": "code",
      "execution_count": null,
      "metadata": {
        "colab": {
          "base_uri": "https://localhost:8080/",
          "height": 286
        },
        "id": "Xp3d-CMBAqyy",
        "outputId": "0db1c6b3-d185-460a-ec7d-56b2857c2c72",
        "vscode": {
          "languageId": "r"
        }
      },
      "outputs": [
        {
          "data": {
            "text/html": [
              "<table class=\"dataframe\">\n",
              "<caption>A data.frame: 6 × 8</caption>\n",
              "<thead>\n",
              "\t<tr><th scope=col>Explanatory.variable</th><th scope=col>beta</th><th scope=col>se</th><th scope=col>T.stat</th><th scope=col>p.values</th><th scope=col>Case</th><th scope=col>lo_ci</th><th scope=col>hi_ci</th></tr>\n",
              "\t<tr><th scope=col>&lt;chr&gt;</th><th scope=col>&lt;dbl&gt;</th><th scope=col>&lt;dbl&gt;</th><th scope=col>&lt;dbl&gt;</th><th scope=col>&lt;dbl&gt;</th><th scope=col>&lt;dbl&gt;</th><th scope=col>&lt;dbl&gt;</th><th scope=col>&lt;dbl&gt;</th></tr>\n",
              "</thead>\n",
              "<tbody>\n",
              "\t<tr><td>Constant</td><td>100.812</td><td>13.096</td><td> 7.6979</td><td>0.0000</td><td>  1</td><td>75.09</td><td>126.53</td></tr>\n",
              "\t<tr><td>Age     </td><td>  0.332</td><td> 0.062</td><td> 5.3548</td><td>0.0000</td><td> 30</td><td> 0.21</td><td>  0.45</td></tr>\n",
              "\t<tr><td>Waist   </td><td>  0.411</td><td> 0.090</td><td> 4.5667</td><td>0.0000</td><td>100</td><td> 0.23</td><td>  0.59</td></tr>\n",
              "\t<tr><td>Alcohol </td><td> -3.003</td><td> 1.758</td><td>-1.7082</td><td>0.0881</td><td>  0</td><td>-6.46</td><td>  0.45</td></tr>\n",
              "\t<tr><td>Smoking </td><td> -0.362</td><td> 2.732</td><td>-0.1325</td><td>0.8946</td><td>  0</td><td>-5.73</td><td>  5.00</td></tr>\n",
              "\t<tr><td>Temp    </td><td> -0.521</td><td> 0.262</td><td>-1.9885</td><td>0.0472</td><td> NA</td><td>-1.04</td><td> -0.01</td></tr>\n",
              "</tbody>\n",
              "</table>\n"
            ],
            "text/latex": [
              "A data.frame: 6 × 8\n",
              "\\begin{tabular}{llllllll}\n",
              " Explanatory.variable & beta & se & T.stat & p.values & Case & lo\\_ci & hi\\_ci\\\\\n",
              " <chr> & <dbl> & <dbl> & <dbl> & <dbl> & <dbl> & <dbl> & <dbl>\\\\\n",
              "\\hline\n",
              "\t Constant & 100.812 & 13.096 &  7.6979 & 0.0000 &   1 & 75.09 & 126.53\\\\\n",
              "\t Age      &   0.332 &  0.062 &  5.3548 & 0.0000 &  30 &  0.21 &   0.45\\\\\n",
              "\t Waist    &   0.411 &  0.090 &  4.5667 & 0.0000 & 100 &  0.23 &   0.59\\\\\n",
              "\t Alcohol  &  -3.003 &  1.758 & -1.7082 & 0.0881 &   0 & -6.46 &   0.45\\\\\n",
              "\t Smoking  &  -0.362 &  2.732 & -0.1325 & 0.8946 &   0 & -5.73 &   5.00\\\\\n",
              "\t Temp     &  -0.521 &  0.262 & -1.9885 & 0.0472 &  NA & -1.04 &  -0.01\\\\\n",
              "\\end{tabular}\n"
            ],
            "text/markdown": [
              "\n",
              "A data.frame: 6 × 8\n",
              "\n",
              "| Explanatory.variable &lt;chr&gt; | beta &lt;dbl&gt; | se &lt;dbl&gt; | T.stat &lt;dbl&gt; | p.values &lt;dbl&gt; | Case &lt;dbl&gt; | lo_ci &lt;dbl&gt; | hi_ci &lt;dbl&gt; |\n",
              "|---|---|---|---|---|---|---|---|\n",
              "| Constant | 100.812 | 13.096 |  7.6979 | 0.0000 |   1 | 75.09 | 126.53 |\n",
              "| Age      |   0.332 |  0.062 |  5.3548 | 0.0000 |  30 |  0.21 |   0.45 |\n",
              "| Waist    |   0.411 |  0.090 |  4.5667 | 0.0000 | 100 |  0.23 |   0.59 |\n",
              "| Alcohol  |  -3.003 |  1.758 | -1.7082 | 0.0881 |   0 | -6.46 |   0.45 |\n",
              "| Smoking  |  -0.362 |  2.732 | -0.1325 | 0.8946 |   0 | -5.73 |   5.00 |\n",
              "| Temp     |  -0.521 |  0.262 | -1.9885 | 0.0472 |  NA | -1.04 |  -0.01 |\n",
              "\n"
            ],
            "text/plain": [
              "  Explanatory.variable beta    se     T.stat  p.values Case lo_ci hi_ci \n",
              "1 Constant             100.812 13.096  7.6979 0.0000     1  75.09 126.53\n",
              "2 Age                    0.332  0.062  5.3548 0.0000    30   0.21   0.45\n",
              "3 Waist                  0.411  0.090  4.5667 0.0000   100   0.23   0.59\n",
              "4 Alcohol               -3.003  1.758 -1.7082 0.0881     0  -6.46   0.45\n",
              "5 Smoking               -0.362  2.732 -0.1325 0.8946     0  -5.73   5.00\n",
              "6 Temp                  -0.521  0.262 -1.9885 0.0472    NA  -1.04  -0.01"
            ]
          },
          "metadata": {},
          "output_type": "display_data"
        }
      ],
      "source": [
        "ci <- 0.95\n",
        "a <- 1 - ci\n",
        "a2 <- a/2\n",
        "t_val <- qt(1-a2, df=df)\n",
        "\n",
        "d$lo_ci <- round(d$beta - t_val*d$se, 2)\n",
        "d$hi_ci <- round(d$beta + t_val*d$se, 2)\n",
        "\n",
        "d"
      ]
    },
    {
      "cell_type": "markdown",
      "metadata": {
        "id": "Y-zAh5foCYsp"
      },
      "source": [
        "### Answer to 2.14, 5\n",
        "***Interpret the relationship between ambient temperature and all the variables in the regression equation.***\n",
        "\n",
        "I'm not sure if this question was the intended question: we're asked to interpret the relationships between one *predictor* variable (Temp) with all other predictor variables; I would've thought the question wanted the relationship with the *outcome* variable (blood pressure) will each predictor variable.  But let's take the question at face value.\n",
        "\n",
        "**After accounting for the other predictor variables**, blood pressure decreases by 0.521 $\\pm$ 0.262 mmHg for every $1°$ increase in ambient temperature.\n",
        "\n",
        "I take the bolded bit to be addressing the question."
      ]
    },
    {
      "cell_type": "markdown",
      "metadata": {
        "id": "F1TnlQqcEYhS"
      },
      "source": [
        "### Answer to 2.14, 6\n",
        "***Predict the mean systolic blood pressure for 35 year-old Ghanaian men (who do not smoke, do drink alcohol and have a waist circumference of 100 cm) when the ambient temperature is 30◦C.***\n",
        "\n",
        "This will be similar to part 3.  We'll just insert each of these values into our regression equation\n",
        "\n",
        "$$BP = \\beta_0 + \\beta_{\\text{age}}\\text{Age} + ... + \\beta_{\\text{Temp}}\\text{Temp}$$"
      ]
    },
    {
      "cell_type": "code",
      "execution_count": null,
      "metadata": {
        "colab": {
          "base_uri": "https://localhost:8080/",
          "height": 34
        },
        "id": "9FhCTHJpEmOW",
        "outputId": "8339c8c9-c8ea-46ed-a15f-c1e68acfc4bd",
        "vscode": {
          "languageId": "r"
        }
      },
      "outputs": [
        {
          "data": {
            "text/html": [
              "137.902"
            ],
            "text/latex": [
              "137.902"
            ],
            "text/markdown": [
              "137.902"
            ],
            "text/plain": [
              "[1] 137.902"
            ]
          },
          "metadata": {},
          "output_type": "display_data"
        }
      ],
      "source": [
        "case2 <- c(1, # contant\n",
        "           35, # age\n",
        "           100, # waist circumference\n",
        "           0, # alcohol\n",
        "           0, # smoking\n",
        "           30) # temperature\n",
        "\n",
        "sum(case2 * d$beta)"
      ]
    },
    {
      "cell_type": "markdown",
      "metadata": {
        "id": "Dl-vP6f_wRje"
      },
      "source": [
        "## Question 2.15\n",
        "An experiment was conducted [11] to determine how to maximize Mermaid meadowfoam flower production (Table 2.9; data set: flowers) for extraction as vegetable oil.\n",
        "\n",
        "**Table 2.9** *The average number of flowers per meadowfoam plant (based on ten seedlings) exposed to various levels of lighting at two different times: at photoperiodic floral induction (PFI) or 24 days before PFI. These data are consistent with the results in [11]*\n",
        "\n",
        "\\\n",
        "\n",
        "| Timing  | LI|       |       |       |       |       |       |\n",
        "|---------|------------------------------------------------------------------|-------|-------|-------|-------|-------|-------|\n",
        "|         | 150   | 300   | 450   | 600   | 750   | 900   |\n",
        "| At PFI  | 62.4  | 77.1  | 55.7  | 54.2  | 49.5  | 62.0  | 39.3  | 45.3  | 30.9  | 45.2  | 36.8  | 42.2  |\n",
        "| Before PFI | 77.7  | 75.4  | 68.9  | 78.2  | 57.2  | 70.9  | 62.9  | 52.1  | 60.2  | 45.6  | 52.5  | 44.1  |\n",
        "\n",
        "*LI* stands for \"Light intensity (in $\\mu \\text{mol} m^{-2} s^{-1}$)\n",
        "\n",
        "\\\n",
        "1. Plot the average number of flowers produced per plant against the light intensity, distinguishing the two timings. Comment.\n",
        "2. Suppose a model with the systematic component `Flowers ~ Light + Timing` was needed to model the data. What would such a systematic component imply about the relationship between the variables?\n",
        "3. Suppose a model with the systematic component `Flowers ~ Light * Timing` was needed to model the data. What would such a systematic component imply about the relationship between the variables?\n",
        "4. Fit the two linear regression models with the systematic components specified above. Which is the preferred model?\n",
        "5. The fitted model should use all prior weights as $w_i = 10$ for all $i$. What difference does it make if the prior weights are not defined (which r interprets as $w_i = 1$ for all $i$)?\n",
        "6. Plot the systematic component of the preferred regression model on the data.\n",
        "7. Interpret the model.\n",
        "\n",
        "*(This problem continues in Problem 3.13.)*"
      ]
    },
    {
      "cell_type": "markdown",
      "metadata": {
        "id": "rQVyPhJOy5EO"
      },
      "source": [
        "### Answers\n",
        "Let's start by getting our data loaded."
      ]
    },
    {
      "cell_type": "code",
      "execution_count": null,
      "metadata": {
        "colab": {
          "base_uri": "https://localhost:8080/"
        },
        "id": "a47cSdkZyY9E",
        "outputId": "2a6b2424-5695-4e79-e709-e85e71ec8d74",
        "vscode": {
          "languageId": "r"
        }
      },
      "outputs": [
        {
          "name": "stderr",
          "output_type": "stream",
          "text": [
            "Installing package into ‘/usr/local/lib/R/site-library’\n",
            "(as ‘lib’ is unspecified)\n",
            "\n"
          ]
        },
        {
          "name": "stdout",
          "output_type": "stream",
          "text": [
            "'data.frame':\t24 obs. of  3 variables:\n",
            " $ Flowers: num  62.4 77.1 77.7 75.4 55.7 54.2 68.9 78.2 49.5 62 ...\n",
            " $ Light  : int  150 150 150 150 300 300 300 300 450 450 ...\n",
            " $ Timing : Factor w/ 2 levels \"Before\",\"PFI\": 2 2 1 1 2 2 1 1 2 2 ...\n"
          ]
        }
      ],
      "source": [
        "install.packages(\"GLMsData\")\n",
        "library(GLMsData)\n",
        "\n",
        "data(flowers)\n",
        "d <- flowers\n",
        "str(d)"
      ]
    },
    {
      "cell_type": "markdown",
      "metadata": {
        "id": "UQrDbJU5zBJW"
      },
      "source": [
        "#### Answer to 2.15, 1\n",
        "***Plot the average number of flowers produced per plant against the light intensity, distinguishing the two timings. Comment.***"
      ]
    },
    {
      "cell_type": "code",
      "execution_count": null,
      "metadata": {
        "colab": {
          "base_uri": "https://localhost:8080/",
          "height": 437
        },
        "id": "JCpwUMJvzIK_",
        "outputId": "bc91cd0d-e7cd-42db-ac39-76085a7244da",
        "vscode": {
          "languageId": "r"
        }
      },
      "outputs": [
        {
          "data": {
            "image/png": "[encoded data removed]",
            "text/plain": [
              "plot without title"
            ]
          },
          "metadata": {
            "image/png": {
              "height": 420,
              "width": 420
            }
          },
          "output_type": "display_data"
        }
      ],
      "source": [
        "plot(Flowers ~ Light, data=d[d$Timing==\"Before\",])\n",
        "points(Flowers ~ Light, data=d[d$Timing==\"PFI\",], col=\"red\", pch=19)"
      ]
    },
    {
      "cell_type": "markdown",
      "metadata": {
        "id": "6pLL5mWs1LPT"
      },
      "source": [
        "For both `Timing` conditions, `Flowers` decrease with more `Light`.  Fewer `Flowers` occur across all values of `Light` for the `Timing == 'PFI'` condition compared to the `Timing == \"Before\"` condition."
      ]
    },
    {
      "cell_type": "markdown",
      "metadata": {
        "id": "bxZSX-uiGAPj"
      },
      "source": [
        "#### Answers to 2.15, 2 and 3\n",
        "***2. Suppose a model with the systematic component `Flowers ~ Light + Timing` was needed to model the data. What would such a systematic component imply about the relationship between the variables?***\n",
        "\n",
        "***3. Suppose a model with the systematic component `Flowers ~ Light * Timing` was needed to model the data. What would such a systematic component imply about the relationship between the variables?***\n",
        "\n",
        "The model `Flowers ~ Light + Timing` would imply that the variable $Flowers$ is well modeled by the additive relations with $Light$ and $Timing$.\n",
        "\n",
        "The model `Flowers ~ Light * Timing` can be a little misleading if you're not familiar with R notation.  You might think that this model translates to $Flowers$ being modeled as the interaction between $Light$ and $Timing$.  But in R, the `*` symbol implies both non-interaction relations and interactions like\n",
        "$$Flowers = \\alpha + \\beta_L Light + \\beta_T Timing + \\beta_{LT} \\times Light \\times Timing$$\n",
        "So this model implies that $Flowers$ can be well modeled by the additive relations with $Light$, $Timing$, and the interaction of $Light$ and $Timing$."
      ]
    },
    {
      "cell_type": "markdown",
      "metadata": {
        "id": "w-HmRy2WKTPr"
      },
      "source": [
        "#### Answer to 2.15, 4\n",
        "***Fit the two linear regression models with the systematic components specified above. Which is the preferred model?***\n",
        "\n",
        "As a guess from looking at the plot in part 1, I think the first model (without interaction) will be preferred.  Why? Because the two timing conditions look to have the same slope but different intercepts--meaning that the interaction is unimportant.  But let's see."
      ]
    },
    {
      "cell_type": "code",
      "execution_count": null,
      "metadata": {
        "colab": {
          "base_uri": "https://localhost:8080/",
          "height": 752
        },
        "id": "oyRSNlC3K4SG",
        "outputId": "f174707e-c026-4512-a2e3-55768016d464",
        "vscode": {
          "languageId": "r"
        }
      },
      "outputs": [
        {
          "data": {
            "text/plain": [
              "\n",
              "Call:\n",
              "lm(formula = Flowers ~ Light + Timing, data = d)\n",
              "\n",
              "Residuals:\n",
              "    Min      1Q  Median      3Q     Max \n",
              "-10.040  -3.930  -1.819   5.587  11.866 \n",
              "\n",
              "Coefficients:\n",
              "              Estimate Std. Error t value Pr(>|t|)    \n",
              "(Intercept)  83.399167   3.289525  25.353  < 2e-16 ***\n",
              "Light        -0.040490   0.005157  -7.851 1.11e-07 ***\n",
              "TimingPFI   -12.091667   2.642210  -4.576 0.000164 ***\n",
              "---\n",
              "Signif. codes:  0 ‘***’ 0.001 ‘**’ 0.01 ‘*’ 0.05 ‘.’ 0.1 ‘ ’ 1\n",
              "\n",
              "Residual standard error: 6.472 on 21 degrees of freedom\n",
              "Multiple R-squared:  0.7973,\tAdjusted R-squared:  0.778 \n",
              "F-statistic: 41.29 on 2 and 21 DF,  p-value: 5.279e-08\n"
            ]
          },
          "metadata": {},
          "output_type": "display_data"
        },
        {
          "data": {
            "text/plain": [
              "\n",
              "Call:\n",
              "lm(formula = Flowers ~ Light * Timing, data = d)\n",
              "\n",
              "Residuals:\n",
              "   Min     1Q Median     3Q    Max \n",
              "-9.919 -3.991 -1.698  5.446 11.664 \n",
              "\n",
              "Coefficients:\n",
              "                  Estimate Std. Error t value Pr(>|t|)    \n",
              "(Intercept)      83.116667   4.364515  19.044 2.75e-14 ***\n",
              "Light            -0.039952   0.007471  -5.347 3.11e-05 ***\n",
              "TimingPFI       -11.526667   6.172356  -1.867   0.0766 .  \n",
              "Light:TimingPFI  -0.001076   0.010566  -0.102   0.9199    \n",
              "---\n",
              "Signif. codes:  0 ‘***’ 0.001 ‘**’ 0.01 ‘*’ 0.05 ‘.’ 0.1 ‘ ’ 1\n",
              "\n",
              "Residual standard error: 6.63 on 20 degrees of freedom\n",
              "Multiple R-squared:  0.7974,\tAdjusted R-squared:  0.767 \n",
              "F-statistic: 26.24 on 3 and 20 DF,  p-value: 3.898e-07\n"
            ]
          },
          "metadata": {},
          "output_type": "display_data"
        },
        {
          "data": {
            "text/html": [
              "162.544070724765"
            ],
            "text/latex": [
              "162.544070724765"
            ],
            "text/markdown": [
              "162.544070724765"
            ],
            "text/plain": [
              "[1] 162.5441"
            ]
          },
          "metadata": {},
          "output_type": "display_data"
        },
        {
          "data": {
            "text/html": [
              "164.531625074486"
            ],
            "text/latex": [
              "164.531625074486"
            ],
            "text/markdown": [
              "164.531625074486"
            ],
            "text/plain": [
              "[1] 164.5316"
            ]
          },
          "metadata": {},
          "output_type": "display_data"
        }
      ],
      "source": [
        "m1 <- lm(Flowers ~ Light + Timing, data=d)\n",
        "m2 <- lm(Flowers ~ Light * Timing, data=d)\n",
        "\n",
        "summary(m1)\n",
        "summary(m2)\n",
        "\n",
        "AIC(m1)\n",
        "AIC(m2)"
      ]
    },
    {
      "cell_type": "markdown",
      "metadata": {
        "id": "qu7F2-cyL4ml"
      },
      "source": [
        "Indeed, the interaction term in `m2` is basically 0 with a very high p-value--suggesting that it is unimportant.  Using `AIC`, `m1` is apparently preferred over `m2`."
      ]
    },
    {
      "cell_type": "markdown",
      "metadata": {
        "id": "OvW6GcvsNiPC"
      },
      "source": [
        "#### Answer to 2.15, 5\n",
        "***The fitted model should use all prior weights as $w_i = 10$ for all $i$. What difference does it make if the prior weights are not defined (which r interprets as $w_i = 1$ for all $i$)?***\n",
        "\n",
        "Wha!? where are these \"prior weights\" coming from?  Well, you'd have to read the information file on the `flowers` data.frame()"
      ]
    },
    {
      "cell_type": "code",
      "execution_count": null,
      "metadata": {
        "id": "84kkFR3vOUbL",
        "vscode": {
          "languageId": "r"
        }
      },
      "outputs": [],
      "source": [
        "?flowers"
      ]
    },
    {
      "cell_type": "markdown",
      "metadata": {
        "id": "AQ8nMXb5OXLH"
      },
      "source": [
        "It says: \"`Flowers` the mean number of flowers per meadowfoam plant,\n",
        "          averaged over ten seedlings; a numeric vector\".\n",
        "\n",
        "So let's run the `m1` regression with and without weights."
      ]
    },
    {
      "cell_type": "code",
      "execution_count": null,
      "metadata": {
        "colab": {
          "base_uri": "https://localhost:8080/",
          "height": 717
        },
        "id": "fbKWlsmPNnJB",
        "outputId": "a67d7d93-139e-4386-96f8-9c01541c2c0d",
        "vscode": {
          "languageId": "r"
        }
      },
      "outputs": [
        {
          "data": {
            "text/plain": [
              "\n",
              "Call:\n",
              "lm(formula = Flowers ~ Light + Timing, data = d)\n",
              "\n",
              "Residuals:\n",
              "    Min      1Q  Median      3Q     Max \n",
              "-10.040  -3.930  -1.819   5.587  11.866 \n",
              "\n",
              "Coefficients:\n",
              "              Estimate Std. Error t value Pr(>|t|)    \n",
              "(Intercept)  83.399167   3.289525  25.353  < 2e-16 ***\n",
              "Light        -0.040490   0.005157  -7.851 1.11e-07 ***\n",
              "TimingPFI   -12.091667   2.642210  -4.576 0.000164 ***\n",
              "---\n",
              "Signif. codes:  0 ‘***’ 0.001 ‘**’ 0.01 ‘*’ 0.05 ‘.’ 0.1 ‘ ’ 1\n",
              "\n",
              "Residual standard error: 6.472 on 21 degrees of freedom\n",
              "Multiple R-squared:  0.7973,\tAdjusted R-squared:  0.778 \n",
              "F-statistic: 41.29 on 2 and 21 DF,  p-value: 5.279e-08\n"
            ]
          },
          "metadata": {},
          "output_type": "display_data"
        },
        {
          "data": {
            "text/plain": [
              "\n",
              "Call:\n",
              "lm(formula = Flowers ~ Light + Timing, data = d, weights = rep(10, \n",
              "    nrow(d)))\n",
              "\n",
              "Residuals:\n",
              "    Min      1Q  Median      3Q     Max \n",
              "-31.748 -12.428  -5.753  17.668  37.524 \n",
              "\n",
              "Coefficients:\n",
              "              Estimate Std. Error t value Pr(>|t|)    \n",
              "(Intercept)  83.399167   3.289525  25.353  < 2e-16 ***\n",
              "Light        -0.040490   0.005157  -7.851 1.11e-07 ***\n",
              "TimingPFI   -12.091667   2.642210  -4.576 0.000164 ***\n",
              "---\n",
              "Signif. codes:  0 ‘***’ 0.001 ‘**’ 0.01 ‘*’ 0.05 ‘.’ 0.1 ‘ ’ 1\n",
              "\n",
              "Residual standard error: 20.47 on 21 degrees of freedom\n",
              "Multiple R-squared:  0.7973,\tAdjusted R-squared:  0.778 \n",
              "F-statistic: 41.29 on 2 and 21 DF,  p-value: 5.279e-08\n"
            ]
          },
          "metadata": {},
          "output_type": "display_data"
        }
      ],
      "source": [
        "m1w <- lm(Flowers ~ Light + Timing, data=d, weights = rep(10, nrow(d)))\n",
        "\n",
        "summary(m1)\n",
        "summary(m1w)"
      ]
    },
    {
      "cell_type": "markdown",
      "metadata": {
        "id": "qnDdHUylPqWf"
      },
      "source": [
        "No differences."
      ]
    },
    {
      "cell_type": "markdown",
      "metadata": {
        "id": "y9vIRAMSQjYb"
      },
      "source": [
        "#### Answer to 2.15, 6\n",
        "***Plot the systematic component of the preferred regression model on the data.***"
      ]
    },
    {
      "cell_type": "code",
      "execution_count": null,
      "metadata": {
        "colab": {
          "base_uri": "https://localhost:8080/",
          "height": 437
        },
        "id": "OpxtOkhtQn1V",
        "outputId": "1bd2c5ea-9d7f-4323-fce4-b3b3877ce19e",
        "vscode": {
          "languageId": "r"
        }
      },
      "outputs": [
        {
          "data": {
            "image/png": "[encoded data removed]",
            "text/plain": [
              "plot without title"
            ]
          },
          "metadata": {
            "image/png": {
              "height": 420,
              "width": 420
            }
          },
          "output_type": "display_data"
        }
      ],
      "source": [
        "plot(Flowers ~ Light, data=d[d$Timing==\"Before\",])\n",
        "points(Flowers ~ Light, data=d[d$Timing==\"PFI\",], col=\"red\", pch=19)\n",
        "abline(coef(m1)[1], coef(m1)[2], lty=2, col=\"black\")\n",
        "abline(sum(coef(m1)[c(1, 3)]), coef(m1)[2], lty=1, col=\"red\")"
      ]
    },
    {
      "cell_type": "markdown",
      "metadata": {
        "id": "8cs0y-P5RREt"
      },
      "source": [
        "#### Answer to 2.15, 7\n",
        "***Interpret the model.***\n",
        "\n",
        "Under either lighting condition, `Flowers` decreases with `Light` at approximately the same rate.  `Timing` also affect `Flowers`; `Timing == \"RFI` generally suppresses `Flowers` compared to `Before`."
      ]
    }
  ],
  "metadata": {
    "colab": {
      "provenance": []
    },
    "kernelspec": {
      "display_name": "R",
      "name": "ir"
    },
    "language_info": {
      "name": "R"
    }
  },
  "nbformat": 4,
  "nbformat_minor": 0
}
