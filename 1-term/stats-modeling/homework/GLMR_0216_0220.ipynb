{
  "cells": [
    {
      "cell_type": "markdown",
      "metadata": {
        "id": "wfB-SUKYAasY"
      },
      "source": [
        "## Question 2.11\n",
        "In Sect. 2.7, an interpretation for a model with systematic component $μ = E[log(y)] = β_0 + β_1x$ was discussed.\n",
        "1. Use a Taylor series expansion of $log(y)$ about $μ = E[y]$.\n",
        "2. Find the expected value of both sides of this equation, and hence show that $E[log(y)] ≈ log(E[y]) = log(μ)$.\n",
        "3. Using this information, show that an increase in the value of $x$ by $1$ is associated (approximately) with a change in $μ$ by a factor of $exp(β_1)$.\n"
      ]
    },
    {
      "cell_type": "markdown",
      "metadata": {
        "id": "nlgHqgwAYM86"
      },
      "source": [
        "### Answer to 2.11, 1\n",
        "***Use a Taylor series expansion of  $log(y)$  about  $μ=E[y]$.***\n",
        "\n",
        "We already saw how to do Taylor expansion in the previous question.  So let's plug-and-chug.\n",
        "\n",
        "NOTE that we'll use the natural log, so I'll give my answers in terms of $ln$ instead of $log$.\n",
        "\n",
        "> $f(y) = ln(y) = f(\\mu) + f'(\\mu)(y - \\mu) + f''(\\mu)(y - \\mu)^2 + ...$\n",
        "\n",
        "> $= ln(\\mu) + \\frac{1}{\\mu}(y - \\mu) - \\frac{1}{2\\mu^2}(y - \\mu)^2 + ...$"
      ]
    },
    {
      "cell_type": "markdown",
      "metadata": {
        "id": "B-7zaMQYaHXS"
      },
      "source": [
        "### Answer to 2.11, 2\n",
        "***Find the expected value of both sides of this equation, and hence show that $E[log(y)] ≈ log(E[y]) = log(μ)$.***\n",
        "\n",
        "We'll start by taking the expectation of each term.\n",
        "\n",
        "> $E[ln(y)] = E[ln(\\mu)] + E[\\frac{1}{\\mu}(y-\\mu)] - E[\\frac{1}{2\\mu^2}(y-\\mu)^2] + ...$\n",
        "\n",
        "Since $\\mu$ and $ln(\\mu)$ are constants, we get\n",
        "\n",
        "> $E[ln(y)] = ln(\\mu) + \\frac{1}{\\mu}E[(y-\\mu)] - \\frac{1}{2\\mu^2}E[(y-\\mu)^2] + ...$\n",
        "\n",
        "Interestingly, $E[(y-\\mu)]=0$ and $E[(y-\\mu)^2] = var(y)$ such that we're left with\n",
        "\n",
        "> $E[ln(y)] = ln(\\mu) - \\frac{1}{2\\mu^2}var(y) + ...$\n",
        "\n",
        "In other words,\n",
        "\n",
        "> $E[ln(y)] \\approx ln(\\mu)$\n",
        "\n",
        "which is what we're meant to show."
      ]
    },
    {
      "cell_type": "markdown",
      "metadata": {
        "id": "jOz52jkYeeUg"
      },
      "source": [
        "### Answer to 2.11, 3\n",
        "***Using this information, show that an increase in the value of $x$ by $1$ is associated (approximately) with a change in $μ$ by a factor of $exp(β_1)$.***\n",
        "\n",
        "Given that $E[ln(y)] \\approx ln(\\mu) \\approx \\beta_0 + \\beta_1x$, a 1-unit increase in $x$ causes a $\\beta_1$ change to $ln(\\mu)$.  But we're meant to show the change to $\\mu$ (not $ln(\\mu)$).\n",
        "\n",
        "To do this, we can inverse the natural log by exponentiating both sides of the equation.\n",
        "\n",
        "> $e^{(ln(\\mu))} = \\mu = e^{(\\beta_0 + \\beta_1x)} = e^{\\beta_0} \\times e^{\\beta_1x}$\n",
        "\n",
        "So a one-unit increase in $x$ **multiplicatively** increases $\\mu$ by a factor of $e^{\\beta_1}$.  For instance, take $\\mu_0$ to be $\\mu$ when $x=2$ such that $\\mu_0 = e^{\\beta_0} \\times e^{2\\beta_1}$.  Now take $\\mu_1$ to be $\\mu$ when $x=3$ such that $\\mu_1 = e^{\\beta_0} \\times e^{3\\beta_1}$.  Then $\\frac{\\mu_1}{\\mu_0} = \\frac{e^{\\beta_0} \\times e^{3\\beta_1}}{e^{\\beta_0} \\times e^{2\\beta_1}} = e^{\\beta_1}$"
      ]
    },
    {
      "cell_type": "markdown",
      "metadata": {
        "id": "jkW7IDKnHOH2"
      },
      "source": [
        "## Question 2.12\n",
        "Using R, produce a vector of 30 random numbers $y$ from a standard normal distribution (use `rnorm()`). Generate a second vector of 30 random numbers $x$ from a standard normal distribution. Find the P-value for testing if the explanatory variable $x$ is significantly related to $y$ using the regression model `lm(y ~ x)`.\n",
        "\n",
        "Repeat the process a large number of times, say 1000 times. What proportion of the P-values are less than 5%? Less than 10%? What is the lesson?\n",
        "\n",
        "### Answer\n",
        "To execute this we'll run the model through a for-loop."
      ]
    },
    {
      "cell_type": "code",
      "execution_count": null,
      "metadata": {
        "id": "lbkmnqOuHuBg",
        "vscode": {
          "languageId": "r"
        }
      },
      "outputs": [],
      "source": [
        "pvalues <- numeric(length=1000)\n",
        "\n",
        "for(i in 1:1000){\n",
        "  x <- rnorm(30)\n",
        "  y <- rnorm(30)\n",
        "\n",
        "  m <- lm(y ~ 0+x)\n",
        "\n",
        "  pvalues[i] <- summary(m)$coef[,4]\n",
        "}"
      ]
    },
    {
      "cell_type": "markdown",
      "metadata": {
        "id": "whVmuLf5IsHC"
      },
      "source": [
        "Here's the important thing to understand here.  We know that there is no relationship between `x` and `y` BECAUSE WE MADE THE DATA SUCH THAT THEY ARE INDEPENDENT.  Having said that, How many p-values should we expect to be $\\le 0.05$? $\\le 0.10$?\n",
        "\n",
        "To answer, remember what p-values represent, the probability of our null distribution generating data like that which we found.  So we should ~5% of our p-values to be $\\le 0.05$ and 10% of our pvalues to be $\\le 0.10$.  "
      ]
    },
    {
      "cell_type": "code",
      "execution_count": null,
      "metadata": {
        "colab": {
          "base_uri": "https://localhost:8080/",
          "height": 472
        },
        "id": "j8U6aXdmIhJp",
        "outputId": "5ab37d70-35f1-4d1e-ca10-0958adf87fea",
        "vscode": {
          "languageId": "r"
        }
      },
      "outputs": [
        {
          "data": {
            "text/html": [
              "0.055"
            ],
            "text/latex": [
              "0.055"
            ],
            "text/markdown": [
              "0.055"
            ],
            "text/plain": [
              "[1] 0.055"
            ]
          },
          "metadata": {},
          "output_type": "display_data"
        },
        {
          "data": {
            "text/html": [
              "0.115"
            ],
            "text/latex": [
              "0.115"
            ],
            "text/markdown": [
              "0.115"
            ],
            "text/plain": [
              "[1] 0.115"
            ]
          },
          "metadata": {},
          "output_type": "display_data"
        },
        {
          "data": {
            "image/png": "[encoded data removed]",
            "text/plain": [
              "Plot with title “Histogram of pvalues”"
            ]
          },
          "metadata": {
            "image/png": {
              "height": 420,
              "width": 420
            }
          },
          "output_type": "display_data"
        }
      ],
      "source": [
        "hist(pvalues, breaks=20); abline(v=0.05, col=\"red\"); abline(v=0.10, col=\"red\", lty=2)\n",
        "\n",
        "sum(pvalues < 0.05) / length(pvalues)\n",
        "sum(pvalues < 0.10) / length(pvalues)"
      ]
    },
    {
      "cell_type": "markdown",
      "metadata": {
        "id": "AAhTdBP4KAub"
      },
      "source": [
        "Indeed, this is what we find.  What's the lesson? I guess there's a few.  \n",
        "1. For one null-hypothesis significance tests (NHST) do NOT test the experimental hypothesis but rather the null hypothesis.  \n",
        "2. Rejected null hypotheses remain suspect.  To properly test a hypothesis, many controls must be in place, the result should be replicated several times, and test in several ways, and tested in different contexts (people, equipment, location, etc.).\n",
        "3. A large number of NHSTs will lead to false rejections."
      ]
    },
    {
      "cell_type": "markdown",
      "metadata": {
        "id": "3ShuYSPagRbd"
      },
      "source": [
        "## Question 2.13\n",
        "A study exposed sleeping people (males and females) of various ages to four different fire cues (a crackling noise, a shuffling noise, a flickering light, an unpleasant smell), and recorded the response time (in seconds) for the people to wake. Use the partially complete ANOVA table (Table 2.7) to answer the following questions.\n",
        "\n",
        "1. Determine the degrees of freedom omitted from Table 2.7.\n",
        "2. Determine how many observations were used in the analysis.\n",
        "3. Find an unbiased estimate of $σ^2$.\n",
        "4. Determine which explanatory variables are statistically significant for predicting response time, using sequential F-tests.\n",
        "5. The analysed data are for participants who actually woke during the experiment; some failed to wake at all and were omitted from the analysis. Explain how this affects the interpretation of the results.\n",
        "6. Compute the aic for the three nested models implied by Table 2.7. What model is suggested by the aic?\n",
        "7. Compute the bic for the three nested models implied by Table 2.7. What model is suggested by the bic?\n",
        "8. Compute $R^2$ and the adjusted $R^2$ for the three models implied by Table 2.7. What model is suggested by the $R^2$ and the adjusted $R^2$?\n",
        "9. Compare the models suggested by the anova table, the aic, the bic, $R^2$ and the adjusted $R^2$. Comment.\n",
        "\n",
        "\\\n",
        "\n",
        "**Table 2.7**\n",
        "\n",
        "| Source of Variation | df | SS |\n",
        "|---------------------|----|----|\n",
        "| Cue | ? | 117,793|\n",
        "| Sex | ? | 2,659 |\n",
        "| Age | 3 | 22,850 |\n",
        "| Residual | 60 | 177,639 |"
      ]
    },
    {
      "cell_type": "markdown",
      "metadata": {
        "id": "f4mNP7aIhbi4"
      },
      "source": [
        "### Answer to 2.13, 1\n",
        "***Determine the degrees of freedom omitted from Table 2.7.***\n",
        "\n",
        "We have 4 cues and 2 sexes.  Our basic equation for the degrees of freedom for a factor with $levels = l$ is $df = l-1$.  So here, $df_{cue} = 4-1=3$ and $df_{sex}=2-1=1$."
      ]
    },
    {
      "cell_type": "markdown",
      "metadata": {
        "id": "F6jWOuAPjmXI"
      },
      "source": [
        "### Answer to 2.13, 2\n",
        "***Determine how many observations were used in the analysis.***\n",
        "\n",
        "Now that we have our total df, 67, we can take advantage of the fact that $df_{total} = n-1$.  Hence, the total number of observations was $n=df_{total}+1 = 67+1 = 68$."
      ]
    },
    {
      "cell_type": "markdown",
      "metadata": {
        "id": "9K_6PQ8gkX6Q"
      },
      "source": [
        "### Answer to 2.13, 3\n",
        "***Find an unbiased estimate of $σ^2$.***\n",
        "\n",
        "Our unbiased estimate of the $\\sigma^2$, the residual variance, is $\\hat{\\sigma}^2 = \\frac{SS_{residual}}{df_{residual}} = \\frac{1777639}{60} = 2960.65$"
      ]
    },
    {
      "cell_type": "markdown",
      "metadata": {
        "id": "CBQ2t1QTzJft"
      },
      "source": [
        "### Answer to 2.13, 4\n",
        "***Determine which explanatory variables are statistically significant for predicting response time, using sequential F-tests.***\n",
        "\n",
        "I don't really like this question.  The output of sequential F-tests varies with the sequence in which you test the factors; test $\\text{Sex}$ first and you get one answer, test it second and get a different answer.  Without some information about how these variables relate, i.e., which should be controlled for when testing, there are too many possible tests from which to make sense.  So I'll just run calculate the F for each variable.\n",
        "\n",
        "| Source of Variation | df | SS | MS | F | p |\n",
        "|---------------------|----|----|----|---|---|\n",
        "| Cue | 3 | 117,793 | 39,264.33 | 4.42 | 0.01 |\n",
        "| Sex | 1 | 2,659 | 2,659 | 0.90 | 0.35 |\n",
        "| Age | 3 | 22,850 | 7616.67 | 2.57 | 0.06 |\n",
        "| Residual | 60 | 177,639 | 2,960.65 | NA | NA |"
      ]
    },
    {
      "cell_type": "markdown",
      "metadata": {
        "id": "V0RgmMZPIw37"
      },
      "source": [
        "### Answer to 2.13, 5\n",
        "***The analysed data are for participants who actually woke during the experiment; some failed to wake at all and were omitted from the analysis. Explain how this affects the interpretation of the results.***\n",
        "\n",
        "At least, this limits the applicability of the findings; those that awoke may differ from those that did not.  We might call this a \"bias\".  Rather than speaking to something like the probabilities of certain outcomes, then, it can only speak to something like the *conditional* probabilities of certain outcomes; e.g., *conditional on waking up...*."
      ]
    },
    {
      "cell_type": "markdown",
      "metadata": {
        "id": "Jr7LbEvVKVjk"
      },
      "source": [
        "### Answer to 2.13, 6\n",
        "***Compute the aic for the three nested models implied by Table 2.7. What model is suggested by the aic?***\n",
        "\n",
        "To start, we should acknowledge that the book seemingly advocates ANOVA for comparing nested models but AIC/BIC for non-nested models.  However, as this question suggests, I don't think there is any reason that AIC cannot also be used for comparing nested models.\n",
        "\n",
        "Equation 2.35 gives us the formula aic:\n",
        "\n",
        "$$AIC = n \\ \\text{ln}(\\text{RSS}/n) + 2p'$$\n",
        "\n",
        "I think that the implied \"three nested models\" are $\\text{(Cue)} < \\text{(Cue + Sex)} < \\text{(Cue + Sex + Age)}$.  Let's first find $\\text{AIC}_{\\text{(Cue+Sex+Age)}}$\n",
        "\n",
        "$$\\text{AIC}_{\\text{(Cue+Sex+Age)}} = 68 \\ \\text{ln}\\left(\\frac{177,639}{68}\\right) + 2(4) \\approx 543$$\n",
        "$$\\text{AIC}_{\\text{(Cue+Sex)}} = 68 \\ \\text{ln}\\left(\\frac{177,639 + 22,850}{68}\\right) + 2(3) \\approx 549$$\n",
        "$$\\text{AIC}_{\\text{(Cue)}} = 68 \\ \\text{ln}\\left(\\frac{177,639 + 22,850 + 2,659}{68}\\right) + 2(2) \\approx 548$$\n",
        "$$\\text{AIC}_{\\text{(intercept)}} = 68 \\ \\text{ln}\\left(\\frac{177,639 + 22,850 + 2,659 + 117,793}{68}\\right) + 2(1) \\approx 577$$\n",
        "\n",
        "So the \"intercept-only\" model does the worst, but the other 3 models are pretty similar."
      ]
    },
    {
      "cell_type": "code",
      "execution_count": null,
      "metadata": {
        "colab": {
          "base_uri": "https://localhost:8080/",
          "height": 86
        },
        "id": "L2OqnFIm1hSU",
        "outputId": "90fb6166-5fa1-4694-9055-ed0fa06b5482",
        "vscode": {
          "languageId": "r"
        }
      },
      "outputs": [
        {
          "data": {
            "text/html": [
              "543.02406628989"
            ],
            "text/latex": [
              "543.02406628989"
            ],
            "text/markdown": [
              "543.02406628989"
            ],
            "text/plain": [
              "[1] 543.0241"
            ]
          },
          "metadata": {},
          "output_type": "display_data"
        },
        {
          "data": {
            "text/html": [
              "549.252473021922"
            ],
            "text/latex": [
              "549.252473021922"
            ],
            "text/markdown": [
              "549.252473021922"
            ],
            "text/plain": [
              "[1] 549.2525"
            ]
          },
          "metadata": {},
          "output_type": "display_data"
        },
        {
          "data": {
            "text/html": [
              "548.148399884942"
            ],
            "text/latex": [
              "548.148399884942"
            ],
            "text/markdown": [
              "548.148399884942"
            ],
            "text/plain": [
              "[1] 548.1484"
            ]
          },
          "metadata": {},
          "output_type": "display_data"
        },
        {
          "data": {
            "text/html": [
              "577.246331800532"
            ],
            "text/latex": [
              "577.246331800532"
            ],
            "text/markdown": [
              "577.246331800532"
            ],
            "text/plain": [
              "[1] 577.2463"
            ]
          },
          "metadata": {},
          "output_type": "display_data"
        }
      ],
      "source": [
        "68 * log(177639 / 68) + 8\n",
        "68 * log((177639 + 22850) / 68) + 6\n",
        "68 * log((177639 + 22850 + 2659) / 68) + 4\n",
        "68 * log((177639 + 22850 + 2659 + 117793) / 68) + 2"
      ]
    },
    {
      "cell_type": "markdown",
      "metadata": {
        "id": "HV-VnnDdPCzb"
      },
      "source": [
        "### Answer to 2.13, 7\n",
        "***Compute the bic for the three nested models implied by Table 2.7. What model is suggested by the bic?***\n",
        "\n",
        "Recall that BIC is an alternative to AIC.  Its formula is given in Equation 2.36:\n",
        "\n",
        "$$BIC = n \\ \\text{ln}(\\text{RSS}/n) + p' \\text{ln} \\ n$$\n",
        "\n",
        "$$BIC_{Cue + Sex + Age} = 68 \\ \\text{ln} \\ \\left(\\frac{177,639}{68}\\right) + 4 \\ \\text{ln}(68) \\approx 552$$\n",
        "\n",
        "$$BIC_{Cue + Sex} = 68 \\ \\text{ln} \\ \\left(\\frac{177,639 + 22,850}{68}\\right) + 3 \\ \\text{ln}(68) \\approx 556$$\n",
        "\n",
        "$$BIC_{Cue} = 68 \\ \\text{ln} \\ \\left(\\frac{177,639 + 22,850 + 2,659}{68}\\right) + 2 \\ \\text{ln}(68) \\approx 553$$\n",
        "\n",
        "$$BIC_{(intercept)} = 68 \\ \\text{ln} \\ \\left(\\frac{177,639 + 22,850 + 2,659 + 117,793}{68}\\right) + 1 \\ \\text{ln}(68) \\approx 579$$\n",
        "\n",
        "Once again, the models are pretty similar, but the \"intercept-only\" model seems appreciably worse than any of the others.  Technically, the $Cue + Sex + Age$ model is best."
      ]
    },
    {
      "cell_type": "code",
      "execution_count": null,
      "metadata": {
        "colab": {
          "base_uri": "https://localhost:8080/",
          "height": 86
        },
        "id": "5W88v7TS3Czt",
        "outputId": "c3106d43-8de3-4a3b-ab4a-92b27f130f8f",
        "vscode": {
          "languageId": "r"
        }
      },
      "outputs": [
        {
          "data": {
            "text/html": [
              "551.902097110595"
            ],
            "text/latex": [
              "551.902097110595"
            ],
            "text/markdown": [
              "551.902097110595"
            ],
            "text/plain": [
              "[1] 551.9021"
            ]
          },
          "metadata": {},
          "output_type": "display_data"
        },
        {
          "data": {
            "text/html": [
              "555.910996137451"
            ],
            "text/latex": [
              "555.910996137451"
            ],
            "text/markdown": [
              "555.910996137451"
            ],
            "text/plain": [
              "[1] 555.911"
            ]
          },
          "metadata": {},
          "output_type": "display_data"
        },
        {
          "data": {
            "text/html": [
              "552.587415295294"
            ],
            "text/latex": [
              "552.587415295294"
            ],
            "text/markdown": [
              "552.587415295294"
            ],
            "text/plain": [
              "[1] 552.5874"
            ]
          },
          "metadata": {},
          "output_type": "display_data"
        },
        {
          "data": {
            "text/html": [
              "579.465839505708"
            ],
            "text/latex": [
              "579.465839505708"
            ],
            "text/markdown": [
              "579.465839505708"
            ],
            "text/plain": [
              "[1] 579.4658"
            ]
          },
          "metadata": {},
          "output_type": "display_data"
        }
      ],
      "source": [
        "68 * log((177639) / 68) + 4*log(68)\n",
        "68 * log((177639 + 22850) / 68) + 3*log(68)\n",
        "68 * log((177639 + 22850 + 2659) / 68) + 2*log(68)\n",
        "68 * log((177639 + 22850 + 2659 + 117793) / 68) + 1*log(68)"
      ]
    },
    {
      "cell_type": "markdown",
      "metadata": {
        "id": "z5SVOqIW14Kn"
      },
      "source": [
        "### Answer to 2.13, 8\n",
        "***Compute $R^2$ and the adjusted $R^2$ for the three models implied by Table 2.7. What model is suggested by the $R^2$ and the adjusted $\\bar{R}^2$?***\n",
        "\n",
        "Let's recall the equations for $R^2$ and $\\bar{R}^2$; by equations (2.29) and (2.30):\n",
        "$$R^2 = \\frac{\\text{ssReg}}{SST} = 1 - \\frac{RSS}{SST}$$\n",
        "\\\n",
        "$$\\bar{R}^2 = 1 - \\frac{RSS/(n-p')}{SST/(n-1)} = 1 - (1 - R^2) \\frac{n-1}{n-p'}$$\n",
        "\\\n",
        "\\\n",
        "$$R^2_{Cue+Sex+Age} = 1 - \\frac{177,639}{177,639 + 22,850 + 2659 + 117,793} \\approx 0.45$$\n",
        "\\\n",
        "$$\\bar{R}^2_{Cue+Sex+Age} = 1 - \\frac{177,639 / (68 - 4)}{(177,639 + 22,850 + 2659 + 117,793) / (68 - 1)} \\approx 0.42$$\n",
        "\\\n",
        "\\\n",
        "$$R^2_{Cue+Sex} = 1 - \\frac{177,639 + 117,793}{177,639 + 22,850 + 2659 + 117,793} \\approx 0.08$$\n",
        "\\\n",
        "$$\\bar{R}^2_{Cue+Sex} = 1 - \\frac{(177,639 + 117,793) / (68 - 3)}{(177,639 + 22,850 + 2659 + 117,793) / (68 - 1)} \\approx 0.05$$\n",
        "\\\n",
        "\\\n",
        "$$R^2_{Cue} = 1 - \\frac{177,639 + 117,793 + 2659}{177,639 + 22,850 + 2659 + 117,793} \\approx 0.07$$\n",
        "\\\n",
        "$$\\bar{R}^2_{Cue} = 1 - \\frac{(177,639 + 117,793 + 2659) / (68 - 2)}{(177,639 + 22,850 + 2659 + 117,793) / (68 - 1)} \\approx 0.06$$\n",
        "\n",
        "Both metrics tell about the same: the full model is most explanatory and the others explain similar limited amounts of variance."
      ]
    },
    {
      "cell_type": "code",
      "execution_count": null,
      "metadata": {
        "colab": {
          "base_uri": "https://localhost:8080/",
          "height": 121
        },
        "id": "cXcFprhR4BMZ",
        "outputId": "f0641452-f98c-4cf2-de41-e7274b9c5dc6",
        "vscode": {
          "languageId": "r"
        }
      },
      "outputs": [
        {
          "data": {
            "text/html": [
              "0.446505744046414"
            ],
            "text/latex": [
              "0.446505744046414"
            ],
            "text/markdown": [
              "0.446505744046414"
            ],
            "text/plain": [
              "[1] 0.4465057"
            ]
          },
          "metadata": {},
          "output_type": "display_data"
        },
        {
          "data": {
            "text/html": [
              "0.420560700798589"
            ],
            "text/latex": [
              "0.420560700798589"
            ],
            "text/markdown": [
              "0.420560700798589"
            ],
            "text/plain": [
              "[1] 0.4205607"
            ]
          },
          "metadata": {},
          "output_type": "display_data"
        },
        {
          "data": {
            "text/html": [
              "0.0794818985420996"
            ],
            "text/latex": [
              "0.0794818985420996"
            ],
            "text/markdown": [
              "0.0794818985420996"
            ],
            "text/plain": [
              "[1] 0.0794819"
            ]
          },
          "metadata": {},
          "output_type": "display_data"
        },
        {
          "data": {
            "text/html": [
              "0.0511582646510873"
            ],
            "text/latex": [
              "0.0511582646510873"
            ],
            "text/markdown": [
              "0.0511582646510873"
            ],
            "text/plain": [
              "[1] 0.05115826"
            ]
          },
          "metadata": {},
          "output_type": "display_data"
        },
        {
          "data": {
            "text/html": [
              "0.0711968866551796"
            ],
            "text/latex": [
              "0.0711968866551796"
            ],
            "text/markdown": [
              "0.0711968866551796"
            ],
            "text/plain": [
              "[1] 0.07119689"
            ]
          },
          "metadata": {},
          "output_type": "display_data"
        },
        {
          "data": {
            "text/html": [
              "0.0571241122105611"
            ],
            "text/latex": [
              "0.0571241122105611"
            ],
            "text/markdown": [
              "0.0571241122105611"
            ],
            "text/plain": [
              "[1] 0.05712411"
            ]
          },
          "metadata": {},
          "output_type": "display_data"
        }
      ],
      "source": [
        "1 - (177639)/ ((177639 + 22850 + 2659 + 117793))\n",
        "1 - ((177639) / (68-4)) / ((177639 + 22850 + 2659 + 117793) / (68-1))\n",
        "\n",
        "1 - (177639 + 117793)/ ((177639 + 22850 + 2659 + 117793))\n",
        "1 - ((177639 + 117793) / (68-3)) / ((177639 + 22850 + 2659 + 117793) / (68-1))\n",
        "\n",
        "1 - (177639 + 117793 + 2659)/ ((177639 + 22850 + 2659 + 117793))\n",
        "1 - ((177639 + 117793 + 2659) / (68-2)) / ((177639 + 22850 + 2659 + 117793) / (68-1))"
      ]
    },
    {
      "cell_type": "markdown",
      "metadata": {
        "id": "zD15GYtk4ofX"
      },
      "source": [
        "### Answer to 2.13, 9\n",
        "***Compare the models suggested by the anova table, the aic, the bic, $R^2$ and the adjusted $R^2$. Comment.***\n",
        "\n",
        "Across each model-comparison technique, the full model performed best.  However, the methods differed in their relative ranking of the remaining incomplete models: aic and bic show that the 3 models perform similarly well, while $R^2$ and $\\bar{R}^2$ appear to suggest a large difference between the full model and either incomplete model."
      ]
    },
    {
      "cell_type": "markdown",
      "metadata": {
        "id": "ICoKq4xYVUnb"
      },
      "source": [
        "## Question 2.14\n",
        "\n",
        "Numerous studies have shown an association between seasonal ambient temperature (in ◦C) and blood pressure (in mm Hg). A study of 574 rural Ghanaian men aged between 18 and 65 studied this relationship [9] (and also included a number of extraneous variables) using a linear regression model, producing the results in Table 2.8.\n",
        "\n",
        "**Table 2.8 The parameter estimates and the standard errors in the linear regression model for estimating the systolic blood pressure (in mm Hg) in Ghanaian men aged between 18 and 65 (Problem 2.14)**\n",
        "\n",
        "|Explanatory variable|$\\hat{\\beta}_j$|se($\\hat{\\beta}_j$)|\n",
        "|--------------------|---------------|-------------------|\n",
        "|Constant|100.812|13.096|\n",
        "|Age(in years|0.332|0.062|\n",
        "|Waist circumference (in cm)|0.411|0.090|\n",
        "|Alcohol (yes:1; no:0)|-3.003|1.758|\n",
        "|Smoking (yes:1; no:0)|-0.362|2.732|\n",
        "|Ambient temperature (in ◦C)|-0.521|0.262|\n",
        "\n",
        "\n",
        "1. Compute the P-values for each term in the model, and comment.\n",
        "\n",
        "2. After adjusting for age, waist circumference, alcohol consumption and smoking habits, describe the relationship between ambient temperature and systolic blood pressure.\n",
        "\n",
        "3. Plot the line describing the relationship between ambient temperature and systolic blood pressure for 30-year-old men who do not smoke, do drink alcohol and have a waist circumference of 100 cm. The authors state that\n",
        "\n",
        ">> Daily mean temperatures range between an average minimum of 20◦C in the rainy season and an average maximum of 40◦C in the dry season. In the dry season, early mornings are usually cool and the afternoons commonly hot with daily maximum temperatures going as high as 45◦C (p. 17).\n",
        "\n",
        ">Use this information to guide your choice of temperature values for your plot.\n",
        "\n",
        "4. Compute a 95% confidence interval for the regression parameter for ambient temperature.\n",
        "\n",
        "5. Interpret the relationship between ambient temperature and all the variables in the regression equation.\n",
        "\n",
        "6. Predict the mean systolic blood pressure for 35 year-old Ghanaian men (who do not smoke, do drink alcohol and have a waist circumference of 100 cm) when the ambient temperature is 30◦C."
      ]
    },
    {
      "cell_type": "markdown",
      "metadata": {
        "id": "rFox4sBuCLio"
      },
      "source": [
        "### Answer to 2.14, 1\n",
        "***Compute the P-values for each term in the model, and comment.***\n",
        "\n",
        "To find the p-values for these $\\hat{\\beta}$ estimates, we'll find the T-statistics like\n",
        "$$T = \\frac{\\hat{\\beta} - \\beta_0}{se(\\hat{\\beta})}$$;\n",
        "if $H_0$ is true, then then $T \\sim t(df=n-p', \\mu=0, \\sigma=se(\\hat{\\beta}))$, from which we estimate the p-value.\n",
        "\n",
        "I'm going to start by loading our data into R so that the computer can do our calculations."
      ]
    },
    {
      "cell_type": "code",
      "execution_count": null,
      "metadata": {
        "colab": {
          "base_uri": "https://localhost:8080/",
          "height": 286
        },
        "id": "XjQE5F7TEi0Q",
        "outputId": "a816cf85-2c21-49a0-dee7-7357763e754e",
        "vscode": {
          "languageId": "r"
        }
      },
      "outputs": [
        {
          "data": {
            "text/html": [
              "<table class=\"dataframe\">\n",
              "<caption>A data.frame: 6 × 3</caption>\n",
              "<thead>\n",
              "\t<tr><th scope=col>Explanatory.variable</th><th scope=col>beta</th><th scope=col>se</th></tr>\n",
              "\t<tr><th scope=col>&lt;chr&gt;</th><th scope=col>&lt;dbl&gt;</th><th scope=col>&lt;dbl&gt;</th></tr>\n",
              "</thead>\n",
              "<tbody>\n",
              "\t<tr><td>Constant</td><td>100.812</td><td>13.096</td></tr>\n",
              "\t<tr><td>Age     </td><td>  0.332</td><td> 0.062</td></tr>\n",
              "\t<tr><td>Waist   </td><td>  0.411</td><td> 0.090</td></tr>\n",
              "\t<tr><td>Alcohol </td><td> -3.003</td><td> 1.758</td></tr>\n",
              "\t<tr><td>Smoking </td><td> -0.362</td><td> 2.732</td></tr>\n",
              "\t<tr><td>Temp    </td><td> -0.521</td><td> 0.262</td></tr>\n",
              "</tbody>\n",
              "</table>\n"
            ],
            "text/latex": [
              "A data.frame: 6 × 3\n",
              "\\begin{tabular}{lll}\n",
              " Explanatory.variable & beta & se\\\\\n",
              " <chr> & <dbl> & <dbl>\\\\\n",
              "\\hline\n",
              "\t Constant & 100.812 & 13.096\\\\\n",
              "\t Age      &   0.332 &  0.062\\\\\n",
              "\t Waist    &   0.411 &  0.090\\\\\n",
              "\t Alcohol  &  -3.003 &  1.758\\\\\n",
              "\t Smoking  &  -0.362 &  2.732\\\\\n",
              "\t Temp     &  -0.521 &  0.262\\\\\n",
              "\\end{tabular}\n"
            ],
            "text/markdown": [
              "\n",
              "A data.frame: 6 × 3\n",
              "\n",
              "| Explanatory.variable &lt;chr&gt; | beta &lt;dbl&gt; | se &lt;dbl&gt; |\n",
              "|---|---|---|\n",
              "| Constant | 100.812 | 13.096 |\n",
              "| Age      |   0.332 |  0.062 |\n",
              "| Waist    |   0.411 |  0.090 |\n",
              "| Alcohol  |  -3.003 |  1.758 |\n",
              "| Smoking  |  -0.362 |  2.732 |\n",
              "| Temp     |  -0.521 |  0.262 |\n",
              "\n"
            ],
            "text/plain": [
              "  Explanatory.variable beta    se    \n",
              "1 Constant             100.812 13.096\n",
              "2 Age                    0.332  0.062\n",
              "3 Waist                  0.411  0.090\n",
              "4 Alcohol               -3.003  1.758\n",
              "5 Smoking               -0.362  2.732\n",
              "6 Temp                  -0.521  0.262"
            ]
          },
          "metadata": {},
          "output_type": "display_data"
        }
      ],
      "source": [
        "d <- data.frame(\"Explanatory variable\" = c(\"Constant\", \"Age\", \"Waist\", \"Alcohol\", \"Smoking\", \"Temp\"),\n",
        "                \"beta\" = c(100.812, 0.332, 0.411, -3.003, -0.362, -0.521),\n",
        "                \"se\" = c(13.096, 0.062, 0.090, 1.758, 2.732, 0.262))\n",
        "\n",
        "d"
      ]
    },
    {
      "cell_type": "markdown",
      "metadata": {
        "id": "k8KrEpKpFOFD"
      },
      "source": [
        "Now let's calulate the T-stat for each; I'm going to assume that $\\beta_0 = 0$ in all cases."
      ]
    },
    {
      "cell_type": "code",
      "execution_count": null,
      "metadata": {
        "colab": {
          "base_uri": "https://localhost:8080/",
          "height": 286
        },
        "id": "7-JHbyT8FNi9",
        "outputId": "2fe08135-f70b-4438-a061-673a2f7d7eab",
        "vscode": {
          "languageId": "r"
        }
      },
      "outputs": [
        {
          "data": {
            "text/html": [
              "<table class=\"dataframe\">\n",
              "<caption>A data.frame: 6 × 4</caption>\n",
              "<thead>\n",
              "\t<tr><th scope=col>Explanatory.variable</th><th scope=col>beta</th><th scope=col>se</th><th scope=col>T.stat</th></tr>\n",
              "\t<tr><th scope=col>&lt;chr&gt;</th><th scope=col>&lt;dbl&gt;</th><th scope=col>&lt;dbl&gt;</th><th scope=col>&lt;dbl&gt;</th></tr>\n",
              "</thead>\n",
              "<tbody>\n",
              "\t<tr><td>Constant</td><td>100.812</td><td>13.096</td><td> 7.6979</td></tr>\n",
              "\t<tr><td>Age     </td><td>  0.332</td><td> 0.062</td><td> 5.3548</td></tr>\n",
              "\t<tr><td>Waist   </td><td>  0.411</td><td> 0.090</td><td> 4.5667</td></tr>\n",
              "\t<tr><td>Alcohol </td><td> -3.003</td><td> 1.758</td><td>-1.7082</td></tr>\n",
              "\t<tr><td>Smoking </td><td> -0.362</td><td> 2.732</td><td>-0.1325</td></tr>\n",
              "\t<tr><td>Temp    </td><td> -0.521</td><td> 0.262</td><td>-1.9885</td></tr>\n",
              "</tbody>\n",
              "</table>\n"
            ],
            "text/latex": [
              "A data.frame: 6 × 4\n",
              "\\begin{tabular}{llll}\n",
              " Explanatory.variable & beta & se & T.stat\\\\\n",
              " <chr> & <dbl> & <dbl> & <dbl>\\\\\n",
              "\\hline\n",
              "\t Constant & 100.812 & 13.096 &  7.6979\\\\\n",
              "\t Age      &   0.332 &  0.062 &  5.3548\\\\\n",
              "\t Waist    &   0.411 &  0.090 &  4.5667\\\\\n",
              "\t Alcohol  &  -3.003 &  1.758 & -1.7082\\\\\n",
              "\t Smoking  &  -0.362 &  2.732 & -0.1325\\\\\n",
              "\t Temp     &  -0.521 &  0.262 & -1.9885\\\\\n",
              "\\end{tabular}\n"
            ],
            "text/markdown": [
              "\n",
              "A data.frame: 6 × 4\n",
              "\n",
              "| Explanatory.variable &lt;chr&gt; | beta &lt;dbl&gt; | se &lt;dbl&gt; | T.stat &lt;dbl&gt; |\n",
              "|---|---|---|---|\n",
              "| Constant | 100.812 | 13.096 |  7.6979 |\n",
              "| Age      |   0.332 |  0.062 |  5.3548 |\n",
              "| Waist    |   0.411 |  0.090 |  4.5667 |\n",
              "| Alcohol  |  -3.003 |  1.758 | -1.7082 |\n",
              "| Smoking  |  -0.362 |  2.732 | -0.1325 |\n",
              "| Temp     |  -0.521 |  0.262 | -1.9885 |\n",
              "\n"
            ],
            "text/plain": [
              "  Explanatory.variable beta    se     T.stat \n",
              "1 Constant             100.812 13.096  7.6979\n",
              "2 Age                    0.332  0.062  5.3548\n",
              "3 Waist                  0.411  0.090  4.5667\n",
              "4 Alcohol               -3.003  1.758 -1.7082\n",
              "5 Smoking               -0.362  2.732 -0.1325\n",
              "6 Temp                  -0.521  0.262 -1.9885"
            ]
          },
          "metadata": {},
          "output_type": "display_data"
        }
      ],
      "source": [
        "d$T.stat <- round(d$beta / d$se, 4)\n",
        "d"
      ]
    },
    {
      "cell_type": "markdown",
      "metadata": {
        "id": "LKR-hID2F11J"
      },
      "source": [
        "We can just about calculate the p-values, but we the degrees of freedom.  Remember, this is $\\nu = n-p'$.  Unfortunately, the question is a little vague.  We're told that $n=574$, and we're given 6 parameters; however, the question states that the analysis used \"a number of extraneous variables\".  I'm not sure if the \"extraneous variables\" are all those given to us, or if some were omitted from the table.  But I'll assume what we're given is the full set of variables; even if it wasn't, it's unlike to make much difference in our estimates."
      ]
    },
    {
      "cell_type": "code",
      "execution_count": null,
      "metadata": {
        "colab": {
          "base_uri": "https://localhost:8080/",
          "height": 286
        },
        "id": "ma3uGIURFneY",
        "outputId": "ce7ec564-4d80-465c-ea86-3b819aa451ce",
        "vscode": {
          "languageId": "r"
        }
      },
      "outputs": [
        {
          "data": {
            "text/html": [
              "<table class=\"dataframe\">\n",
              "<caption>A data.frame: 6 × 5</caption>\n",
              "<thead>\n",
              "\t<tr><th scope=col>Explanatory.variable</th><th scope=col>beta</th><th scope=col>se</th><th scope=col>T.stat</th><th scope=col>p.values</th></tr>\n",
              "\t<tr><th scope=col>&lt;chr&gt;</th><th scope=col>&lt;dbl&gt;</th><th scope=col>&lt;dbl&gt;</th><th scope=col>&lt;dbl&gt;</th><th scope=col>&lt;dbl&gt;</th></tr>\n",
              "</thead>\n",
              "<tbody>\n",
              "\t<tr><td>Constant</td><td>100.812</td><td>13.096</td><td> 7.6979</td><td>0.0000</td></tr>\n",
              "\t<tr><td>Age     </td><td>  0.332</td><td> 0.062</td><td> 5.3548</td><td>0.0000</td></tr>\n",
              "\t<tr><td>Waist   </td><td>  0.411</td><td> 0.090</td><td> 4.5667</td><td>0.0000</td></tr>\n",
              "\t<tr><td>Alcohol </td><td> -3.003</td><td> 1.758</td><td>-1.7082</td><td>0.0881</td></tr>\n",
              "\t<tr><td>Smoking </td><td> -0.362</td><td> 2.732</td><td>-0.1325</td><td>0.8946</td></tr>\n",
              "\t<tr><td>Temp    </td><td> -0.521</td><td> 0.262</td><td>-1.9885</td><td>0.0472</td></tr>\n",
              "</tbody>\n",
              "</table>\n"
            ],
            "text/latex": [
              "A data.frame: 6 × 5\n",
              "\\begin{tabular}{lllll}\n",
              " Explanatory.variable & beta & se & T.stat & p.values\\\\\n",
              " <chr> & <dbl> & <dbl> & <dbl> & <dbl>\\\\\n",
              "\\hline\n",
              "\t Constant & 100.812 & 13.096 &  7.6979 & 0.0000\\\\\n",
              "\t Age      &   0.332 &  0.062 &  5.3548 & 0.0000\\\\\n",
              "\t Waist    &   0.411 &  0.090 &  4.5667 & 0.0000\\\\\n",
              "\t Alcohol  &  -3.003 &  1.758 & -1.7082 & 0.0881\\\\\n",
              "\t Smoking  &  -0.362 &  2.732 & -0.1325 & 0.8946\\\\\n",
              "\t Temp     &  -0.521 &  0.262 & -1.9885 & 0.0472\\\\\n",
              "\\end{tabular}\n"
            ],
            "text/markdown": [
              "\n",
              "A data.frame: 6 × 5\n",
              "\n",
              "| Explanatory.variable &lt;chr&gt; | beta &lt;dbl&gt; | se &lt;dbl&gt; | T.stat &lt;dbl&gt; | p.values &lt;dbl&gt; |\n",
              "|---|---|---|---|---|\n",
              "| Constant | 100.812 | 13.096 |  7.6979 | 0.0000 |\n",
              "| Age      |   0.332 |  0.062 |  5.3548 | 0.0000 |\n",
              "| Waist    |   0.411 |  0.090 |  4.5667 | 0.0000 |\n",
              "| Alcohol  |  -3.003 |  1.758 | -1.7082 | 0.0881 |\n",
              "| Smoking  |  -0.362 |  2.732 | -0.1325 | 0.8946 |\n",
              "| Temp     |  -0.521 |  0.262 | -1.9885 | 0.0472 |\n",
              "\n"
            ],
            "text/plain": [
              "  Explanatory.variable beta    se     T.stat  p.values\n",
              "1 Constant             100.812 13.096  7.6979 0.0000  \n",
              "2 Age                    0.332  0.062  5.3548 0.0000  \n",
              "3 Waist                  0.411  0.090  4.5667 0.0000  \n",
              "4 Alcohol               -3.003  1.758 -1.7082 0.0881  \n",
              "5 Smoking               -0.362  2.732 -0.1325 0.8946  \n",
              "6 Temp                  -0.521  0.262 -1.9885 0.0472  "
            ]
          },
          "metadata": {},
          "output_type": "display_data"
        }
      ],
      "source": [
        "df <- 574 - 6\n",
        "\n",
        "d$p.values <- round(2*(1-pt(abs(d$T.stat), df)),4)\n",
        "\n",
        "d"
      ]
    },
    {
      "cell_type": "markdown",
      "metadata": {
        "id": "4_eq1qH0H6ZN"
      },
      "source": [
        "### Answer to 2.14, 2\n",
        "***After adjusting for age, waist circumference, alcohol consumption and smoking habits, describe the relationship between ambient temperature and systolic blood pressure.***\n",
        "\n",
        "After accounting for other variables, systolic blood pressure is estimated to decrease by 0.521 mmHG for every 1 degree increase in ambient temperature.  The probability of the null distribution accounting for this relationship is 4.72%."
      ]
    },
    {
      "cell_type": "markdown",
      "metadata": {
        "id": "ZDjVTqdGIrSg"
      },
      "source": [
        "### Answer to 2.14, 3\n",
        "***Plot the line describing the relationship between ambient temperature and systolic blood pressure for 30-year-old men who do not smoke, do drink alcohol and have a waist circumference of 100 cm. The authors state that***\n",
        "\n",
        ">> ***Daily mean temperatures range between an average minimum of 20◦C in the rainy season and an average maximum of 40◦C in the dry season. In the dry season, early mornings are usually cool and the afternoons commonly hot with daily maximum temperatures going as high as 45◦C (p. 17).***\n",
        "\n",
        ">***Use this information to guide your choice of temperature values for your plot.***"
      ]
    },
    {
      "cell_type": "code",
      "execution_count": null,
      "metadata": {
        "colab": {
          "base_uri": "https://localhost:8080/",
          "height": 437
        },
        "id": "HbMC804OI5MM",
        "outputId": "8eb3e1c0-854d-45d6-fb8e-4818a9ced48f",
        "vscode": {
          "languageId": "r"
        }
      },
      "outputs": [
        {
          "data": {
            "image/png": "[encoded data removed]",
            "text/plain": [
              "plot without title"
            ]
          },
          "metadata": {
            "image/png": {
              "height": 420,
              "width": 420
            }
          },
          "output_type": "display_data"
        }
      ],
      "source": [
        "# Start by assigning the case values\n",
        "d$Case <- c(1, 30, 100, 0, 0, NA)\n",
        "# Since we're trying to see the effect of temperature, define the set of temperatures\n",
        "temp_seq <- seq(from=0, to=45, by=1)\n",
        "\n",
        "# The SBP for each temperature is defined as the sum of products of each beta coef with its case value;\n",
        "# since we're varying temperature, we add its contributions separate so we can use every value of temp_seq\n",
        "SBP_seq <- (sum((d$beta * d$Case), na.rm=TRUE) + d[6, \"beta\"]*temp_seq)\n",
        "\n",
        "plot(SBP_seq ~ temp_seq, type=\"l\")"
      ]
    },
    {
      "cell_type": "markdown",
      "metadata": {
        "id": "Esqi66TY_9i7"
      },
      "source": [
        "### Answer to 2.14, 4\n",
        "***Compute a 95% confidence interval for the regression parameter for ambient temperature.***"
      ]
    },
    {
      "cell_type": "code",
      "execution_count": null,
      "metadata": {
        "colab": {
          "base_uri": "https://localhost:8080/",
          "height": 286
        },
        "id": "Xp3d-CMBAqyy",
        "outputId": "0db1c6b3-d185-460a-ec7d-56b2857c2c72",
        "vscode": {
          "languageId": "r"
        }
      },
      "outputs": [
        {
          "data": {
            "text/html": [
              "<table class=\"dataframe\">\n",
              "<caption>A data.frame: 6 × 8</caption>\n",
              "<thead>\n",
              "\t<tr><th scope=col>Explanatory.variable</th><th scope=col>beta</th><th scope=col>se</th><th scope=col>T.stat</th><th scope=col>p.values</th><th scope=col>Case</th><th scope=col>lo_ci</th><th scope=col>hi_ci</th></tr>\n",
              "\t<tr><th scope=col>&lt;chr&gt;</th><th scope=col>&lt;dbl&gt;</th><th scope=col>&lt;dbl&gt;</th><th scope=col>&lt;dbl&gt;</th><th scope=col>&lt;dbl&gt;</th><th scope=col>&lt;dbl&gt;</th><th scope=col>&lt;dbl&gt;</th><th scope=col>&lt;dbl&gt;</th></tr>\n",
              "</thead>\n",
              "<tbody>\n",
              "\t<tr><td>Constant</td><td>100.812</td><td>13.096</td><td> 7.6979</td><td>0.0000</td><td>  1</td><td>75.09</td><td>126.53</td></tr>\n",
              "\t<tr><td>Age     </td><td>  0.332</td><td> 0.062</td><td> 5.3548</td><td>0.0000</td><td> 30</td><td> 0.21</td><td>  0.45</td></tr>\n",
              "\t<tr><td>Waist   </td><td>  0.411</td><td> 0.090</td><td> 4.5667</td><td>0.0000</td><td>100</td><td> 0.23</td><td>  0.59</td></tr>\n",
              "\t<tr><td>Alcohol </td><td> -3.003</td><td> 1.758</td><td>-1.7082</td><td>0.0881</td><td>  0</td><td>-6.46</td><td>  0.45</td></tr>\n",
              "\t<tr><td>Smoking </td><td> -0.362</td><td> 2.732</td><td>-0.1325</td><td>0.8946</td><td>  0</td><td>-5.73</td><td>  5.00</td></tr>\n",
              "\t<tr><td>Temp    </td><td> -0.521</td><td> 0.262</td><td>-1.9885</td><td>0.0472</td><td> NA</td><td>-1.04</td><td> -0.01</td></tr>\n",
              "</tbody>\n",
              "</table>\n"
            ],
            "text/latex": [
              "A data.frame: 6 × 8\n",
              "\\begin{tabular}{llllllll}\n",
              " Explanatory.variable & beta & se & T.stat & p.values & Case & lo\\_ci & hi\\_ci\\\\\n",
              " <chr> & <dbl> & <dbl> & <dbl> & <dbl> & <dbl> & <dbl> & <dbl>\\\\\n",
              "\\hline\n",
              "\t Constant & 100.812 & 13.096 &  7.6979 & 0.0000 &   1 & 75.09 & 126.53\\\\\n",
              "\t Age      &   0.332 &  0.062 &  5.3548 & 0.0000 &  30 &  0.21 &   0.45\\\\\n",
              "\t Waist    &   0.411 &  0.090 &  4.5667 & 0.0000 & 100 &  0.23 &   0.59\\\\\n",
              "\t Alcohol  &  -3.003 &  1.758 & -1.7082 & 0.0881 &   0 & -6.46 &   0.45\\\\\n",
              "\t Smoking  &  -0.362 &  2.732 & -0.1325 & 0.8946 &   0 & -5.73 &   5.00\\\\\n",
              "\t Temp     &  -0.521 &  0.262 & -1.9885 & 0.0472 &  NA & -1.04 &  -0.01\\\\\n",
              "\\end{tabular}\n"
            ],
            "text/markdown": [
              "\n",
              "A data.frame: 6 × 8\n",
              "\n",
              "| Explanatory.variable &lt;chr&gt; | beta &lt;dbl&gt; | se &lt;dbl&gt; | T.stat &lt;dbl&gt; | p.values &lt;dbl&gt; | Case &lt;dbl&gt; | lo_ci &lt;dbl&gt; | hi_ci &lt;dbl&gt; |\n",
              "|---|---|---|---|---|---|---|---|\n",
              "| Constant | 100.812 | 13.096 |  7.6979 | 0.0000 |   1 | 75.09 | 126.53 |\n",
              "| Age      |   0.332 |  0.062 |  5.3548 | 0.0000 |  30 |  0.21 |   0.45 |\n",
              "| Waist    |   0.411 |  0.090 |  4.5667 | 0.0000 | 100 |  0.23 |   0.59 |\n",
              "| Alcohol  |  -3.003 |  1.758 | -1.7082 | 0.0881 |   0 | -6.46 |   0.45 |\n",
              "| Smoking  |  -0.362 |  2.732 | -0.1325 | 0.8946 |   0 | -5.73 |   5.00 |\n",
              "| Temp     |  -0.521 |  0.262 | -1.9885 | 0.0472 |  NA | -1.04 |  -0.01 |\n",
              "\n"
            ],
            "text/plain": [
              "  Explanatory.variable beta    se     T.stat  p.values Case lo_ci hi_ci \n",
              "1 Constant             100.812 13.096  7.6979 0.0000     1  75.09 126.53\n",
              "2 Age                    0.332  0.062  5.3548 0.0000    30   0.21   0.45\n",
              "3 Waist                  0.411  0.090  4.5667 0.0000   100   0.23   0.59\n",
              "4 Alcohol               -3.003  1.758 -1.7082 0.0881     0  -6.46   0.45\n",
              "5 Smoking               -0.362  2.732 -0.1325 0.8946     0  -5.73   5.00\n",
              "6 Temp                  -0.521  0.262 -1.9885 0.0472    NA  -1.04  -0.01"
            ]
          },
          "metadata": {},
          "output_type": "display_data"
        }
      ],
      "source": [
        "ci <- 0.95\n",
        "a <- 1 - ci\n",
        "a2 <- a/2\n",
        "t_val <- qt(1-a2, df=df)\n",
        "\n",
        "d$lo_ci <- round(d$beta - t_val*d$se, 2)\n",
        "d$hi_ci <- round(d$beta + t_val*d$se, 2)\n",
        "\n",
        "d"
      ]
    },
    {
      "cell_type": "markdown",
      "metadata": {
        "id": "Y-zAh5foCYsp"
      },
      "source": [
        "### Answer to 2.14, 5\n",
        "***Interpret the relationship between ambient temperature and all the variables in the regression equation.***\n",
        "\n",
        "I'm not sure if this question was the intended question: we're asked to interpret the relationships between one *predictor* variable (Temp) with all other predictor variables; I would've thought the question wanted the relationship with the *outcome* variable (blood pressure) will each predictor variable.  But let's take the question at face value.\n",
        "\n",
        "**After accounting for the other predictor variables**, blood pressure decreases by 0.521 $\\pm$ 0.262 mmHg for every $1°$ increase in ambient temperature.\n",
        "\n",
        "I take the bolded bit to be addressing the question."
      ]
    },
    {
      "cell_type": "markdown",
      "metadata": {
        "id": "F1TnlQqcEYhS"
      },
      "source": [
        "### Answer to 2.14, 6\n",
        "***Predict the mean systolic blood pressure for 35 year-old Ghanaian men (who do not smoke, do drink alcohol and have a waist circumference of 100 cm) when the ambient temperature is 30◦C.***\n",
        "\n",
        "This will be similar to part 3.  We'll just insert each of these values into our regression equation\n",
        "\n",
        "$$BP = \\beta_0 + \\beta_{\\text{age}}\\text{Age} + ... + \\beta_{\\text{Temp}}\\text{Temp}$$"
      ]
    },
    {
      "cell_type": "code",
      "execution_count": null,
      "metadata": {
        "colab": {
          "base_uri": "https://localhost:8080/",
          "height": 34
        },
        "id": "9FhCTHJpEmOW",
        "outputId": "8339c8c9-c8ea-46ed-a15f-c1e68acfc4bd",
        "vscode": {
          "languageId": "r"
        }
      },
      "outputs": [
        {
          "data": {
            "text/html": [
              "137.902"
            ],
            "text/latex": [
              "137.902"
            ],
            "text/markdown": [
              "137.902"
            ],
            "text/plain": [
              "[1] 137.902"
            ]
          },
          "metadata": {},
          "output_type": "display_data"
        }
      ],
      "source": [
        "case2 <- c(1, # contant\n",
        "           35, # age\n",
        "           100, # waist circumference\n",
        "           0, # alcohol\n",
        "           0, # smoking\n",
        "           30) # temperature\n",
        "\n",
        "sum(case2 * d$beta)"
      ]
    },
    {
      "cell_type": "markdown",
      "metadata": {
        "id": "Dl-vP6f_wRje"
      },
      "source": [
        "## Question 2.15\n",
        "An experiment was conducted [11] to determine how to maximize Mermaid meadowfoam flower production (Table 2.9; data set: flowers) for extraction as vegetable oil.\n",
        "\n",
        "**Table 2.9** *The average number of flowers per meadowfoam plant (based on ten seedlings) exposed to various levels of lighting at two different times: at photoperiodic floral induction (PFI) or 24 days before PFI. These data are consistent with the results in [11]*\n",
        "\n",
        "\\\n",
        "\n",
        "| Timing  | LI|       |       |       |       |       |       |\n",
        "|---------|------------------------------------------------------------------|-------|-------|-------|-------|-------|-------|\n",
        "|         | 150   | 300   | 450   | 600   | 750   | 900   |\n",
        "| At PFI  | 62.4  | 77.1  | 55.7  | 54.2  | 49.5  | 62.0  | 39.3  | 45.3  | 30.9  | 45.2  | 36.8  | 42.2  |\n",
        "| Before PFI | 77.7  | 75.4  | 68.9  | 78.2  | 57.2  | 70.9  | 62.9  | 52.1  | 60.2  | 45.6  | 52.5  | 44.1  |\n",
        "\n",
        "*LI* stands for \"Light intensity (in $\\mu \\text{mol} m^{-2} s^{-1}$)\n",
        "\n",
        "\\\n",
        "1. Plot the average number of flowers produced per plant against the light intensity, distinguishing the two timings. Comment.\n",
        "2. Suppose a model with the systematic component `Flowers ~ Light + Timing` was needed to model the data. What would such a systematic component imply about the relationship between the variables?\n",
        "3. Suppose a model with the systematic component `Flowers ~ Light * Timing` was needed to model the data. What would such a systematic component imply about the relationship between the variables?\n",
        "4. Fit the two linear regression models with the systematic components specified above. Which is the preferred model?\n",
        "5. The fitted model should use all prior weights as $w_i = 10$ for all $i$. What difference does it make if the prior weights are not defined (which r interprets as $w_i = 1$ for all $i$)?\n",
        "6. Plot the systematic component of the preferred regression model on the data.\n",
        "7. Interpret the model.\n",
        "\n",
        "*(This problem continues in Problem 3.13.)*"
      ]
    },
    {
      "cell_type": "markdown",
      "metadata": {
        "id": "rQVyPhJOy5EO"
      },
      "source": [
        "### Answers\n",
        "Let's start by getting our data loaded."
      ]
    },
    {
      "cell_type": "code",
      "execution_count": null,
      "metadata": {
        "colab": {
          "base_uri": "https://localhost:8080/"
        },
        "id": "a47cSdkZyY9E",
        "outputId": "2a6b2424-5695-4e79-e709-e85e71ec8d74",
        "vscode": {
          "languageId": "r"
        }
      },
      "outputs": [
        {
          "name": "stderr",
          "output_type": "stream",
          "text": [
            "Installing package into ‘/usr/local/lib/R/site-library’\n",
            "(as ‘lib’ is unspecified)\n",
            "\n"
          ]
        },
        {
          "name": "stdout",
          "output_type": "stream",
          "text": [
            "'data.frame':\t24 obs. of  3 variables:\n",
            " $ Flowers: num  62.4 77.1 77.7 75.4 55.7 54.2 68.9 78.2 49.5 62 ...\n",
            " $ Light  : int  150 150 150 150 300 300 300 300 450 450 ...\n",
            " $ Timing : Factor w/ 2 levels \"Before\",\"PFI\": 2 2 1 1 2 2 1 1 2 2 ...\n"
          ]
        }
      ],
      "source": [
        "install.packages(\"GLMsData\")\n",
        "library(GLMsData)\n",
        "\n",
        "data(flowers)\n",
        "d <- flowers\n",
        "str(d)"
      ]
    },
    {
      "cell_type": "markdown",
      "metadata": {
        "id": "UQrDbJU5zBJW"
      },
      "source": [
        "#### Answer to 2.15, 1\n",
        "***Plot the average number of flowers produced per plant against the light intensity, distinguishing the two timings. Comment.***"
      ]
    },
    {
      "cell_type": "code",
      "execution_count": null,
      "metadata": {
        "colab": {
          "base_uri": "https://localhost:8080/",
          "height": 437
        },
        "id": "JCpwUMJvzIK_",
        "outputId": "bc91cd0d-e7cd-42db-ac39-76085a7244da",
        "vscode": {
          "languageId": "r"
        }
      },
      "outputs": [
        {
          "data": {
            "image/png": "[encoded data removed]",
            "text/plain": [
              "plot without title"
            ]
          },
          "metadata": {
            "image/png": {
              "height": 420,
              "width": 420
            }
          },
          "output_type": "display_data"
        }
      ],
      "source": [
        "plot(Flowers ~ Light, data=d[d$Timing==\"Before\",])\n",
        "points(Flowers ~ Light, data=d[d$Timing==\"PFI\",], col=\"red\", pch=19)"
      ]
    },
    {
      "cell_type": "markdown",
      "metadata": {
        "id": "6pLL5mWs1LPT"
      },
      "source": [
        "For both `Timing` conditions, `Flowers` decrease with more `Light`.  Fewer `Flowers` occur across all values of `Light` for the `Timing == 'PFI'` condition compared to the `Timing == \"Before\"` condition."
      ]
    },
    {
      "cell_type": "markdown",
      "metadata": {
        "id": "bxZSX-uiGAPj"
      },
      "source": [
        "#### Answers to 2.15, 2 and 3\n",
        "***2. Suppose a model with the systematic component `Flowers ~ Light + Timing` was needed to model the data. What would such a systematic component imply about the relationship between the variables?***\n",
        "\n",
        "***3. Suppose a model with the systematic component `Flowers ~ Light * Timing` was needed to model the data. What would such a systematic component imply about the relationship between the variables?***\n",
        "\n",
        "The model `Flowers ~ Light + Timing` would imply that the variable $Flowers$ is well modeled by the additive relations with $Light$ and $Timing$.\n",
        "\n",
        "The model `Flowers ~ Light * Timing` can be a little misleading if you're not familiar with R notation.  You might think that this model translates to $Flowers$ being modeled as the interaction between $Light$ and $Timing$.  But in R, the `*` symbol implies both non-interaction relations and interactions like\n",
        "$$Flowers = \\alpha + \\beta_L Light + \\beta_T Timing + \\beta_{LT} \\times Light \\times Timing$$\n",
        "So this model implies that $Flowers$ can be well modeled by the additive relations with $Light$, $Timing$, and the interaction of $Light$ and $Timing$."
      ]
    },
    {
      "cell_type": "markdown",
      "metadata": {
        "id": "w-HmRy2WKTPr"
      },
      "source": [
        "#### Answer to 2.15, 4\n",
        "***Fit the two linear regression models with the systematic components specified above. Which is the preferred model?***\n",
        "\n",
        "As a guess from looking at the plot in part 1, I think the first model (without interaction) will be preferred.  Why? Because the two timing conditions look to have the same slope but different intercepts--meaning that the interaction is unimportant.  But let's see."
      ]
    },
    {
      "cell_type": "code",
      "execution_count": null,
      "metadata": {
        "colab": {
          "base_uri": "https://localhost:8080/",
          "height": 752
        },
        "id": "oyRSNlC3K4SG",
        "outputId": "f174707e-c026-4512-a2e3-55768016d464",
        "vscode": {
          "languageId": "r"
        }
      },
      "outputs": [
        {
          "data": {
            "text/plain": [
              "\n",
              "Call:\n",
              "lm(formula = Flowers ~ Light + Timing, data = d)\n",
              "\n",
              "Residuals:\n",
              "    Min      1Q  Median      3Q     Max \n",
              "-10.040  -3.930  -1.819   5.587  11.866 \n",
              "\n",
              "Coefficients:\n",
              "              Estimate Std. Error t value Pr(>|t|)    \n",
              "(Intercept)  83.399167   3.289525  25.353  < 2e-16 ***\n",
              "Light        -0.040490   0.005157  -7.851 1.11e-07 ***\n",
              "TimingPFI   -12.091667   2.642210  -4.576 0.000164 ***\n",
              "---\n",
              "Signif. codes:  0 ‘***’ 0.001 ‘**’ 0.01 ‘*’ 0.05 ‘.’ 0.1 ‘ ’ 1\n",
              "\n",
              "Residual standard error: 6.472 on 21 degrees of freedom\n",
              "Multiple R-squared:  0.7973,\tAdjusted R-squared:  0.778 \n",
              "F-statistic: 41.29 on 2 and 21 DF,  p-value: 5.279e-08\n"
            ]
          },
          "metadata": {},
          "output_type": "display_data"
        },
        {
          "data": {
            "text/plain": [
              "\n",
              "Call:\n",
              "lm(formula = Flowers ~ Light * Timing, data = d)\n",
              "\n",
              "Residuals:\n",
              "   Min     1Q Median     3Q    Max \n",
              "-9.919 -3.991 -1.698  5.446 11.664 \n",
              "\n",
              "Coefficients:\n",
              "                  Estimate Std. Error t value Pr(>|t|)    \n",
              "(Intercept)      83.116667   4.364515  19.044 2.75e-14 ***\n",
              "Light            -0.039952   0.007471  -5.347 3.11e-05 ***\n",
              "TimingPFI       -11.526667   6.172356  -1.867   0.0766 .  \n",
              "Light:TimingPFI  -0.001076   0.010566  -0.102   0.9199    \n",
              "---\n",
              "Signif. codes:  0 ‘***’ 0.001 ‘**’ 0.01 ‘*’ 0.05 ‘.’ 0.1 ‘ ’ 1\n",
              "\n",
              "Residual standard error: 6.63 on 20 degrees of freedom\n",
              "Multiple R-squared:  0.7974,\tAdjusted R-squared:  0.767 \n",
              "F-statistic: 26.24 on 3 and 20 DF,  p-value: 3.898e-07\n"
            ]
          },
          "metadata": {},
          "output_type": "display_data"
        },
        {
          "data": {
            "text/html": [
              "162.544070724765"
            ],
            "text/latex": [
              "162.544070724765"
            ],
            "text/markdown": [
              "162.544070724765"
            ],
            "text/plain": [
              "[1] 162.5441"
            ]
          },
          "metadata": {},
          "output_type": "display_data"
        },
        {
          "data": {
            "text/html": [
              "164.531625074486"
            ],
            "text/latex": [
              "164.531625074486"
            ],
            "text/markdown": [
              "164.531625074486"
            ],
            "text/plain": [
              "[1] 164.5316"
            ]
          },
          "metadata": {},
          "output_type": "display_data"
        }
      ],
      "source": [
        "m1 <- lm(Flowers ~ Light + Timing, data=d)\n",
        "m2 <- lm(Flowers ~ Light * Timing, data=d)\n",
        "\n",
        "summary(m1)\n",
        "summary(m2)\n",
        "\n",
        "AIC(m1)\n",
        "AIC(m2)"
      ]
    },
    {
      "cell_type": "markdown",
      "metadata": {
        "id": "qu7F2-cyL4ml"
      },
      "source": [
        "Indeed, the interaction term in `m2` is basically 0 with a very high p-value--suggesting that it is unimportant.  Using `AIC`, `m1` is apparently preferred over `m2`."
      ]
    },
    {
      "cell_type": "markdown",
      "metadata": {
        "id": "OvW6GcvsNiPC"
      },
      "source": [
        "#### Answer to 2.15, 5\n",
        "***The fitted model should use all prior weights as $w_i = 10$ for all $i$. What difference does it make if the prior weights are not defined (which r interprets as $w_i = 1$ for all $i$)?***\n",
        "\n",
        "Wha!? where are these \"prior weights\" coming from?  Well, you'd have to read the information file on the `flowers` data.frame()"
      ]
    },
    {
      "cell_type": "code",
      "execution_count": null,
      "metadata": {
        "id": "84kkFR3vOUbL",
        "vscode": {
          "languageId": "r"
        }
      },
      "outputs": [],
      "source": [
        "?flowers"
      ]
    },
    {
      "cell_type": "markdown",
      "metadata": {
        "id": "AQ8nMXb5OXLH"
      },
      "source": [
        "It says: \"`Flowers` the mean number of flowers per meadowfoam plant,\n",
        "          averaged over ten seedlings; a numeric vector\".\n",
        "\n",
        "So let's run the `m1` regression with and without weights."
      ]
    },
    {
      "cell_type": "code",
      "execution_count": null,
      "metadata": {
        "colab": {
          "base_uri": "https://localhost:8080/",
          "height": 717
        },
        "id": "fbKWlsmPNnJB",
        "outputId": "a67d7d93-139e-4386-96f8-9c01541c2c0d",
        "vscode": {
          "languageId": "r"
        }
      },
      "outputs": [
        {
          "data": {
            "text/plain": [
              "\n",
              "Call:\n",
              "lm(formula = Flowers ~ Light + Timing, data = d)\n",
              "\n",
              "Residuals:\n",
              "    Min      1Q  Median      3Q     Max \n",
              "-10.040  -3.930  -1.819   5.587  11.866 \n",
              "\n",
              "Coefficients:\n",
              "              Estimate Std. Error t value Pr(>|t|)    \n",
              "(Intercept)  83.399167   3.289525  25.353  < 2e-16 ***\n",
              "Light        -0.040490   0.005157  -7.851 1.11e-07 ***\n",
              "TimingPFI   -12.091667   2.642210  -4.576 0.000164 ***\n",
              "---\n",
              "Signif. codes:  0 ‘***’ 0.001 ‘**’ 0.01 ‘*’ 0.05 ‘.’ 0.1 ‘ ’ 1\n",
              "\n",
              "Residual standard error: 6.472 on 21 degrees of freedom\n",
              "Multiple R-squared:  0.7973,\tAdjusted R-squared:  0.778 \n",
              "F-statistic: 41.29 on 2 and 21 DF,  p-value: 5.279e-08\n"
            ]
          },
          "metadata": {},
          "output_type": "display_data"
        },
        {
          "data": {
            "text/plain": [
              "\n",
              "Call:\n",
              "lm(formula = Flowers ~ Light + Timing, data = d, weights = rep(10, \n",
              "    nrow(d)))\n",
              "\n",
              "Residuals:\n",
              "    Min      1Q  Median      3Q     Max \n",
              "-31.748 -12.428  -5.753  17.668  37.524 \n",
              "\n",
              "Coefficients:\n",
              "              Estimate Std. Error t value Pr(>|t|)    \n",
              "(Intercept)  83.399167   3.289525  25.353  < 2e-16 ***\n",
              "Light        -0.040490   0.005157  -7.851 1.11e-07 ***\n",
              "TimingPFI   -12.091667   2.642210  -4.576 0.000164 ***\n",
              "---\n",
              "Signif. codes:  0 ‘***’ 0.001 ‘**’ 0.01 ‘*’ 0.05 ‘.’ 0.1 ‘ ’ 1\n",
              "\n",
              "Residual standard error: 20.47 on 21 degrees of freedom\n",
              "Multiple R-squared:  0.7973,\tAdjusted R-squared:  0.778 \n",
              "F-statistic: 41.29 on 2 and 21 DF,  p-value: 5.279e-08\n"
            ]
          },
          "metadata": {},
          "output_type": "display_data"
        }
      ],
      "source": [
        "m1w <- lm(Flowers ~ Light + Timing, data=d, weights = rep(10, nrow(d)))\n",
        "\n",
        "summary(m1)\n",
        "summary(m1w)"
      ]
    },
    {
      "cell_type": "markdown",
      "metadata": {
        "id": "qnDdHUylPqWf"
      },
      "source": [
        "No differences."
      ]
    },
    {
      "cell_type": "markdown",
      "metadata": {
        "id": "y9vIRAMSQjYb"
      },
      "source": [
        "#### Answer to 2.15, 6\n",
        "***Plot the systematic component of the preferred regression model on the data.***"
      ]
    },
    {
      "cell_type": "code",
      "execution_count": null,
      "metadata": {
        "colab": {
          "base_uri": "https://localhost:8080/",
          "height": 437
        },
        "id": "OpxtOkhtQn1V",
        "outputId": "1bd2c5ea-9d7f-4323-fce4-b3b3877ce19e",
        "vscode": {
          "languageId": "r"
        }
      },
      "outputs": [
        {
          "data": {
            "image/png": "[encoded data removed]",
            "text/plain": [
              "plot without title"
            ]
          },
          "metadata": {
            "image/png": {
              "height": 420,
              "width": 420
            }
          },
          "output_type": "display_data"
        }
      ],
      "source": [
        "plot(Flowers ~ Light, data=d[d$Timing==\"Before\",])\n",
        "points(Flowers ~ Light, data=d[d$Timing==\"PFI\",], col=\"red\", pch=19)\n",
        "abline(coef(m1)[1], coef(m1)[2], lty=2, col=\"black\")\n",
        "abline(sum(coef(m1)[c(1, 3)]), coef(m1)[2], lty=1, col=\"red\")"
      ]
    },
    {
      "cell_type": "markdown",
      "metadata": {
        "id": "8cs0y-P5RREt"
      },
      "source": [
        "#### Answer to 2.15, 7\n",
        "***Interpret the model.***\n",
        "\n",
        "Under either lighting condition, `Flowers` decreases with `Light` at approximately the same rate.  `Timing` also affect `Flowers`; `Timing == \"RFI` generally suppresses `Flowers` compared to `Before`."
      ]
    },
    {
      "cell_type": "markdown",
      "metadata": {
        "id": "IovUoyMEZOUv"
      },
      "source": [
        "## Question 2.16\n",
        "\n",
        "A study of babies [1] hypothesized that babies would take longer to learn to crawl in colder months because the extra clothing restricts their movement. From 1988–1991, the babies’ first crawling age and the average monthly temperature six months after birth (when “infants presumably enter the window of locomotor readiness”; p. 72) were recorded. The parents reported the birth month, and age when their baby first crept or crawled a distance of four feet in one minute. Data were collected at the University of Denver Infant Study Center on 208 boys and 206 girls, and summarized by the birth month (Table 2.10; data set: `crawl`).\n",
        "\n",
        "1. Plot the data. Which assumptions, if any, appear to be violated?\n",
        "2. Explain why a weighted regression model is appropriate for the data.\n",
        "3. Fit a weighted linear regression model to the data, and interpret the regression coefficients.\n",
        "4. Formally test the hypothesis proposed by the researchers.\n",
        "5. Find a 90% confidence interval for the slope of the fitted line, and interpret.\n",
        "6. Fit the unweighted regression model, then plot both regression lines on a plot of the data. Comment on the differences.\n",
        "7. Compute the 95% confidence intervals for the fitted values from the weighted regression line, and also plot these.\n",
        "8. Interpret the model."
      ]
    },
    {
      "cell_type": "markdown",
      "metadata": {
        "id": "SmufEr6CZ1Bp"
      },
      "source": [
        "### Answers\n",
        "Let's start by getting our data loaded."
      ]
    },
    {
      "cell_type": "code",
      "execution_count": null,
      "metadata": {
        "colab": {
          "base_uri": "https://localhost:8080/",
          "height": 526
        },
        "id": "ALn2G7rsZ1Bv",
        "outputId": "f5a71aa3-ebac-472f-96cc-fc4bffd2f29e",
        "vscode": {
          "languageId": "r"
        }
      },
      "outputs": [
        {
          "name": "stderr",
          "output_type": "stream",
          "text": [
            "Installing package into ‘/usr/local/lib/R/site-library’\n",
            "(as ‘lib’ is unspecified)\n",
            "\n"
          ]
        },
        {
          "data": {
            "text/html": [
              "<table class=\"dataframe\">\n",
              "<caption>A data.frame: 12 × 5</caption>\n",
              "<thead>\n",
              "\t<tr><th scope=col>BirthMonth</th><th scope=col>Age</th><th scope=col>SD</th><th scope=col>SampleSize</th><th scope=col>Temp</th></tr>\n",
              "\t<tr><th scope=col>&lt;fct&gt;</th><th scope=col>&lt;dbl&gt;</th><th scope=col>&lt;dbl&gt;</th><th scope=col>&lt;int&gt;</th><th scope=col>&lt;int&gt;</th></tr>\n",
              "</thead>\n",
              "<tbody>\n",
              "\t<tr><td>January  </td><td>29.84</td><td>7.08</td><td>32</td><td>66</td></tr>\n",
              "\t<tr><td>February </td><td>30.52</td><td>6.96</td><td>36</td><td>73</td></tr>\n",
              "\t<tr><td>March    </td><td>29.70</td><td>8.33</td><td>23</td><td>72</td></tr>\n",
              "\t<tr><td>April    </td><td>31.84</td><td>6.21</td><td>26</td><td>63</td></tr>\n",
              "\t<tr><td>May      </td><td>28.58</td><td>8.07</td><td>27</td><td>52</td></tr>\n",
              "\t<tr><td>June     </td><td>31.44</td><td>8.10</td><td>29</td><td>39</td></tr>\n",
              "\t<tr><td>July     </td><td>33.64</td><td>6.91</td><td>21</td><td>33</td></tr>\n",
              "\t<tr><td>August   </td><td>32.82</td><td>7.61</td><td>45</td><td>30</td></tr>\n",
              "\t<tr><td>September</td><td>33.83</td><td>6.93</td><td>38</td><td>33</td></tr>\n",
              "\t<tr><td>October  </td><td>33.35</td><td>7.29</td><td>44</td><td>37</td></tr>\n",
              "\t<tr><td>November </td><td>33.38</td><td>7.42</td><td>49</td><td>48</td></tr>\n",
              "\t<tr><td>December </td><td>32.32</td><td>5.71</td><td>44</td><td>57</td></tr>\n",
              "</tbody>\n",
              "</table>\n"
            ],
            "text/latex": [
              "A data.frame: 12 × 5\n",
              "\\begin{tabular}{lllll}\n",
              " BirthMonth & Age & SD & SampleSize & Temp\\\\\n",
              " <fct> & <dbl> & <dbl> & <int> & <int>\\\\\n",
              "\\hline\n",
              "\t January   & 29.84 & 7.08 & 32 & 66\\\\\n",
              "\t February  & 30.52 & 6.96 & 36 & 73\\\\\n",
              "\t March     & 29.70 & 8.33 & 23 & 72\\\\\n",
              "\t April     & 31.84 & 6.21 & 26 & 63\\\\\n",
              "\t May       & 28.58 & 8.07 & 27 & 52\\\\\n",
              "\t June      & 31.44 & 8.10 & 29 & 39\\\\\n",
              "\t July      & 33.64 & 6.91 & 21 & 33\\\\\n",
              "\t August    & 32.82 & 7.61 & 45 & 30\\\\\n",
              "\t September & 33.83 & 6.93 & 38 & 33\\\\\n",
              "\t October   & 33.35 & 7.29 & 44 & 37\\\\\n",
              "\t November  & 33.38 & 7.42 & 49 & 48\\\\\n",
              "\t December  & 32.32 & 5.71 & 44 & 57\\\\\n",
              "\\end{tabular}\n"
            ],
            "text/markdown": [
              "\n",
              "A data.frame: 12 × 5\n",
              "\n",
              "| BirthMonth &lt;fct&gt; | Age &lt;dbl&gt; | SD &lt;dbl&gt; | SampleSize &lt;int&gt; | Temp &lt;int&gt; |\n",
              "|---|---|---|---|---|\n",
              "| January   | 29.84 | 7.08 | 32 | 66 |\n",
              "| February  | 30.52 | 6.96 | 36 | 73 |\n",
              "| March     | 29.70 | 8.33 | 23 | 72 |\n",
              "| April     | 31.84 | 6.21 | 26 | 63 |\n",
              "| May       | 28.58 | 8.07 | 27 | 52 |\n",
              "| June      | 31.44 | 8.10 | 29 | 39 |\n",
              "| July      | 33.64 | 6.91 | 21 | 33 |\n",
              "| August    | 32.82 | 7.61 | 45 | 30 |\n",
              "| September | 33.83 | 6.93 | 38 | 33 |\n",
              "| October   | 33.35 | 7.29 | 44 | 37 |\n",
              "| November  | 33.38 | 7.42 | 49 | 48 |\n",
              "| December  | 32.32 | 5.71 | 44 | 57 |\n",
              "\n"
            ],
            "text/plain": [
              "   BirthMonth Age   SD   SampleSize Temp\n",
              "1  January    29.84 7.08 32         66  \n",
              "2  February   30.52 6.96 36         73  \n",
              "3  March      29.70 8.33 23         72  \n",
              "4  April      31.84 6.21 26         63  \n",
              "5  May        28.58 8.07 27         52  \n",
              "6  June       31.44 8.10 29         39  \n",
              "7  July       33.64 6.91 21         33  \n",
              "8  August     32.82 7.61 45         30  \n",
              "9  September  33.83 6.93 38         33  \n",
              "10 October    33.35 7.29 44         37  \n",
              "11 November   33.38 7.42 49         48  \n",
              "12 December   32.32 5.71 44         57  "
            ]
          },
          "metadata": {},
          "output_type": "display_data"
        }
      ],
      "source": [
        "install.packages(\"GLMsData\")\n",
        "library(GLMsData)\n",
        "\n",
        "data(crawl)\n",
        "d <- crawl\n",
        "d\n",
        "#?crawl"
      ]
    },
    {
      "cell_type": "markdown",
      "metadata": {
        "id": "Vct0h2Xaai5Q"
      },
      "source": [
        "Looking at the data sheet, we see that we need to model `Age` as a function of `Temp`."
      ]
    },
    {
      "cell_type": "markdown",
      "metadata": {
        "id": "G2FJGC2SZ82N"
      },
      "source": [
        "#### Answers to 2.16, 1 and 2\n",
        "***Plot the data. Which assumptions, if any, appear to be violated?***\n",
        "\n",
        "***Explain why a weighted regression model is appropriate for the data.***\n",
        "\n",
        "I'm going to plot this 2 ways.  First, I'll plot the mean values and standard deviations (black), then I'll generate data based on the mean and standard deviation (grey).  I'll make several plots to show different possible sets of data."
      ]
    },
    {
      "cell_type": "code",
      "execution_count": null,
      "metadata": {
        "colab": {
          "base_uri": "https://localhost:8080/",
          "height": 437
        },
        "id": "2Wprk6MQaDlI",
        "outputId": "c3c552de-6afd-4c50-c1c5-bfa1c09984ce",
        "vscode": {
          "languageId": "r"
        }
      },
      "outputs": [
        {
          "data": {
            "image/png": "[encoded data removed]",
            "text/plain": [
              "plot without title"
            ]
          },
          "metadata": {
            "image/png": {
              "height": 420,
              "width": 420
            }
          },
          "output_type": "display_data"
        }
      ],
      "source": [
        "par(mfrow=c(3,3))\n",
        "\n",
        "for(i in 1:9){\n",
        "  sim_dat <- list()\n",
        "  for(r in 1:nrow(d)){\n",
        "    sim_dat[[r]] <- rnorm(n=d[r, \"SampleSize\"], mean=d[r, \"Age\"], sd=d[r, \"SD\"])\n",
        "  }\n",
        "  plot(Age ~ Temp, data=d, ylim=c(0, 60), xlim=c(25, 75), pch=19)\n",
        "  segments(x0=d$Temp, y0=d$Age+(d$SD), x1=d$Temp, y1=d$Age-(d$SD), col=\"black\")\n",
        "  for(r in 1:length(sim_dat)){\n",
        "    temp_values <- rep(d[r, \"Temp\"], length(sim_dat[[r]]))\n",
        "    jittered_temp <- jitter(temp_values, amount = 2.5)\n",
        "    points(sim_dat[[r]] ~ jittered_temp, col=\"grey\")\n",
        "  }\n",
        "  points(d$Temp, d$Age, pch=19)\n",
        "  segments(x0=d$Temp, y0=d$Age+(d$SD), x1=d$Temp, y1=d$Age-(d$SD), col=\"black\")\n",
        "}"
      ]
    },
    {
      "cell_type": "markdown",
      "metadata": {
        "id": "N5PF9cPrhvtr"
      },
      "source": [
        "It's a little hard to say what assumptions aren't met for normal, non-weighted regression.  I suppose the sought answer is that the the variance of `Age` differs for different values of `Temp`, though the difference may not be very relevant.  This is especially evident when comparing the simulated data sets.  Nevertheless, we can mitigate whatever problem this violation causes with a weighted regression--weighting on the variance of `Age` across each `Temp`."
      ]
    },
    {
      "cell_type": "markdown",
      "metadata": {
        "id": "GKkhoClPNwZX"
      },
      "source": [
        "#### Answers to 2.16, 3-8\n",
        "***3. Fit a weighted linear regression model to the data, and interpret the regression coefficients.***\n",
        "\n",
        "***4. Formally test the hypothesis proposed by the researchers.***\n",
        "\n",
        "***5. Find a 90% confidence interval for the slope of the fitted line, and interpret.***\n",
        "\n",
        "***6. Fit the unweighted regression model, then plot both regression lines on a plot of the data. Comment on the differences.***\n",
        "\n",
        "***7. Compute the 95% confidence intervals for the fitted values from the weighted regression line, and also plot these.***\n",
        "\n",
        "***8. Interpret the model.***\n",
        "\n",
        "Let's run a few regressions: without weighting, weighting on `SD`, and weighting on `SampleSize`."
      ]
    },
    {
      "cell_type": "code",
      "execution_count": null,
      "metadata": {
        "colab": {
          "base_uri": "https://localhost:8080/",
          "height": 406
        },
        "id": "Rg9TYmhyOH2F",
        "outputId": "2a7ddcd7-8457-4d63-817f-bc06cb53dabe",
        "vscode": {
          "languageId": "r"
        }
      },
      "outputs": [
        {
          "data": {
            "text/html": [
              "<table class=\"dataframe\">\n",
              "<caption>A matrix: 2 × 4 of type dbl</caption>\n",
              "<thead>\n",
              "\t<tr><th></th><th scope=col>Estimate</th><th scope=col>Std. Error</th><th scope=col>t value</th><th scope=col>Pr(&gt;|t|)</th></tr>\n",
              "</thead>\n",
              "<tbody>\n",
              "\t<tr><th scope=row>(Intercept)</th><td>35.6781</td><td>1.3175</td><td>27.0796</td><td>0.0000</td></tr>\n",
              "\t<tr><th scope=row>Temp</th><td>-0.0777</td><td>0.0251</td><td>-3.0971</td><td>0.0113</td></tr>\n",
              "</tbody>\n",
              "</table>\n"
            ],
            "text/latex": [
              "A matrix: 2 × 4 of type dbl\n",
              "\\begin{tabular}{r|llll}\n",
              "  & Estimate & Std. Error & t value & Pr(>\\textbar{}t\\textbar{})\\\\\n",
              "\\hline\n",
              "\t(Intercept) & 35.6781 & 1.3175 & 27.0796 & 0.0000\\\\\n",
              "\tTemp & -0.0777 & 0.0251 & -3.0971 & 0.0113\\\\\n",
              "\\end{tabular}\n"
            ],
            "text/markdown": [
              "\n",
              "A matrix: 2 × 4 of type dbl\n",
              "\n",
              "| <!--/--> | Estimate | Std. Error | t value | Pr(&gt;|t|) |\n",
              "|---|---|---|---|---|\n",
              "| (Intercept) | 35.6781 | 1.3175 | 27.0796 | 0.0000 |\n",
              "| Temp | -0.0777 | 0.0251 | -3.0971 | 0.0113 |\n",
              "\n"
            ],
            "text/plain": [
              "            Estimate Std. Error t value Pr(>|t|)\n",
              "(Intercept) 35.6781  1.3175     27.0796 0.0000  \n",
              "Temp        -0.0777  0.0251     -3.0971 0.0113  "
            ]
          },
          "metadata": {},
          "output_type": "display_data"
        },
        {
          "data": {
            "text/html": [
              "<style>\n",
              ".dl-inline {width: auto; margin:0; padding: 0}\n",
              ".dl-inline>dt, .dl-inline>dd {float: none; width: auto; display: inline-block}\n",
              ".dl-inline>dt::after {content: \":\\0020\"; padding-right: .5ex}\n",
              ".dl-inline>dt:not(:first-of-type) {padding-left: .5ex}\n",
              "</style><dl class=dl-inline><dt>2.5 %</dt><dd>-0.1337</dd><dt>97.5 %</dt><dd>-0.0218</dd></dl>\n"
            ],
            "text/latex": [
              "\\begin{description*}\n",
              "\\item[2.5 \\textbackslash{}\\%] -0.1337\n",
              "\\item[97.5 \\textbackslash{}\\%] -0.0218\n",
              "\\end{description*}\n"
            ],
            "text/markdown": [
              "2.5 %\n",
              ":   -0.133797.5 %\n",
              ":   -0.0218\n",
              "\n"
            ],
            "text/plain": [
              "  2.5 %  97.5 % \n",
              "-0.1337 -0.0218 "
            ]
          },
          "metadata": {},
          "output_type": "display_data"
        },
        {
          "data": {
            "text/html": [
              "<table class=\"dataframe\">\n",
              "<caption>A matrix: 2 × 4 of type dbl</caption>\n",
              "<thead>\n",
              "\t<tr><th></th><th scope=col>Estimate</th><th scope=col>Std. Error</th><th scope=col>t value</th><th scope=col>Pr(&gt;|t|)</th></tr>\n",
              "</thead>\n",
              "<tbody>\n",
              "\t<tr><th scope=row>(Intercept)</th><td>35.6453</td><td>1.3379</td><td>26.6424</td><td>0.0000</td></tr>\n",
              "\t<tr><th scope=row>Temp</th><td>-0.0787</td><td>0.0256</td><td>-3.0803</td><td>0.0116</td></tr>\n",
              "</tbody>\n",
              "</table>\n"
            ],
            "text/latex": [
              "A matrix: 2 × 4 of type dbl\n",
              "\\begin{tabular}{r|llll}\n",
              "  & Estimate & Std. Error & t value & Pr(>\\textbar{}t\\textbar{})\\\\\n",
              "\\hline\n",
              "\t(Intercept) & 35.6453 & 1.3379 & 26.6424 & 0.0000\\\\\n",
              "\tTemp & -0.0787 & 0.0256 & -3.0803 & 0.0116\\\\\n",
              "\\end{tabular}\n"
            ],
            "text/markdown": [
              "\n",
              "A matrix: 2 × 4 of type dbl\n",
              "\n",
              "| <!--/--> | Estimate | Std. Error | t value | Pr(&gt;|t|) |\n",
              "|---|---|---|---|---|\n",
              "| (Intercept) | 35.6453 | 1.3379 | 26.6424 | 0.0000 |\n",
              "| Temp | -0.0787 | 0.0256 | -3.0803 | 0.0116 |\n",
              "\n"
            ],
            "text/plain": [
              "            Estimate Std. Error t value Pr(>|t|)\n",
              "(Intercept) 35.6453  1.3379     26.6424 0.0000  \n",
              "Temp        -0.0787  0.0256     -3.0803 0.0116  "
            ]
          },
          "metadata": {},
          "output_type": "display_data"
        },
        {
          "data": {
            "text/html": [
              "<style>\n",
              ".dl-inline {width: auto; margin:0; padding: 0}\n",
              ".dl-inline>dt, .dl-inline>dd {float: none; width: auto; display: inline-block}\n",
              ".dl-inline>dt::after {content: \":\\0020\"; padding-right: .5ex}\n",
              ".dl-inline>dt:not(:first-of-type) {padding-left: .5ex}\n",
              "</style><dl class=dl-inline><dt>2.5 %</dt><dd>-0.1356</dd><dt>97.5 %</dt><dd>-0.0218</dd></dl>\n"
            ],
            "text/latex": [
              "\\begin{description*}\n",
              "\\item[2.5 \\textbackslash{}\\%] -0.1356\n",
              "\\item[97.5 \\textbackslash{}\\%] -0.0218\n",
              "\\end{description*}\n"
            ],
            "text/markdown": [
              "2.5 %\n",
              ":   -0.135697.5 %\n",
              ":   -0.0218\n",
              "\n"
            ],
            "text/plain": [
              "  2.5 %  97.5 % \n",
              "-0.1356 -0.0218 "
            ]
          },
          "metadata": {},
          "output_type": "display_data"
        },
        {
          "data": {
            "text/html": [
              "<table class=\"dataframe\">\n",
              "<caption>A matrix: 2 × 4 of type dbl</caption>\n",
              "<thead>\n",
              "\t<tr><th></th><th scope=col>Estimate</th><th scope=col>Std. Error</th><th scope=col>t value</th><th scope=col>Pr(&gt;|t|)</th></tr>\n",
              "</thead>\n",
              "<tbody>\n",
              "\t<tr><th scope=row>(Intercept)</th><td>35.7025</td><td>1.2600</td><td>28.3346</td><td>0.0000</td></tr>\n",
              "\t<tr><th scope=row>Temp</th><td>-0.0756</td><td>0.0245</td><td>-3.0812</td><td>0.0116</td></tr>\n",
              "</tbody>\n",
              "</table>\n"
            ],
            "text/latex": [
              "A matrix: 2 × 4 of type dbl\n",
              "\\begin{tabular}{r|llll}\n",
              "  & Estimate & Std. Error & t value & Pr(>\\textbar{}t\\textbar{})\\\\\n",
              "\\hline\n",
              "\t(Intercept) & 35.7025 & 1.2600 & 28.3346 & 0.0000\\\\\n",
              "\tTemp & -0.0756 & 0.0245 & -3.0812 & 0.0116\\\\\n",
              "\\end{tabular}\n"
            ],
            "text/markdown": [
              "\n",
              "A matrix: 2 × 4 of type dbl\n",
              "\n",
              "| <!--/--> | Estimate | Std. Error | t value | Pr(&gt;|t|) |\n",
              "|---|---|---|---|---|\n",
              "| (Intercept) | 35.7025 | 1.2600 | 28.3346 | 0.0000 |\n",
              "| Temp | -0.0756 | 0.0245 | -3.0812 | 0.0116 |\n",
              "\n"
            ],
            "text/plain": [
              "            Estimate Std. Error t value Pr(>|t|)\n",
              "(Intercept) 35.7025  1.2600     28.3346 0.0000  \n",
              "Temp        -0.0756  0.0245     -3.0812 0.0116  "
            ]
          },
          "metadata": {},
          "output_type": "display_data"
        },
        {
          "data": {
            "text/html": [
              "<style>\n",
              ".dl-inline {width: auto; margin:0; padding: 0}\n",
              ".dl-inline>dt, .dl-inline>dd {float: none; width: auto; display: inline-block}\n",
              ".dl-inline>dt::after {content: \":\\0020\"; padding-right: .5ex}\n",
              ".dl-inline>dt:not(:first-of-type) {padding-left: .5ex}\n",
              "</style><dl class=dl-inline><dt>2.5 %</dt><dd>-0.1303</dd><dt>97.5 %</dt><dd>-0.0209</dd></dl>\n"
            ],
            "text/latex": [
              "\\begin{description*}\n",
              "\\item[2.5 \\textbackslash{}\\%] -0.1303\n",
              "\\item[97.5 \\textbackslash{}\\%] -0.0209\n",
              "\\end{description*}\n"
            ],
            "text/markdown": [
              "2.5 %\n",
              ":   -0.130397.5 %\n",
              ":   -0.0209\n",
              "\n"
            ],
            "text/plain": [
              "  2.5 %  97.5 % \n",
              "-0.1303 -0.0209 "
            ]
          },
          "metadata": {},
          "output_type": "display_data"
        }
      ],
      "source": [
        "m <- lm(Age ~ Temp, data=d)\n",
        "round(summary(m)$coef,4)\n",
        "(m_confint <- round(confint(m, level=0.95)[\"Temp\",],4))\n",
        "\n",
        "m_wtd1 <- lm(Age ~ Temp, weights=SD, data=d)\n",
        "round(summary(m_wtd1)$coef,4)\n",
        "(m_wtd1_confint <- round(confint(m_wtd1, level=0.95)[\"Temp\",],4))\n",
        "\n",
        "m_wtd2 <- lm(Age ~ Temp, weights=SampleSize, data=d)\n",
        "round(summary(m_wtd2)$coef,4)\n",
        "(m_wtd2_confint <- round(confint(m_wtd2, level=0.95)[\"Temp\",],4))"
      ]
    },
    {
      "cell_type": "markdown",
      "metadata": {
        "id": "RT4Qa1ZMPld2"
      },
      "source": [
        "The results are pretty similar across models: `Temp` significantly (to level 0.05) associates with a reduction in `Age`, which supports the researchers' hypothesis.  The significance is reflected in the fact that the 95% CI are completely negative (notice I used 95% CI instead of 90% to make this point)."
      ]
    },
    {
      "cell_type": "markdown",
      "metadata": {
        "id": "QtojKxl-QMM8"
      },
      "source": [
        "Let's plot these models."
      ]
    },
    {
      "cell_type": "code",
      "execution_count": null,
      "metadata": {
        "colab": {
          "base_uri": "https://localhost:8080/",
          "height": 437
        },
        "id": "Ls9VSpyXQRiT",
        "outputId": "a7ba7d43-9480-4757-e001-5ce99c6237db",
        "vscode": {
          "languageId": "r"
        }
      },
      "outputs": [
        {
          "data": {
            "image/png": "[encoded data removed]",
            "text/plain": [
              "plot without title"
            ]
          },
          "metadata": {
            "image/png": {
              "height": 420,
              "width": 420
            }
          },
          "output_type": "display_data"
        }
      ],
      "source": [
        "new_data <- data.frame(Temp = seq(25, 75, length.out = 100))\n",
        "predictions_m <- predict(m, newdata = new_data, interval = \"confidence\", type=\"response\", level = 0.95)\n",
        "predictions_m_wtd1 <- predict(m_wtd1, newdata = new_data, interval = \"confidence\", type=\"response\", level = 0.95)\n",
        "predictions_m_wtd2 <- predict(m_wtd2, newdata = new_data, interval = \"confidence\", type=\"response\", level = 0.95)\n",
        "\n",
        "\n",
        "par(mfrow=c(1,1))\n",
        "\n",
        "for(i in 1:1){\n",
        "  sim_dat <- list()\n",
        "  for(r in 1:nrow(d)){\n",
        "    sim_dat[[r]] <- rnorm(n=d[r, \"SampleSize\"], mean=d[r, \"Age\"], sd=d[r, \"SD\"])\n",
        "  }\n",
        "  plot(Age ~ Temp, data=d, ylim=c(0, 60), xlim=c(25, 75), pch=19)\n",
        "  segments(x0=d$Temp, y0=d$Age+(d$SD), x1=d$Temp, y1=d$Age-(d$SD), col=\"black\")\n",
        "  for(r in 1:length(sim_dat)){\n",
        "    temp_values <- rep(d[r, \"Temp\"], length(sim_dat[[r]]))\n",
        "    jittered_temp <- jitter(temp_values, amount = 2.5)\n",
        "    points(sim_dat[[r]] ~ jittered_temp, col=\"grey\")\n",
        "  }\n",
        "  points(d$Temp, d$Age, pch=19)\n",
        "  segments(x0=d$Temp, y0=d$Age+(d$SD), x1=d$Temp, y1=d$Age-(d$SD), col=\"black\")\n",
        "\n",
        "  abline(m, col=\"red\", lty=1, lwd=3)\n",
        "  polygon(c(new_data$Temp, rev(new_data$Temp)),\n",
        "          c(predictions_m[, \"lwr\"], rev(predictions_m[, \"upr\"])),\n",
        "          col = rgb(1, 0, 0, 0.2), border = NA)\n",
        "\n",
        "  abline(m_wtd1, col=\"green\", lty=2, lwd=2)\n",
        "  polygon(c(new_data$Temp, rev(new_data$Temp)),\n",
        "          c(predictions_m_wtd1[, \"lwr\"], rev(predictions_m_wtd1[, \"upr\"])),\n",
        "          col = rgb(0, 1, 0, 0.2), border = NA)\n",
        "\n",
        "  abline(m_wtd2, col=\"blue\", lty=3, lwd=1)\n",
        "  polygon(c(new_data$Temp, rev(new_data$Temp)),\n",
        "          c(predictions_m_wtd2[, \"lwr\"], rev(predictions_m_wtd2[, \"upr\"])),\n",
        "          col = rgb(0, 0, 1, 0.2), border = NA)\n",
        "}"
      ]
    },
    {
      "cell_type": "markdown",
      "metadata": {
        "id": "krwNR-4QIpFX"
      },
      "source": [
        "## Question 2.17\n",
        "For a sample of 64 grazing Merino castrated male sheep (wethers) [5, 14, 17], the daily energy requirements and weight was recorded (Table 2.11; data set: `sheep`).\n",
        "\n",
        "\\\n",
        "\n",
        "**Table 2.11** *The energy requirements (in Mcal/day) and weight (in kg) for a sample of 64 Merino wethers*\n",
        "\n",
        "| Weight | Energy | Weight | Energy | Weight | Energy | Weight | Energy | Weight | Energy | Weight | Energy |\n",
        "|-------------|--------------------|-------------|--------------------|-------------|--------------------|-------------|--------------------|-------------|--------------------|-------------|--------------------|\n",
        "| 22.1        | 1.31               | 25.1        | 1.00               | 25.7        | 1.20               | 25.9        | 1.36               | 26.2        | 1.27               | 27.0        | 1.41               |\n",
        "| 27.0        | 1.46               | 30.0        | 1.23               | 30.2        | 1.01               | 30.6        | 1.12               | 33.2        | 1.25               | 33.2        | 1.32               |\n",
        "| 33.2        | 1.47               | 33.9        | 1.03               | 33.8        | 1.46               | 34.3        | 1.14               | 34.9        | 1.00               | 42.6        | 1.81               |\n",
        "| 43.7        | 1.73               | 44.9        | 1.93               | 49.0        | 1.78               | 49.2        | 2.53               | 51.8        | 1.87               | 51.8        | 1.92               |\n",
        "| 52.5        | 1.65               | 52.6        | 1.70               | 53.3        | 2.22               | 51.8        | 1.46               | 53.3        | 1.26               | 27.6        | 1.39               |\n",
        "| 28.4        | 1.27               | 28.9        | 1.74               | 29.3        | 1.54               | 29.7        | 1.44               | 31.0        | 1.47               | 31.9        | 1.50               |\n",
        "| 32.0        | 1.34               | 32.6        | 1.75               | 33.1        | 1.46               | 34.2        | 1.59               | 44.4        | 3.33               | 44.6        | 2.25               |\n",
        "| 52.1        | 2.67               | 52.4        | 2.28               | 52.7        | 3.15               | 53.1        | 2.73               | 52.6        | 3.73               | 46.7        | 2.21               |\n",
        "| 31.8        | 1.39               | 36.1        | 1.79               | 28.6        | 2.13               | 29.2        | 1.80               | 26.2        | 1.05               | 45.9        | 2.36               |\n",
        "| 36.8        | 2.31               | 34.4        | 1.85               | 34.4        | 1.63               | 26.4        | 1.27               | 27.5        | 0.94               |\n",
        "\n",
        "\\\n",
        "\n",
        "1. Fit a linear regression model to model the daily energy requirement from the weight.\n",
        "2. Plot the data, plus the systematic component of the fitted model and the 95% confidence intervals about the fitted values.\n",
        "3. Interpret the model.\n",
        "4. Which assumptions, if any, appear to be violated? Explain.\n",
        "\n",
        "(This problem continues in Problem 3.17.)"
      ]
    },
    {
      "cell_type": "markdown",
      "metadata": {
        "id": "qhFfMizZKK9l"
      },
      "source": [
        "### Answers\n",
        "First we need to load the data."
      ]
    },
    {
      "cell_type": "code",
      "execution_count": null,
      "metadata": {
        "colab": {
          "base_uri": "https://localhost:8080/",
          "height": 338
        },
        "id": "cumz2wiAKRmk",
        "outputId": "858a8ead-dab8-4b06-c9bb-0149ecdeffd2",
        "vscode": {
          "languageId": "r"
        }
      },
      "outputs": [
        {
          "name": "stderr",
          "output_type": "stream",
          "text": [
            "Installing package into ‘/usr/local/lib/R/site-library’\n",
            "(as ‘lib’ is unspecified)\n",
            "\n"
          ]
        },
        {
          "data": {
            "text/html": [
              "<table class=\"dataframe\">\n",
              "<caption>A data.frame: 6 × 2</caption>\n",
              "<thead>\n",
              "\t<tr><th></th><th scope=col>Weight</th><th scope=col>Energy</th></tr>\n",
              "\t<tr><th></th><th scope=col>&lt;dbl&gt;</th><th scope=col>&lt;dbl&gt;</th></tr>\n",
              "</thead>\n",
              "<tbody>\n",
              "\t<tr><th scope=row>1</th><td>22.1</td><td>1.31</td></tr>\n",
              "\t<tr><th scope=row>2</th><td>26.2</td><td>1.27</td></tr>\n",
              "\t<tr><th scope=row>3</th><td>33.2</td><td>1.25</td></tr>\n",
              "\t<tr><th scope=row>4</th><td>34.3</td><td>1.14</td></tr>\n",
              "\t<tr><th scope=row>5</th><td>49.0</td><td>1.78</td></tr>\n",
              "\t<tr><th scope=row>6</th><td>52.6</td><td>1.70</td></tr>\n",
              "</tbody>\n",
              "</table>\n"
            ],
            "text/latex": [
              "A data.frame: 6 × 2\n",
              "\\begin{tabular}{r|ll}\n",
              "  & Weight & Energy\\\\\n",
              "  & <dbl> & <dbl>\\\\\n",
              "\\hline\n",
              "\t1 & 22.1 & 1.31\\\\\n",
              "\t2 & 26.2 & 1.27\\\\\n",
              "\t3 & 33.2 & 1.25\\\\\n",
              "\t4 & 34.3 & 1.14\\\\\n",
              "\t5 & 49.0 & 1.78\\\\\n",
              "\t6 & 52.6 & 1.70\\\\\n",
              "\\end{tabular}\n"
            ],
            "text/markdown": [
              "\n",
              "A data.frame: 6 × 2\n",
              "\n",
              "| <!--/--> | Weight &lt;dbl&gt; | Energy &lt;dbl&gt; |\n",
              "|---|---|---|\n",
              "| 1 | 22.1 | 1.31 |\n",
              "| 2 | 26.2 | 1.27 |\n",
              "| 3 | 33.2 | 1.25 |\n",
              "| 4 | 34.3 | 1.14 |\n",
              "| 5 | 49.0 | 1.78 |\n",
              "| 6 | 52.6 | 1.70 |\n",
              "\n"
            ],
            "text/plain": [
              "  Weight Energy\n",
              "1 22.1   1.31  \n",
              "2 26.2   1.27  \n",
              "3 33.2   1.25  \n",
              "4 34.3   1.14  \n",
              "5 49.0   1.78  \n",
              "6 52.6   1.70  "
            ]
          },
          "metadata": {},
          "output_type": "display_data"
        }
      ],
      "source": [
        "install.packages(\"GLMsData\")\n",
        "library(GLMsData)\n",
        "\n",
        "data(sheep)\n",
        "d <- sheep\n",
        "head(d)"
      ]
    },
    {
      "cell_type": "code",
      "execution_count": null,
      "metadata": {
        "colab": {
          "base_uri": "https://localhost:8080/",
          "height": 749
        },
        "id": "sCkj7YgWsJw7",
        "outputId": "1c649d31-ac75-48f5-c121-26a3a6cf895d",
        "vscode": {
          "languageId": "r"
        }
      },
      "outputs": [
        {
          "data": {
            "text/plain": [
              "\n",
              "Call:\n",
              "lm(formula = Energy ~ Weight, data = d)\n",
              "\n",
              "Residuals:\n",
              "     Min       1Q   Median       3Q      Max \n",
              "-0.76227 -0.22099  0.00156  0.21907  1.31339 \n",
              "\n",
              "Coefficients:\n",
              "            Estimate Std. Error t value Pr(>|t|)    \n",
              "(Intercept) 0.132941   0.180436   0.737    0.464    \n",
              "Weight      0.043416   0.004857   8.939 9.45e-13 ***\n",
              "---\n",
              "Signif. codes:  0 ‘***’ 0.001 ‘**’ 0.01 ‘*’ 0.05 ‘.’ 0.1 ‘ ’ 1\n",
              "\n",
              "Residual standard error: 0.3662 on 62 degrees of freedom\n",
              "Multiple R-squared:  0.5631,\tAdjusted R-squared:  0.5561 \n",
              "F-statistic: 79.91 on 1 and 62 DF,  p-value: 9.447e-13\n"
            ]
          },
          "metadata": {},
          "output_type": "display_data"
        },
        {
          "data": {
            "image/png": "[encoded data removed]",
            "text/plain": [
              "plot without title"
            ]
          },
          "metadata": {
            "image/png": {
              "height": 420,
              "width": 420
            }
          },
          "output_type": "display_data"
        }
      ],
      "source": [
        "m <- lm(Energy ~ Weight, d)\n",
        "m_confint <- confint(m, level=0.95)\n",
        "\n",
        "Weight_seq <- data.frame(Weight = seq(from=min(d$Weight), to=max(d$Weight), length.out=length(d$Weight)))\n",
        "predictions_m <- predict(m, newdata=Weight_seq, interval = \"confidence\", type=\"response\", level = 0.95)\n",
        "\n",
        "plot(Energy ~ Weight, d)\n",
        "abline(m, col=\"black\", lty=1, lwd=1)\n",
        "lines(predictions_m[,\"upr\"] ~ Weight_seq$Weight, lty=2)\n",
        "lines(predictions_m[,\"lwr\"] ~ Weight_seq$Weight, lty=2)\n",
        "polygon(c(Weight_seq$Weight, rev(Weight_seq$Weight)),\n",
        "        c(predictions_m[,\"lwr\"], rev(predictions_m[,\"upr\"])),\n",
        "        col = rgb(0.1, 0.1, 0.1, 0.2), border = NA)\n",
        "\n",
        "summary(m)"
      ]
    },
    {
      "cell_type": "markdown",
      "metadata": {
        "id": "zMqfvFKpvWnD"
      },
      "source": [
        "In general, there is a significant increase in `Energy` associated with increases in `Weight` (~ Mcal/day per kg).  However, there seems to be heterogeneous variance across `Weight`.\n",
        "\n",
        "I wonder if we can do better with a log transformation."
      ]
    },
    {
      "cell_type": "code",
      "execution_count": null,
      "metadata": {
        "colab": {
          "base_uri": "https://localhost:8080/",
          "height": 749
        },
        "id": "A-sZRp9dv_ZJ",
        "outputId": "3c462c94-e8b2-4bf1-d1db-d52647d2c6ca",
        "vscode": {
          "languageId": "r"
        }
      },
      "outputs": [
        {
          "data": {
            "text/plain": [
              "\n",
              "Call:\n",
              "lm(formula = log(Energy) ~ Weight, data = d)\n",
              "\n",
              "Residuals:\n",
              "     Min       1Q   Median       3Q      Max \n",
              "-0.45609 -0.13072  0.02761  0.12537  0.44848 \n",
              "\n",
              "Coefficients:\n",
              "             Estimate Std. Error t value Pr(>|t|)    \n",
              "(Intercept) -0.366236   0.098997  -3.699 0.000461 ***\n",
              "Weight       0.023562   0.002665   8.842 1.39e-12 ***\n",
              "---\n",
              "Signif. codes:  0 ‘***’ 0.001 ‘**’ 0.01 ‘*’ 0.05 ‘.’ 0.1 ‘ ’ 1\n",
              "\n",
              "Residual standard error: 0.2009 on 62 degrees of freedom\n",
              "Multiple R-squared:  0.5577,\tAdjusted R-squared:  0.5506 \n",
              "F-statistic: 78.19 on 1 and 62 DF,  p-value: 1.386e-12\n"
            ]
          },
          "metadata": {},
          "output_type": "display_data"
        },
        {
          "data": {
            "image/png": "[encoded data removed]",
            "text/plain": [
              "plot without title"
            ]
          },
          "metadata": {
            "image/png": {
              "height": 420,
              "width": 420
            }
          },
          "output_type": "display_data"
        }
      ],
      "source": [
        "m2 <- lm(log(Energy) ~ Weight, d)\n",
        "m_confint2 <- confint(m2, level=0.95)\n",
        "\n",
        "Weight_seq <- data.frame(Weight = seq(from=min(d$Weight), to=max(d$Weight), length.out=length(d$Weight)))\n",
        "predictions_m2 <- predict(m2, newdata=Weight_seq, interval = \"confidence\", type=\"response\", level = 0.95)\n",
        "\n",
        "plot(log(Energy) ~ Weight, d)\n",
        "abline(m2, col=\"black\", lty=1, lwd=1)\n",
        "lines(predictions_m2[,\"upr\"] ~ Weight_seq$Weight, lty=2)\n",
        "lines(predictions_m2[,\"lwr\"] ~ Weight_seq$Weight, lty=2)\n",
        "polygon(c(Weight_seq$Weight, rev(Weight_seq$Weight)),\n",
        "        c(predictions_m2[,\"lwr\"], rev(predictions_m2[,\"upr\"])),\n",
        "        col = rgb(0.1, 0.1, 0.1, 0.2), border = NA)\n",
        "\n",
        "summary(m2)"
      ]
    },
    {
      "cell_type": "markdown",
      "metadata": {
        "id": "hHWw-AVSwagf"
      },
      "source": [
        "That might be a little better."
      ]
    },
    {
      "cell_type": "markdown",
      "metadata": {
        "id": "MIHEDDieImlQ"
      },
      "source": [
        "## Question 2.18\n",
        "\n",
        "Children were asked to build towers out of cubical and cylindrical blocks as high as they could [8, 12], and the number of blocks used and the time taken were recorded (Table 2.12; data set: `blocks`). In this Problem, we focus on the time taken to build the towers. (The number of blocks used to build towers is studied in Problem 10.19.)\n",
        "\n",
        "**Table 2.12** The time taken (in s), and the number of blocks used, to build towers out of two shapes of blocks in two trials one month apart. The children’s ages are given in decimal years (converted from years and months). The results for the first five children are shown (Prob. 2.18)\n",
        "\n",
        "(Page 89).\n",
        "\n",
        "| Child | Age  | Trial 1 Cubes |      | Trial 1 Cylinders |      | Trial 2 Cubes |      | Trial 2 Cylinders |      |\n",
        "|-------|------|---------------|------|-------------------|------|---------------|------|-------------------|------|\n",
        "|       |      | Number        | Time | Number            | Time | Number        | Time | Number            | Time |\n",
        "| A     | 4.67 | 11            | 30.0 | 6                 | 30.0 | 10            | 35.0 | 8                 | 125.0|\n",
        "| B     | 5.00 | 9             | 19.0 | 4                 | 6.0  | 10            | 28.0 | 5                 | 14.4 |\n",
        "| C     | 4.42 | 8             | 18.6 | 5                 | 14.2 | 7             | 18.0 | 5                 | 24.0 |\n",
        "| D     | 4.33 | 9             | 23.0 | 4                 | 8.2  | 11            | 34.8 | 6                 | 14.4 |\n",
        "| E     | 4.33 | 10            | 29.0 | 6                 | 14.0 | 6             | 16.2 | 5                 | 15.0 |\n",
        "| ...   | ...  | ...           | ...  | ...               | ...  | ...           | ...  | ...               | ...  |\n",
        "\n",
        "\n",
        "1. The data were originally examined in Problem 1.9 (p. 28). Using these plots, summarize the possible relationships of the explanatory variables with the time taken. Which assumptions, if any, appear to be violated?\n",
        "2. Suppose a model with the systematic component `Time ~ Age * Shape` was needed to model the data. What would such a systematic component imply about the relationship between the variables?\n",
        "3. Suppose a model with the systematic component `Time ~ Age * Trial` was needed to model the data. What would such a systematic component imply about the relationship between the variables?\n",
        "4. Suppose a model with the systematic component `Time ~ (Age + Shape) * Trial` was needed to model the data. What would such a systematic component imply about the relationship between the variables?\n",
        "5. One hypothesis of interest is whether the time taken to build the tower differs between cubical and cylindrical shaped blocks. Test this hypothesis by fitting a linear regression model.\n",
        "6. Another hypothesis of interest is that older children take less time to build the towers than younger children, but the difference would depend on the type of block. Test this hypothesis.\n",
        "7. Find a suitable linear regression model for the time taken to build the towers. Do you think this model is suitable? Explain.\n",
        "8. Interpret your final model.\n",
        "\n",
        "(This problem continues in Problem 3.16.)"
      ]
    },
    {
      "cell_type": "markdown",
      "metadata": {
        "id": "-_0q1n-2J9qX"
      },
      "source": [
        "### Answers"
      ]
    },
    {
      "cell_type": "code",
      "execution_count": null,
      "metadata": {
        "colab": {
          "base_uri": "https://localhost:8080/",
          "height": 286
        },
        "id": "_p6yDTT2KAcv",
        "outputId": "c7c1455a-bea0-441c-e201-9da6e3b870b0",
        "vscode": {
          "languageId": "r"
        }
      },
      "outputs": [
        {
          "data": {
            "text/html": [
              "<table class=\"dataframe\">\n",
              "<caption>A data.frame: 6 × 6</caption>\n",
              "<thead>\n",
              "\t<tr><th></th><th scope=col>Child</th><th scope=col>Number</th><th scope=col>Time</th><th scope=col>Trial</th><th scope=col>Shape</th><th scope=col>Age</th></tr>\n",
              "\t<tr><th></th><th scope=col>&lt;fct&gt;</th><th scope=col>&lt;int&gt;</th><th scope=col>&lt;dbl&gt;</th><th scope=col>&lt;int&gt;</th><th scope=col>&lt;fct&gt;</th><th scope=col>&lt;dbl&gt;</th></tr>\n",
              "</thead>\n",
              "<tbody>\n",
              "\t<tr><th scope=row>1</th><td>A</td><td>11</td><td> 30.0</td><td>1</td><td>Cube</td><td>4.67</td></tr>\n",
              "\t<tr><th scope=row>2</th><td>B</td><td> 9</td><td> 19.0</td><td>1</td><td>Cube</td><td>5.00</td></tr>\n",
              "\t<tr><th scope=row>3</th><td>C</td><td> 8</td><td> 18.6</td><td>1</td><td>Cube</td><td>4.42</td></tr>\n",
              "\t<tr><th scope=row>4</th><td>D</td><td> 9</td><td> 23.0</td><td>1</td><td>Cube</td><td>4.33</td></tr>\n",
              "\t<tr><th scope=row>5</th><td>E</td><td>10</td><td> 29.0</td><td>1</td><td>Cube</td><td>4.33</td></tr>\n",
              "\t<tr><th scope=row>6</th><td>F</td><td>13</td><td>178.0</td><td>1</td><td>Cube</td><td>4.83</td></tr>\n",
              "</tbody>\n",
              "</table>\n"
            ],
            "text/latex": [
              "A data.frame: 6 × 6\n",
              "\\begin{tabular}{r|llllll}\n",
              "  & Child & Number & Time & Trial & Shape & Age\\\\\n",
              "  & <fct> & <int> & <dbl> & <int> & <fct> & <dbl>\\\\\n",
              "\\hline\n",
              "\t1 & A & 11 &  30.0 & 1 & Cube & 4.67\\\\\n",
              "\t2 & B &  9 &  19.0 & 1 & Cube & 5.00\\\\\n",
              "\t3 & C &  8 &  18.6 & 1 & Cube & 4.42\\\\\n",
              "\t4 & D &  9 &  23.0 & 1 & Cube & 4.33\\\\\n",
              "\t5 & E & 10 &  29.0 & 1 & Cube & 4.33\\\\\n",
              "\t6 & F & 13 & 178.0 & 1 & Cube & 4.83\\\\\n",
              "\\end{tabular}\n"
            ],
            "text/markdown": [
              "\n",
              "A data.frame: 6 × 6\n",
              "\n",
              "| <!--/--> | Child &lt;fct&gt; | Number &lt;int&gt; | Time &lt;dbl&gt; | Trial &lt;int&gt; | Shape &lt;fct&gt; | Age &lt;dbl&gt; |\n",
              "|---|---|---|---|---|---|---|\n",
              "| 1 | A | 11 |  30.0 | 1 | Cube | 4.67 |\n",
              "| 2 | B |  9 |  19.0 | 1 | Cube | 5.00 |\n",
              "| 3 | C |  8 |  18.6 | 1 | Cube | 4.42 |\n",
              "| 4 | D |  9 |  23.0 | 1 | Cube | 4.33 |\n",
              "| 5 | E | 10 |  29.0 | 1 | Cube | 4.33 |\n",
              "| 6 | F | 13 | 178.0 | 1 | Cube | 4.83 |\n",
              "\n"
            ],
            "text/plain": [
              "  Child Number Time  Trial Shape Age \n",
              "1 A     11      30.0 1     Cube  4.67\n",
              "2 B      9      19.0 1     Cube  5.00\n",
              "3 C      8      18.6 1     Cube  4.42\n",
              "4 D      9      23.0 1     Cube  4.33\n",
              "5 E     10      29.0 1     Cube  4.33\n",
              "6 F     13     178.0 1     Cube  4.83"
            ]
          },
          "metadata": {},
          "output_type": "display_data"
        }
      ],
      "source": [
        "#install.packages(\"GLMsData\")\n",
        "#library(GLMsData)\n",
        "\n",
        "data(blocks)\n",
        "d <- blocks\n",
        "head(d)"
      ]
    },
    {
      "cell_type": "markdown",
      "metadata": {
        "id": "vDYj6r5eKXAn"
      },
      "source": [
        "#### Answer to Question 2.18, 1\n",
        "***The data were originally examined in Problem 1.9 (p. 28). Using these plots, summarize the possible relationships of the explanatory variables with the time taken. Which assumptions, if any, appear to be violated?***\n",
        "\n",
        "I'm going to reproduce my code from Problem 1.9."
      ]
    },
    {
      "cell_type": "code",
      "execution_count": null,
      "metadata": {
        "colab": {
          "base_uri": "https://localhost:8080/",
          "height": 489
        },
        "id": "NDDxbZWZf9Mf",
        "outputId": "9b1c29b5-84b6-48e0-bebc-38356d0f5ac1",
        "vscode": {
          "languageId": "r"
        }
      },
      "outputs": [
        {
          "name": "stderr",
          "output_type": "stream",
          "text": [
            "Warning message:\n",
            "“\u001b[1m\u001b[22mUsing `size` aesthetic for lines was deprecated in ggplot2 3.4.0.\n",
            "\u001b[36mℹ\u001b[39m Please use `linewidth` instead.”\n"
          ]
        },
        {
          "data": {
            "image/png": "[encoded data removed]",
            "text/plain": [
              "plot without title"
            ]
          },
          "metadata": {
            "image/png": {
              "height": 420,
              "width": 420
            }
          },
          "output_type": "display_data"
        }
      ],
      "source": [
        "# 2. Produce plots to examine the relationship between the  time taken to build towers, and the block  type ,  trial number , and  age.\n",
        "library(ggplot2)\n",
        "\n",
        "ggplot(d, aes(x=Trial, y=Time, size=Number, color=Shape, alpha=Age, shape=Shape, group=interaction(Child,Shape))) +\n",
        "       geom_point() +\n",
        "       geom_line(size=0.5) +\n",
        "       labs(x=\"Trial\", y=\"Time\") +\n",
        "       scale_shape_manual(values = c(\"Cube\" = 0, \"Cylinder\" = 16)) +\n",
        "       scale_x_continuous(breaks = c(1, 2)) +\n",
        "       theme_minimal()\n",
        "\n",
        "# Not the prettiest.  Would probably want to partition these variables out a bit.  But this is pretty cool.\n",
        "\n",
        "# 3. In words, summarize the relationship between the four variables.\n",
        "# It's not easy to see many trends here.\n",
        "# Going from trial 1 to 2, most children seem to be spending about the same\n",
        "  # amount of time and using about the same number of blocks.\n",
        "# Child  seems to be a major determinant."
      ]
    },
    {
      "cell_type": "markdown",
      "metadata": {
        "id": "Yakt3PAbLo1J"
      },
      "source": [
        "#### Answers to Questions 2.18, 2-4\n",
        "\n",
        "***Suppose a model with the systematic components***\n",
        "\n",
        "> ***2. `Time ~ Age * Shape`***\n",
        "\n",
        "> ***3. `Time ~ Age * Trial`***\n",
        "\n",
        "> ***4. `Time ~ (Age + Shape) * Trial`***\n",
        "\n",
        "***was needed to model the data. What would such a systematic component imply about the relationship between the variables?***\n",
        "\n",
        "2. `Time` can be modeled as $\\beta_{Age} \\times Age + \\beta_{Shape} \\times Shape + \\beta_{Age \\times Shape} \\times Age \\times Shape$\n",
        "3. `Time` can be modeled as $\\beta_{Age} \\times Age + \\beta_{Trial} \\times Trial + \\beta_{Age \\times Trial} \\times Age \\times Trial$\n",
        "4. `Time` can be modeled as $\\beta_{Age} \\times Age + \\beta_{Shape} \\times Shape + \\beta_{Trial} \\times Trial + \\beta_{Age \\times Shape} \\times Age \\times Shape + \\beta_{Age \\times Trial} \\times Age \\times Trial$"
      ]
    },
    {
      "cell_type": "markdown",
      "metadata": {
        "id": "E9ubRLMONWgL"
      },
      "source": [
        "#### Answer to Questions 2.18, 5 and 6\n",
        "***One hypothesis of interest is whether the time taken to build the tower differs between cubical and cylindrical shaped blocks. Test this hypothesis by fitting a linear regression model.***\n",
        "\n",
        "***Another hypothesis of interest is that older children take less time to build the towers than younger children, but the difference would depend on the type of block. Test this hypothesis.***"
      ]
    },
    {
      "cell_type": "code",
      "execution_count": null,
      "metadata": {
        "colab": {
          "base_uri": "https://localhost:8080/",
          "height": 1000
        },
        "id": "KOAyAC21Nkuf",
        "outputId": "64a405f0-a620-4221-e4e3-0aa1b2c3aa7c",
        "vscode": {
          "languageId": "r"
        }
      },
      "outputs": [
        {
          "data": {
            "text/plain": [
              "\n",
              "Call:\n",
              "lm(formula = Time ~ Shape, data = d)\n",
              "\n",
              "Residuals:\n",
              "    Min      1Q  Median      3Q     Max \n",
              "-29.416 -14.268  -6.816   7.032 141.184 \n",
              "\n",
              "Coefficients:\n",
              "              Estimate Std. Error t value Pr(>|t|)    \n",
              "(Intercept)     36.816      3.496  10.531  < 2e-16 ***\n",
              "ShapeCylinder  -14.448      4.944  -2.922  0.00431 ** \n",
              "---\n",
              "Signif. codes:  0 ‘***’ 0.001 ‘**’ 0.01 ‘*’ 0.05 ‘.’ 0.1 ‘ ’ 1\n",
              "\n",
              "Residual standard error: 24.72 on 98 degrees of freedom\n",
              "Multiple R-squared:  0.08015,\tAdjusted R-squared:  0.07077 \n",
              "F-statistic:  8.54 on 1 and 98 DF,  p-value: 0.004315\n"
            ]
          },
          "metadata": {},
          "output_type": "display_data"
        },
        {
          "data": {
            "text/plain": [
              "\n",
              "Call:\n",
              "lm(formula = Time ~ Age * Shape, data = d)\n",
              "\n",
              "Residuals:\n",
              "    Min      1Q  Median      3Q     Max \n",
              "-26.402 -14.719  -6.973   5.878 139.676 \n",
              "\n",
              "Coefficients:\n",
              "                  Estimate Std. Error t value Pr(>|t|)\n",
              "(Intercept)         29.262     19.487   1.502    0.136\n",
              "Age                  1.876      4.760   0.394    0.694\n",
              "ShapeCylinder       -2.513     27.559  -0.091    0.928\n",
              "Age:ShapeCylinder   -2.964      6.731  -0.440    0.661\n",
              "\n",
              "Residual standard error: 24.95 on 96 degrees of freedom\n",
              "Multiple R-squared:  0.08214,\tAdjusted R-squared:  0.05346 \n",
              "F-statistic: 2.864 on 3 and 96 DF,  p-value: 0.04074\n"
            ]
          },
          "metadata": {},
          "output_type": "display_data"
        },
        {
          "data": {
            "image/png": "[encoded data removed]",
            "text/plain": [
              "plot without title"
            ]
          },
          "metadata": {
            "image/png": {
              "height": 420,
              "width": 420
            }
          },
          "output_type": "display_data"
        },
        {
          "data": {
            "image/png": "[encoded data removed]",
            "text/plain": [
              "plot without title"
            ]
          },
          "metadata": {
            "image/png": {
              "height": 420,
              "width": 420
            }
          },
          "output_type": "display_data"
        }
      ],
      "source": [
        "m_shape <- lm(Time ~ Shape, d)\n",
        "summary(m_shape)\n",
        "plot(Time ~ Shape, d)\n",
        "\n",
        "m_age.shape <- lm(Time ~ Age*Shape, d)\n",
        "summary(m_age.shape)\n",
        "plot(Time ~ Age, d,\n",
        "     pch=ifelse(d$Shape==\"Cylinder\", 19, 0),\n",
        "     cex=2)"
      ]
    },
    {
      "cell_type": "markdown",
      "metadata": {
        "id": "Zap2tWY-PDET"
      },
      "source": [
        "In `m_Shape`, the hypothesis that `Shape` matters is supported.  However, in `m_age.shape`, neither main effect nor their interaction is supported as being meaningful."
      ]
    },
    {
      "cell_type": "markdown",
      "metadata": {
        "id": "HZCIy0MhPnLv"
      },
      "source": [
        "#### Answer to Questions 2.18, 7 and 8\n",
        "\n",
        "***Find a suitable linear regression model for the time taken to build the towers. Do you think this model is suitable? Explain.***\n",
        "\n",
        "***Interpret your final model.***"
      ]
    },
    {
      "cell_type": "code",
      "execution_count": null,
      "metadata": {
        "colab": {
          "base_uri": "https://localhost:8080/",
          "height": 364
        },
        "id": "yL3fnP5OP8ea",
        "outputId": "258423fa-b32e-4c33-8500-c96a9b3899ba",
        "vscode": {
          "languageId": "r"
        }
      },
      "outputs": [
        {
          "data": {
            "text/plain": [
              "\n",
              "Call:\n",
              "lm(formula = Time ~ Trial + Age + Shape, data = d)\n",
              "\n",
              "Residuals:\n",
              "    Min      1Q  Median      3Q     Max \n",
              "-28.771 -14.343  -6.968   7.382 140.879 \n",
              "\n",
              "Coefficients:\n",
              "              Estimate Std. Error t value Pr(>|t|)   \n",
              "(Intercept)    35.1931    15.8945   2.214  0.02918 * \n",
              "Trial           0.0240     4.9950   0.005  0.99618   \n",
              "Age             0.3941     3.3691   0.117  0.90712   \n",
              "ShapeCylinder -14.4480     4.9950  -2.892  0.00473 **\n",
              "---\n",
              "Signif. codes:  0 ‘***’ 0.001 ‘**’ 0.01 ‘*’ 0.05 ‘.’ 0.1 ‘ ’ 1\n",
              "\n",
              "Residual standard error: 24.98 on 96 degrees of freedom\n",
              "Multiple R-squared:  0.08029,\tAdjusted R-squared:  0.05154 \n",
              "F-statistic: 2.793 on 3 and 96 DF,  p-value: 0.04447\n"
            ]
          },
          "metadata": {},
          "output_type": "display_data"
        }
      ],
      "source": [
        "my_m1 <- lm(Time ~ Trial + Age + Shape, d)\n",
        "summary(my_m1)"
      ]
    },
    {
      "cell_type": "markdown",
      "metadata": {
        "id": "lblHTglzQF8t"
      },
      "source": [
        "I don't like these types of questions; hypothesis ought generally be sorted out a priori based on subject-matter knowledge.  The type of thinking alluded to here suggests *hunting* for p-values and adopting post-hoc hypotheses as though the are a priori.\n",
        "\n",
        "Having said, that, I can image that `Shape`, `Age`, and `Trial` are all important determinants of `Time`.  Here, after accounting for each of these, only `Shape` is significantly important.\n",
        "\n",
        "One factor that has not yet been discussed, though, is `Number` of blocks.  I bet this is important, let's put it into the model."
      ]
    },
    {
      "cell_type": "code",
      "execution_count": null,
      "metadata": {
        "colab": {
          "base_uri": "https://localhost:8080/",
          "height": 381
        },
        "id": "_vZK8rTLVBXJ",
        "outputId": "130c4d24-4441-4794-8572-f5346d687610",
        "vscode": {
          "languageId": "r"
        }
      },
      "outputs": [
        {
          "data": {
            "text/plain": [
              "\n",
              "Call:\n",
              "lm(formula = Time ~ Trial + Age + Shape + Number, data = d)\n",
              "\n",
              "Residuals:\n",
              "    Min      1Q  Median      3Q     Max \n",
              "-38.989  -9.623  -4.119   3.390 106.230 \n",
              "\n",
              "Coefficients:\n",
              "              Estimate Std. Error t value Pr(>|t|)    \n",
              "(Intercept)     0.6383    14.3526   0.044   0.9646    \n",
              "Trial          -1.3057     4.1905  -0.312   0.7560    \n",
              "Age            -7.3713     3.0684  -2.402   0.0182 *  \n",
              "ShapeCylinder   7.8250     5.4228   1.443   0.1523    \n",
              "Number          8.3108     1.2866   6.460 4.45e-09 ***\n",
              "---\n",
              "Signif. codes:  0 ‘***’ 0.001 ‘**’ 0.01 ‘*’ 0.05 ‘.’ 0.1 ‘ ’ 1\n",
              "\n",
              "Residual standard error: 20.93 on 95 degrees of freedom\n",
              "Multiple R-squared:  0.361,\tAdjusted R-squared:  0.3341 \n",
              "F-statistic: 13.42 on 4 and 95 DF,  p-value: 1.05e-08\n"
            ]
          },
          "metadata": {},
          "output_type": "display_data"
        }
      ],
      "source": [
        "my_m2 <- lm(Time ~ Trial + Age + Shape + Number, d)\n",
        "summary(my_m2)"
      ]
    },
    {
      "cell_type": "markdown",
      "metadata": {
        "id": "bv6eTswPVEPu"
      },
      "source": [
        "Now `Shape` is no longer \"important\" while `Number` and `Age` *are*.  This highlights the problem of approaching a statistical analysis without an a priori hypothesis."
      ]
    },
    {
      "cell_type": "markdown",
      "metadata": {
        "id": "o11_SkRdA0Ad"
      },
      "source": [
        "## Question 2.19\n",
        "\n",
        "The data in Table 2.13 (data set: `sharpener`) comes from a study to make a point.\n",
        "\n",
        "\\\n",
        "\n",
        "**Table 2.13** The `sharpener` data; the first five cases are shown (Problem 2.13)\n",
        "\n",
        "\n",
        "|   y   |  x1  |  x2  |  x3  |  x4  |  x5  |  x6  |  x7  |  x8  |  x9  |  x10 |\n",
        "|-------|------|------|------|------|------|------|------|------|------|------|\n",
        "|  9.87 | 0.64 | 0.22 | 0.83 | 0.41 | 0.64 | 0.88 | 0.22 | 0.41 | 0.38 | 0.02 |\n",
        "|  8.86 | 0.16 | 0.55 | 0.71 | 0.25 | 0.61 | 0.68 | 0.93 | 0.95 | 0.15 | 0.00 |\n",
        "|  7.82 | 0.14 | 0.00 | 0.97 | 0.54 | 0.25 | 0.46 | 0.71 | 0.90 | 0.13 | 0.18 |\n",
        "| 10.77 | 0.53 | 0.45 | 0.80 | 0.54 | 0.84 | 0.39 | 0.16 | 0.06 | 0.72 | 0.90 |\n",
        "|  9.53 | 0.14 | 0.52 | 0.13 | 0.91 | 0.15 | 0.52 | 0.09 | 0.26 | 0.12 | 0.51 |\n",
        "|   ... |  ... |  ... |  ... |  ... |  ... |  ... |  ... |  ... |  ... |  ... |\n",
        "\n",
        "\\\n",
        "\n",
        "1. Using the forward regression procedure (Sect. 2.12.2, p. 73), find a suitable linear regression (without interactions) model for predicting $y$ from the explanatory variables, based on using the AIC.\n",
        "2. Using the backward elimination procedure, find a model (without interactions) for predicting $y$ from the explanatory variables based on using the AIC.\n",
        "3. Using the step-wise regression procedure, find a model (without interactions) for predicting $y$ from the explanatory variables, based on using the AIC.\n",
        "4. From the results of the above approaches, deduce a model (without interactions) for the data.\n",
        "5. Repeat the three procedures, but use the BIC to select a model.\n",
        "6. After reading the `R` help for the `sharpener` data (using `?sharpener`), comment on the use of automatic methods for fitting regression models."
      ]
    },
    {
      "cell_type": "markdown",
      "metadata": {
        "id": "YtNU8QG-CDqb"
      },
      "source": [
        "### Answers"
      ]
    },
    {
      "cell_type": "code",
      "execution_count": null,
      "metadata": {
        "colab": {
          "base_uri": "https://localhost:8080/",
          "height": 338
        },
        "id": "_D09cMAmCIqH",
        "outputId": "e94f6e3d-37ee-4899-d70c-4756932a6521",
        "vscode": {
          "languageId": "r"
        }
      },
      "outputs": [
        {
          "name": "stderr",
          "output_type": "stream",
          "text": [
            "Installing package into ‘/usr/local/lib/R/site-library’\n",
            "(as ‘lib’ is unspecified)\n",
            "\n"
          ]
        },
        {
          "data": {
            "text/html": [
              "<table class=\"dataframe\">\n",
              "<caption>A data.frame: 6 × 11</caption>\n",
              "<thead>\n",
              "\t<tr><th></th><th scope=col>Y</th><th scope=col>X1</th><th scope=col>X2</th><th scope=col>X3</th><th scope=col>X4</th><th scope=col>X5</th><th scope=col>X6</th><th scope=col>X7</th><th scope=col>X8</th><th scope=col>X9</th><th scope=col>X10</th></tr>\n",
              "\t<tr><th></th><th scope=col>&lt;dbl&gt;</th><th scope=col>&lt;dbl&gt;</th><th scope=col>&lt;dbl&gt;</th><th scope=col>&lt;dbl&gt;</th><th scope=col>&lt;dbl&gt;</th><th scope=col>&lt;dbl&gt;</th><th scope=col>&lt;dbl&gt;</th><th scope=col>&lt;dbl&gt;</th><th scope=col>&lt;dbl&gt;</th><th scope=col>&lt;dbl&gt;</th><th scope=col>&lt;dbl&gt;</th></tr>\n",
              "</thead>\n",
              "<tbody>\n",
              "\t<tr><th scope=row>1</th><td> 9.87</td><td>0.64</td><td>0.22</td><td>0.83</td><td>0.41</td><td>0.64</td><td>0.88</td><td>0.22</td><td>0.41</td><td>0.38</td><td>0.02</td></tr>\n",
              "\t<tr><th scope=row>2</th><td> 8.86</td><td>0.16</td><td>0.55</td><td>0.71</td><td>0.25</td><td>0.61</td><td>0.68</td><td>0.93</td><td>0.95</td><td>0.15</td><td>0.00</td></tr>\n",
              "\t<tr><th scope=row>3</th><td> 7.82</td><td>0.14</td><td>0.00</td><td>0.97</td><td>0.54</td><td>0.25</td><td>0.46</td><td>0.71</td><td>0.90</td><td>0.13</td><td>0.18</td></tr>\n",
              "\t<tr><th scope=row>4</th><td>10.77</td><td>0.53</td><td>0.45</td><td>0.80</td><td>0.54</td><td>0.84</td><td>0.39</td><td>0.16</td><td>0.06</td><td>0.72</td><td>0.90</td></tr>\n",
              "\t<tr><th scope=row>5</th><td> 9.53</td><td>0.14</td><td>0.52</td><td>0.13</td><td>0.91</td><td>0.15</td><td>0.52</td><td>0.09</td><td>0.26</td><td>0.12</td><td>0.51</td></tr>\n",
              "\t<tr><th scope=row>6</th><td> 9.60</td><td>0.27</td><td>0.83</td><td>0.22</td><td>0.93</td><td>0.53</td><td>0.58</td><td>0.69</td><td>0.41</td><td>0.85</td><td>0.13</td></tr>\n",
              "</tbody>\n",
              "</table>\n"
            ],
            "text/latex": [
              "A data.frame: 6 × 11\n",
              "\\begin{tabular}{r|lllllllllll}\n",
              "  & Y & X1 & X2 & X3 & X4 & X5 & X6 & X7 & X8 & X9 & X10\\\\\n",
              "  & <dbl> & <dbl> & <dbl> & <dbl> & <dbl> & <dbl> & <dbl> & <dbl> & <dbl> & <dbl> & <dbl>\\\\\n",
              "\\hline\n",
              "\t1 &  9.87 & 0.64 & 0.22 & 0.83 & 0.41 & 0.64 & 0.88 & 0.22 & 0.41 & 0.38 & 0.02\\\\\n",
              "\t2 &  8.86 & 0.16 & 0.55 & 0.71 & 0.25 & 0.61 & 0.68 & 0.93 & 0.95 & 0.15 & 0.00\\\\\n",
              "\t3 &  7.82 & 0.14 & 0.00 & 0.97 & 0.54 & 0.25 & 0.46 & 0.71 & 0.90 & 0.13 & 0.18\\\\\n",
              "\t4 & 10.77 & 0.53 & 0.45 & 0.80 & 0.54 & 0.84 & 0.39 & 0.16 & 0.06 & 0.72 & 0.90\\\\\n",
              "\t5 &  9.53 & 0.14 & 0.52 & 0.13 & 0.91 & 0.15 & 0.52 & 0.09 & 0.26 & 0.12 & 0.51\\\\\n",
              "\t6 &  9.60 & 0.27 & 0.83 & 0.22 & 0.93 & 0.53 & 0.58 & 0.69 & 0.41 & 0.85 & 0.13\\\\\n",
              "\\end{tabular}\n"
            ],
            "text/markdown": [
              "\n",
              "A data.frame: 6 × 11\n",
              "\n",
              "| <!--/--> | Y &lt;dbl&gt; | X1 &lt;dbl&gt; | X2 &lt;dbl&gt; | X3 &lt;dbl&gt; | X4 &lt;dbl&gt; | X5 &lt;dbl&gt; | X6 &lt;dbl&gt; | X7 &lt;dbl&gt; | X8 &lt;dbl&gt; | X9 &lt;dbl&gt; | X10 &lt;dbl&gt; |\n",
              "|---|---|---|---|---|---|---|---|---|---|---|---|\n",
              "| 1 |  9.87 | 0.64 | 0.22 | 0.83 | 0.41 | 0.64 | 0.88 | 0.22 | 0.41 | 0.38 | 0.02 |\n",
              "| 2 |  8.86 | 0.16 | 0.55 | 0.71 | 0.25 | 0.61 | 0.68 | 0.93 | 0.95 | 0.15 | 0.00 |\n",
              "| 3 |  7.82 | 0.14 | 0.00 | 0.97 | 0.54 | 0.25 | 0.46 | 0.71 | 0.90 | 0.13 | 0.18 |\n",
              "| 4 | 10.77 | 0.53 | 0.45 | 0.80 | 0.54 | 0.84 | 0.39 | 0.16 | 0.06 | 0.72 | 0.90 |\n",
              "| 5 |  9.53 | 0.14 | 0.52 | 0.13 | 0.91 | 0.15 | 0.52 | 0.09 | 0.26 | 0.12 | 0.51 |\n",
              "| 6 |  9.60 | 0.27 | 0.83 | 0.22 | 0.93 | 0.53 | 0.58 | 0.69 | 0.41 | 0.85 | 0.13 |\n",
              "\n"
            ],
            "text/plain": [
              "  Y     X1   X2   X3   X4   X5   X6   X7   X8   X9   X10 \n",
              "1  9.87 0.64 0.22 0.83 0.41 0.64 0.88 0.22 0.41 0.38 0.02\n",
              "2  8.86 0.16 0.55 0.71 0.25 0.61 0.68 0.93 0.95 0.15 0.00\n",
              "3  7.82 0.14 0.00 0.97 0.54 0.25 0.46 0.71 0.90 0.13 0.18\n",
              "4 10.77 0.53 0.45 0.80 0.54 0.84 0.39 0.16 0.06 0.72 0.90\n",
              "5  9.53 0.14 0.52 0.13 0.91 0.15 0.52 0.09 0.26 0.12 0.51\n",
              "6  9.60 0.27 0.83 0.22 0.93 0.53 0.58 0.69 0.41 0.85 0.13"
            ]
          },
          "metadata": {},
          "output_type": "display_data"
        }
      ],
      "source": [
        "install.packages(\"GLMsData\")\n",
        "library(GLMsData)\n",
        "\n",
        "data(sharpener)\n",
        "d <- sharpener\n",
        "head(d)"
      ]
    },
    {
      "cell_type": "markdown",
      "metadata": {
        "id": "mSO08XOACXPd"
      },
      "source": [
        "#### Answer to Question 2.19, 1\n",
        "\n",
        "***Using the forward regression procedure (Sect. 2.12.2, p. 73), find a suitable linear regression (without interactions) model for predicting $y$ from the explanatory variables, based on using the AIC.***\n",
        "\n"
      ]
    },
    {
      "cell_type": "code",
      "execution_count": null,
      "metadata": {
        "colab": {
          "base_uri": "https://localhost:8080/"
        },
        "id": "dq1NPKBWgxTo",
        "outputId": "f2145b6d-9de3-4388-d431-60cb8f2a0791",
        "vscode": {
          "languageId": "r"
        }
      },
      "outputs": [
        {
          "name": "stdout",
          "output_type": "stream",
          "text": [
            "Start:  AIC=0.1\n",
            "Y ~ 1\n",
            "\n",
            "       Df Sum of Sq     RSS      AIC\n",
            "+ X10   1    8.0594  5.1597 -12.0077\n",
            "+ X1    1    1.7339 11.4851  -0.0050\n",
            "<none>              13.2190   0.1041\n",
            "+ X3    1    0.7589 12.4601   1.2172\n",
            "+ X6    1    0.7444 12.4746   1.2347\n",
            "+ X8    1    0.6632 12.5558   1.3320\n",
            "+ X7    1    0.5118 12.7072   1.5118\n",
            "+ X5    1    0.4365 12.7826   1.6005\n",
            "+ X2    1    0.3195 12.8995   1.7371\n",
            "+ X9    1    0.3060 12.9131   1.7529\n",
            "+ X4    1    0.1909 13.0281   1.8859\n",
            "\n",
            "Step:  AIC=-12.01\n",
            "Y ~ X10\n",
            "\n",
            "       Df Sum of Sq    RSS     AIC\n",
            "+ X5    1   0.97157 4.1881 -13.137\n",
            "<none>              5.1597 -12.008\n",
            "+ X1    1   0.45453 4.7051 -11.391\n",
            "+ X9    1   0.29792 4.8617 -10.900\n",
            "+ X8    1   0.14097 5.0187 -10.423\n",
            "+ X3    1   0.11072 5.0489 -10.333\n",
            "+ X4    1   0.08263 5.0770 -10.250\n",
            "+ X7    1   0.03018 5.1295 -10.096\n",
            "+ X2    1   0.01251 5.1472 -10.044\n",
            "+ X6    1   0.00462 5.1550 -10.021\n",
            "\n",
            "Step:  AIC=-13.14\n",
            "Y ~ X10 + X5\n",
            "\n",
            "       Df Sum of Sq    RSS     AIC\n",
            "<none>              4.1881 -13.137\n",
            "+ X7    1  0.226059 3.9620 -11.969\n",
            "+ X2    1  0.195731 3.9924 -11.855\n",
            "+ X9    1  0.140106 4.0480 -11.648\n",
            "+ X1    1  0.101203 4.0869 -11.504\n",
            "+ X8    1  0.098939 4.0892 -11.496\n",
            "+ X3    1  0.032078 4.1560 -11.252\n",
            "+ X4    1  0.001066 4.1870 -11.141\n",
            "+ X6    1  0.000238 4.1879 -11.138\n"
          ]
        }
      ],
      "source": [
        "min.model <- lm(Y ~ 1, data=d)\n",
        "mid.model <- lm(Y ~ X1 + X2 + X3 + X4 + X5, data=d)\n",
        "max.model <- lm(Y ~ ., data=d)\n",
        "\n",
        "auto.forward <- step(min.model, direction=\"forward\", scope=list(lower=min.model, upper=max.model), k=2)"
      ]
    },
    {
      "cell_type": "markdown",
      "metadata": {
        "id": "XOqv5cT6i0b-"
      },
      "source": [
        "#### Answer to Question 2.19, 2\n",
        "\n",
        "***Using the backward elimination procedure, find a model (without interactions) for predicting $y$ from the explanatory variables based on using the AIC.***"
      ]
    },
    {
      "cell_type": "code",
      "execution_count": null,
      "metadata": {
        "colab": {
          "base_uri": "https://localhost:8080/"
        },
        "id": "doLbJbTmfOTn",
        "outputId": "08bc099d-a8ea-45d1-ce9e-8f29c531e33f",
        "vscode": {
          "languageId": "r"
        }
      },
      "outputs": [
        {
          "name": "stdout",
          "output_type": "stream",
          "text": [
            "Start:  AIC=-9.96\n",
            "Y ~ X1 + X2 + X3 + X4 + X5 + X6 + X7 + X8 + X9 + X10\n",
            "\n",
            "       Df Sum of Sq    RSS      AIC\n",
            "- X2    1    0.1478 1.9296 -10.7607\n",
            "- X1    1    0.1567 1.9386 -10.6912\n",
            "<none>              1.7819  -9.9558\n",
            "- X4    1    0.2779 2.0598  -9.7817\n",
            "- X5    1    0.4423 2.2241  -8.6303\n",
            "- X9    1    0.4879 2.2698  -8.3255\n",
            "- X3    1    0.9041 2.6859  -5.8002\n",
            "- X6    1    1.4688 3.2507  -2.9377\n",
            "- X8    1    1.6261 3.4079  -2.2291\n",
            "- X7    1    1.8811 3.6630  -1.1467\n",
            "- X10   1    6.9578 8.7397  11.8974\n",
            "\n",
            "Step:  AIC=-10.76\n",
            "Y ~ X1 + X3 + X4 + X5 + X6 + X7 + X8 + X9 + X10\n",
            "\n",
            "       Df Sum of Sq    RSS      AIC\n",
            "- X1    1    0.2147 2.1443 -11.1785\n",
            "- X4    1    0.2462 2.1758 -10.9595\n",
            "<none>              1.9296 -10.7607\n",
            "- X9    1    0.4384 2.3681  -9.6896\n",
            "- X5    1    0.5652 2.4948  -8.9075\n",
            "- X3    1    0.7629 2.6926  -7.7632\n",
            "- X6    1    1.3906 3.3202  -4.6204\n",
            "- X8    1    1.6071 3.5367  -3.6728\n",
            "- X7    1    1.8317 3.7614  -2.7490\n",
            "- X10   1    6.8605 8.7901   9.9837\n",
            "\n",
            "Step:  AIC=-11.18\n",
            "Y ~ X3 + X4 + X5 + X6 + X7 + X8 + X9 + X10\n",
            "\n",
            "       Df Sum of Sq     RSS      AIC\n",
            "- X4    1    0.1092  2.2535 -12.4334\n",
            "<none>               2.1443 -11.1785\n",
            "- X9    1    0.4446  2.5889 -10.3521\n",
            "- X3    1    0.6205  2.7648  -9.3665\n",
            "- X5    1    1.3593  3.5036  -5.8140\n",
            "- X6    1    1.3879  3.5322  -5.6921\n",
            "- X8    1    1.5236  3.6679  -5.1265\n",
            "- X7    1    1.8393  3.9836  -3.8878\n",
            "- X10   1    8.8263 10.9706  11.3076\n",
            "\n",
            "Step:  AIC=-12.43\n",
            "Y ~ X3 + X5 + X6 + X7 + X8 + X9 + X10\n",
            "\n",
            "       Df Sum of Sq     RSS      AIC\n",
            "<none>               2.2535 -12.4334\n",
            "- X9    1    0.4313  2.6848 -11.8065\n",
            "- X3    1    0.5119  2.7654 -11.3630\n",
            "- X6    1    1.2960  3.5495  -7.6188\n",
            "- X8    1    1.4590  3.7125  -6.9450\n",
            "- X7    1    1.7320  3.9855  -5.8809\n",
            "- X5    1    1.7941  4.0476  -5.6488\n",
            "- X10   1    8.8300 11.0835   9.4611\n"
          ]
        }
      ],
      "source": [
        "auto.backward <- step(max.model, direction=\"backward\", scope=list(lower=min.model, upper=max.model), k=2)"
      ]
    },
    {
      "cell_type": "markdown",
      "metadata": {
        "id": "leY5xSeBlT8Z"
      },
      "source": [
        "#### Answer to Question 2.19, 3\n",
        "\n",
        "***Using the step-wise regression procedure, find a model (without interactions) for predicting $y$ from the explanatory variables, based on using the AIC.***"
      ]
    },
    {
      "cell_type": "code",
      "execution_count": null,
      "metadata": {
        "colab": {
          "base_uri": "https://localhost:8080/"
        },
        "id": "8ypGBsK8jJ01",
        "outputId": "c1977a6f-80bc-4c23-975d-3af1e602ad13",
        "vscode": {
          "languageId": "r"
        }
      },
      "outputs": [
        {
          "name": "stdout",
          "output_type": "stream",
          "text": [
            "Start:  AIC=5.24\n",
            "Y ~ X1 + X2 + X3 + X4 + X5\n",
            "\n",
            "       Df Sum of Sq     RSS     AIC\n",
            "+ X10   1    5.8203  3.7379 -6.8431\n",
            "- X2    1    0.0008  9.5590  3.2414\n",
            "- X5    1    0.1887  9.7468  3.5334\n",
            "- X4    1    1.1621 10.7203  4.9613\n",
            "<none>               9.5581  5.2402\n",
            "- X3    1    1.4636 11.0218  5.3773\n",
            "+ X8    1    0.7203  8.8378  6.0649\n",
            "- X1    1    2.0249 11.5830  6.1224\n",
            "+ X6    1    0.4731  9.0851  6.4787\n",
            "+ X9    1    0.2705  9.2876  6.8094\n",
            "+ X7    1    0.0261  9.5321  7.1992\n",
            "\n",
            "Step:  AIC=-6.84\n",
            "Y ~ X1 + X2 + X3 + X4 + X5 + X10\n",
            "\n",
            "       Df Sum of Sq    RSS     AIC\n",
            "- X3    1    0.0540 3.7919 -8.6278\n",
            "- X4    1    0.0581 3.7960 -8.6116\n",
            "- X1    1    0.2431 3.9810 -7.8978\n",
            "- X2    1    0.2550 3.9928 -7.8532\n",
            "- X5    1    0.3355 4.0734 -7.5537\n",
            "<none>              3.7379 -6.8431\n",
            "+ X7    1    0.2535 3.4844 -5.8964\n",
            "+ X9    1    0.0443 3.6936 -5.0219\n",
            "+ X8    1    0.0433 3.6945 -5.0180\n",
            "+ X6    1    0.0000 3.7378 -4.8433\n",
            "- X10   1    5.8203 9.5581  5.2402\n",
            "\n",
            "Step:  AIC=-8.63\n",
            "Y ~ X1 + X2 + X4 + X5 + X10\n",
            "\n",
            "       Df Sum of Sq     RSS      AIC\n",
            "- X4    1    0.0219  3.8138 -10.5414\n",
            "- X1    1    0.2000  3.9919  -9.8569\n",
            "- X2    1    0.2871  4.0790  -9.5332\n",
            "<none>               3.7919  -8.6278\n",
            "- X5    1    0.5503  4.3422  -8.5951\n",
            "+ X7    1    0.1773  3.6146  -7.3462\n",
            "+ X9    1    0.0541  3.7378  -6.8431\n",
            "+ X3    1    0.0540  3.7379  -6.8431\n",
            "+ X8    1    0.0496  3.7423  -6.8252\n",
            "+ X6    1    0.0006  3.7913  -6.6301\n",
            "- X10   1    7.2299 11.0218   5.3773\n",
            "\n",
            "Step:  AIC=-10.54\n",
            "Y ~ X1 + X2 + X5 + X10\n",
            "\n",
            "       Df Sum of Sq     RSS      AIC\n",
            "- X1    1    0.1786  3.9924 -11.8550\n",
            "- X2    1    0.2731  4.0869 -11.5040\n",
            "<none>               3.8138 -10.5414\n",
            "- X5    1    0.7784  4.5922  -9.7554\n",
            "+ X7    1    0.1761  3.6376  -9.2507\n",
            "+ X8    1    0.0497  3.7641  -8.7383\n",
            "+ X9    1    0.0429  3.7709  -8.7112\n",
            "+ X4    1    0.0219  3.7919  -8.6278\n",
            "+ X3    1    0.0178  3.7960  -8.6116\n",
            "+ X6    1    0.0005  3.8133  -8.5434\n",
            "- X10   1    7.6180 11.4317   3.9252\n",
            "\n",
            "Step:  AIC=-11.86\n",
            "Y ~ X2 + X5 + X10\n",
            "\n",
            "       Df Sum of Sq     RSS      AIC\n",
            "- X2    1    0.1957  4.1881 -13.1371\n",
            "<none>               3.9924 -11.8550\n",
            "+ X7    1    0.2395  3.7528 -10.7831\n",
            "+ X1    1    0.1786  3.8138 -10.5414\n",
            "- X5    1    1.1548  5.1472 -10.0441\n",
            "+ X9    1    0.0426  3.9497 -10.0161\n",
            "+ X8    1    0.0223  3.9701  -9.9390\n",
            "+ X3    1    0.0108  3.9815  -9.8958\n",
            "+ X6    1    0.0006  3.9917  -9.8574\n",
            "+ X4    1    0.0005  3.9919  -9.8569\n",
            "- X10   1    8.6312 12.6235   3.4127\n",
            "\n",
            "Step:  AIC=-13.14\n",
            "Y ~ X5 + X10\n",
            "\n",
            "       Df Sum of Sq     RSS      AIC\n",
            "<none>               4.1881 -13.1371\n",
            "- X5    1    0.9716  5.1597 -12.0077\n",
            "+ X7    1    0.2261  3.9620 -11.9694\n",
            "+ X2    1    0.1957  3.9924 -11.8550\n",
            "+ X9    1    0.1401  4.0480 -11.6475\n",
            "+ X1    1    0.1012  4.0869 -11.5040\n",
            "+ X8    1    0.0989  4.0892 -11.4957\n",
            "+ X3    1    0.0321  4.1560 -11.2524\n",
            "+ X4    1    0.0011  4.1870 -11.1409\n",
            "+ X6    1    0.0002  4.1879 -11.1379\n",
            "- X10   1    8.5945 12.7826   1.6005\n"
          ]
        }
      ],
      "source": [
        "auto.both <- step(mid.model, direction=\"both\", scope=list(lower=min.model, upper=max.model), k=2)"
      ]
    },
    {
      "cell_type": "markdown",
      "metadata": {
        "id": "66sRxqoVli5z"
      },
      "source": [
        "#### Answer to Question 2.19, 4\n",
        "\n",
        "***From the results of the above approaches, deduce a model (without interactions) for the data.***\n",
        "\n",
        "In these runs, `Y ~ X5 + X10` seems to perform the best."
      ]
    },
    {
      "cell_type": "markdown",
      "metadata": {
        "id": "Kj5QuAV-m3wf"
      },
      "source": [
        "#### Answer to Question 2.19, 5\n",
        "\n",
        "***Repeat the three procedures, but use the BIC to select a model.***\n",
        "\n",
        "These commands have an argument called `k` which is the size of the penalty.  The default is 2, which is the penalty for AIC.  To get BIC, we need to change it to `k=log(n)`, which is the penalty for BIC.  This will give us the BIC, but it will still be called AIC in the output."
      ]
    },
    {
      "cell_type": "code",
      "execution_count": null,
      "metadata": {
        "colab": {
          "base_uri": "https://localhost:8080/",
          "height": 902
        },
        "id": "xZMSCGyIm-RO",
        "outputId": "9b94dcb3-1c3b-4e64-e5b3-f9ca34eb0fe5",
        "vscode": {
          "languageId": "r"
        }
      },
      "outputs": [
        {
          "name": "stdout",
          "output_type": "stream",
          "text": [
            "Start:  AIC=0.81\n",
            "Y ~ 1\n",
            "\n",
            "       Df Sum of Sq     RSS      AIC\n",
            "+ X10   1    8.0594  5.1597 -10.5916\n",
            "<none>              13.2190   0.8122\n",
            "+ X1    1    1.7339 11.4851   1.4111\n",
            "+ X3    1    0.7589 12.4601   2.6333\n",
            "+ X6    1    0.7444 12.4746   2.6508\n",
            "+ X8    1    0.6632 12.5558   2.7481\n",
            "+ X7    1    0.5118 12.7072   2.9279\n",
            "+ X5    1    0.4365 12.7826   3.0166\n",
            "+ X2    1    0.3195 12.8995   3.1532\n",
            "+ X9    1    0.3060 12.9131   3.1690\n",
            "+ X4    1    0.1909 13.0281   3.3020\n",
            "\n",
            "Step:  AIC=-10.59\n",
            "Y ~ X10\n",
            "\n",
            "       Df Sum of Sq    RSS      AIC\n",
            "+ X5    1   0.97157 4.1881 -11.0129\n",
            "<none>              5.1597 -10.5916\n",
            "+ X1    1   0.45453 4.7051  -9.2668\n",
            "+ X9    1   0.29792 4.8617  -8.7756\n",
            "+ X8    1   0.14097 5.0187  -8.2991\n",
            "+ X3    1   0.11072 5.0489  -8.2089\n",
            "+ X4    1   0.08263 5.0770  -8.1257\n",
            "+ X7    1   0.03018 5.1295  -7.9715\n",
            "+ X2    1   0.01251 5.1472  -7.9199\n",
            "+ X6    1   0.00462 5.1550  -7.8970\n",
            "\n",
            "Step:  AIC=-11.01\n",
            "Y ~ X10 + X5\n",
            "\n",
            "       Df Sum of Sq    RSS      AIC\n",
            "<none>              4.1881 -11.0129\n",
            "+ X7    1  0.226059 3.9620  -9.1372\n",
            "+ X2    1  0.195731 3.9924  -9.0228\n",
            "+ X9    1  0.140106 4.0480  -8.8152\n",
            "+ X1    1  0.101203 4.0869  -8.6718\n",
            "+ X8    1  0.098939 4.0892  -8.6635\n",
            "+ X3    1  0.032078 4.1560  -8.4202\n",
            "+ X4    1  0.001066 4.1870  -8.3087\n",
            "+ X6    1  0.000238 4.1879  -8.3057\n"
          ]
        },
        {
          "data": {
            "text/plain": [
              "\n",
              "Call:\n",
              "lm(formula = Y ~ X10 + X5, data = d)\n",
              "\n",
              "Coefficients:\n",
              "(Intercept)          X10           X5  \n",
              "     8.2808       2.2831       0.9932  \n"
            ]
          },
          "metadata": {},
          "output_type": "display_data"
        }
      ],
      "source": [
        "(auto.forward2 <- step(min.model, direction=\"forward\", scope=list(lower=min.model, upper=max.model), k=log(nrow(d))))"
      ]
    },
    {
      "cell_type": "code",
      "execution_count": null,
      "metadata": {
        "colab": {
          "base_uri": "https://localhost:8080/",
          "height": 1000
        },
        "id": "vx4ri8JG1dCA",
        "outputId": "7e8b4897-4aa3-4b7e-9459-76661fa96411",
        "vscode": {
          "languageId": "r"
        }
      },
      "outputs": [
        {
          "name": "stdout",
          "output_type": "stream",
          "text": [
            "Start:  AIC=-2.17\n",
            "Y ~ X1 + X2 + X3 + X4 + X5 + X6 + X7 + X8 + X9 + X10\n",
            "\n",
            "       Df Sum of Sq    RSS     AIC\n",
            "- X2    1    0.1478 1.9296 -3.6802\n",
            "- X1    1    0.1567 1.9386 -3.6107\n",
            "- X4    1    0.2779 2.0598 -2.7012\n",
            "<none>              1.7819 -2.1673\n",
            "- X5    1    0.4423 2.2241 -1.5498\n",
            "- X9    1    0.4879 2.2698 -1.2450\n",
            "- X3    1    0.9041 2.6859  1.2803\n",
            "- X6    1    1.4688 3.2507  4.1428\n",
            "- X8    1    1.6261 3.4079  4.8514\n",
            "- X7    1    1.8811 3.6630  5.9338\n",
            "- X10   1    6.9578 8.7397 18.9779\n",
            "\n",
            "Step:  AIC=-3.68\n",
            "Y ~ X1 + X3 + X4 + X5 + X6 + X7 + X8 + X9 + X10\n",
            "\n",
            "       Df Sum of Sq    RSS     AIC\n",
            "- X1    1    0.2147 2.1443 -4.8061\n",
            "- X4    1    0.2462 2.1758 -4.5871\n",
            "<none>              1.9296 -3.6802\n",
            "- X9    1    0.4384 2.3681 -3.3172\n",
            "- X5    1    0.5652 2.4948 -2.5351\n",
            "- X3    1    0.7629 2.6926 -1.3907\n",
            "- X6    1    1.3906 3.3202  1.7521\n",
            "- X8    1    1.6071 3.5367  2.6996\n",
            "- X7    1    1.8317 3.7614  3.6235\n",
            "- X10   1    6.8605 8.7901 16.3561\n",
            "\n",
            "Step:  AIC=-4.81\n",
            "Y ~ X3 + X4 + X5 + X6 + X7 + X8 + X9 + X10\n",
            "\n",
            "       Df Sum of Sq     RSS     AIC\n",
            "- X4    1    0.1092  2.2535 -6.7690\n",
            "<none>               2.1443 -4.8061\n",
            "- X9    1    0.4446  2.5889 -4.6877\n",
            "- X3    1    0.6205  2.7648 -3.7020\n",
            "- X5    1    1.3593  3.5036 -0.1496\n",
            "- X6    1    1.3879  3.5322 -0.0277\n",
            "- X8    1    1.5236  3.6679  0.5379\n",
            "- X7    1    1.8393  3.9836  1.7766\n",
            "- X10   1    8.8263 10.9706 16.9720\n",
            "\n",
            "Step:  AIC=-6.77\n",
            "Y ~ X3 + X5 + X6 + X7 + X8 + X9 + X10\n",
            "\n",
            "       Df Sum of Sq     RSS     AIC\n",
            "- X9    1    0.4313  2.6848 -6.8501\n",
            "<none>               2.2535 -6.7690\n",
            "- X3    1    0.5119  2.7654 -6.4066\n",
            "- X6    1    1.2960  3.5495 -2.6625\n",
            "- X8    1    1.4590  3.7125 -1.9887\n",
            "- X7    1    1.7320  3.9855 -0.9246\n",
            "- X5    1    1.7941  4.0476 -0.6924\n",
            "- X10   1    8.8300 11.0835 14.4175\n",
            "\n",
            "Step:  AIC=-6.85\n",
            "Y ~ X3 + X5 + X6 + X7 + X8 + X10\n",
            "\n",
            "       Df Sum of Sq     RSS     AIC\n",
            "- X3    1    0.2359  2.9207 -8.2951\n",
            "<none>               2.6848 -6.8501\n",
            "- X6    1    0.8688  3.5537 -5.3528\n",
            "- X8    1    1.1338  3.8186 -4.2741\n",
            "- X7    1    1.3448  4.0297 -3.4672\n",
            "- X5    1    1.3980  4.0829 -3.2704\n",
            "- X10   1    8.5013 11.1861 11.8476\n",
            "\n",
            "Step:  AIC=-8.3\n",
            "Y ~ X5 + X6 + X7 + X8 + X10\n",
            "\n",
            "       Df Sum of Sq     RSS     AIC\n",
            "<none>               2.9207 -8.2951\n",
            "- X6    1    0.7160  3.6367 -7.7142\n",
            "- X8    1    1.0126  3.9333 -6.5382\n",
            "- X7    1    1.1298  4.0505 -6.0980\n",
            "- X5    1    1.4746  4.3953 -4.8726\n",
            "- X10   1    8.4537 11.3744  9.3900\n"
          ]
        },
        {
          "data": {
            "text/plain": [
              "\n",
              "Call:\n",
              "lm(formula = Y ~ X5 + X6 + X7 + X8 + X10, data = d)\n",
              "\n",
              "Coefficients:\n",
              "(Intercept)           X5           X6           X7           X8          X10  \n",
              "      7.222        1.290        1.315        1.529       -1.350        2.867  \n"
            ]
          },
          "metadata": {},
          "output_type": "display_data"
        }
      ],
      "source": [
        "(auto.backward2 <- step(max.model, direction=\"backward\", scope=list(lower=min.model, upper=max.model), k=log(nrow(d))))"
      ]
    },
    {
      "cell_type": "code",
      "execution_count": null,
      "metadata": {
        "colab": {
          "base_uri": "https://localhost:8080/",
          "height": 1000
        },
        "id": "OgzjQpbx1eoN",
        "outputId": "e6c59cc8-151c-4034-eb78-f076fca88ae6",
        "vscode": {
          "languageId": "r"
        }
      },
      "outputs": [
        {
          "name": "stdout",
          "output_type": "stream",
          "text": [
            "Start:  AIC=9.49\n",
            "Y ~ X1 + X2 + X3 + X4 + X5\n",
            "\n",
            "       Df Sum of Sq     RSS     AIC\n",
            "+ X10   1    5.8203  3.7379 -1.8867\n",
            "- X2    1    0.0008  9.5590  6.7817\n",
            "- X5    1    0.1887  9.7468  7.0736\n",
            "- X4    1    1.1621 10.7203  8.5015\n",
            "- X3    1    1.4636 11.0218  8.9176\n",
            "<none>               9.5581  9.4885\n",
            "- X1    1    2.0249 11.5830  9.6626\n",
            "+ X8    1    0.7203  8.8378 11.0212\n",
            "+ X6    1    0.4731  9.0851 11.4351\n",
            "+ X9    1    0.2705  9.2876 11.7658\n",
            "+ X7    1    0.0261  9.5321 12.1555\n",
            "\n",
            "Step:  AIC=-1.89\n",
            "Y ~ X1 + X2 + X3 + X4 + X5 + X10\n",
            "\n",
            "       Df Sum of Sq    RSS     AIC\n",
            "- X3    1    0.0540 3.7919 -4.3795\n",
            "- X4    1    0.0581 3.7960 -4.3633\n",
            "- X1    1    0.2431 3.9810 -3.6495\n",
            "- X2    1    0.2550 3.9928 -3.6049\n",
            "- X5    1    0.3355 4.0734 -3.3054\n",
            "<none>              3.7379 -1.8867\n",
            "+ X7    1    0.2535 3.4844 -0.2320\n",
            "+ X9    1    0.0443 3.6936  0.6425\n",
            "+ X8    1    0.0433 3.6945  0.6464\n",
            "+ X6    1    0.0000 3.7378  0.8211\n",
            "- X10   1    5.8203 9.5581  9.4885\n",
            "\n",
            "Step:  AIC=-4.38\n",
            "Y ~ X1 + X2 + X4 + X5 + X10\n",
            "\n",
            "       Df Sum of Sq     RSS     AIC\n",
            "- X4    1    0.0219  3.8138 -7.0012\n",
            "- X1    1    0.2000  3.9919 -6.3166\n",
            "- X2    1    0.2871  4.0790 -5.9929\n",
            "- X5    1    0.5503  4.3422 -5.0549\n",
            "<none>               3.7919 -4.3795\n",
            "+ X7    1    0.1773  3.6146 -2.3898\n",
            "+ X9    1    0.0541  3.7378 -1.8868\n",
            "+ X3    1    0.0540  3.7379 -1.8867\n",
            "+ X8    1    0.0496  3.7423 -1.8689\n",
            "+ X6    1    0.0006  3.7913 -1.6738\n",
            "- X10   1    7.2299 11.0218  8.9176\n",
            "\n",
            "Step:  AIC=-7\n",
            "Y ~ X1 + X2 + X5 + X10\n",
            "\n",
            "       Df Sum of Sq     RSS     AIC\n",
            "- X1    1    0.1786  3.9924 -9.0228\n",
            "- X2    1    0.2731  4.0869 -8.6718\n",
            "<none>               3.8138 -7.0012\n",
            "- X5    1    0.7784  4.5922 -6.9232\n",
            "+ X7    1    0.1761  3.6376 -5.0024\n",
            "+ X8    1    0.0497  3.7641 -4.4900\n",
            "+ X9    1    0.0429  3.7709 -4.4629\n",
            "+ X4    1    0.0219  3.7919 -4.3795\n",
            "+ X3    1    0.0178  3.7960 -4.3633\n",
            "+ X6    1    0.0005  3.8133 -4.2951\n",
            "- X10   1    7.6180 11.4317  6.7574\n",
            "\n",
            "Step:  AIC=-9.02\n",
            "Y ~ X2 + X5 + X10\n",
            "\n",
            "       Df Sum of Sq     RSS      AIC\n",
            "- X2    1    0.1957  4.1881 -11.0129\n",
            "<none>               3.9924  -9.0228\n",
            "- X5    1    1.1548  5.1472  -7.9199\n",
            "+ X7    1    0.2395  3.7528  -7.2429\n",
            "+ X1    1    0.1786  3.8138  -7.0012\n",
            "+ X9    1    0.0426  3.9497  -6.4758\n",
            "+ X8    1    0.0223  3.9701  -6.3988\n",
            "+ X3    1    0.0108  3.9815  -6.3555\n",
            "+ X6    1    0.0006  3.9917  -6.3171\n",
            "+ X4    1    0.0005  3.9919  -6.3166\n",
            "- X10   1    8.6312 12.6235   5.5369\n",
            "\n",
            "Step:  AIC=-11.01\n",
            "Y ~ X5 + X10\n",
            "\n",
            "       Df Sum of Sq     RSS      AIC\n",
            "<none>               4.1881 -11.0129\n",
            "- X5    1    0.9716  5.1597 -10.5916\n",
            "+ X7    1    0.2261  3.9620  -9.1372\n",
            "+ X2    1    0.1957  3.9924  -9.0228\n",
            "+ X9    1    0.1401  4.0480  -8.8152\n",
            "+ X1    1    0.1012  4.0869  -8.6718\n",
            "+ X8    1    0.0989  4.0892  -8.6635\n",
            "+ X3    1    0.0321  4.1560  -8.4202\n",
            "+ X4    1    0.0011  4.1870  -8.3087\n",
            "+ X6    1    0.0002  4.1879  -8.3057\n",
            "- X10   1    8.5945 12.7826   3.0166\n"
          ]
        },
        {
          "data": {
            "text/plain": [
              "\n",
              "Call:\n",
              "lm(formula = Y ~ X5 + X10, data = d)\n",
              "\n",
              "Coefficients:\n",
              "(Intercept)           X5          X10  \n",
              "     8.2808       0.9932       2.2831  \n"
            ]
          },
          "metadata": {},
          "output_type": "display_data"
        }
      ],
      "source": [
        "(auto.both2 <- step(mid.model, direction=\"both\", scope=list(lower=min.model, upper=max.model), k=log(nrow(d))))"
      ]
    },
    {
      "cell_type": "markdown",
      "metadata": {
        "id": "famPQZqspX5_"
      },
      "source": [
        "#### Answer to Question 2.19, 6\n",
        "\n",
        "***After reading the `R` help for the `sharpener` data (using `?sharpener`), comment on the use of automatic methods for fitting regression models.***"
      ]
    },
    {
      "cell_type": "code",
      "execution_count": null,
      "metadata": {
        "colab": {
          "base_uri": "https://localhost:8080/"
        },
        "id": "KI-ARcGmpczJ",
        "outputId": "96e5783f-16c9-4f86-dca1-3f3a186dbcd0",
        "vscode": {
          "languageId": "r"
        }
      },
      "outputs": [
        {
          "name": "stderr",
          "output_type": "stream",
          "text": [
            "Warning message in fetch(key):\n",
            "“internal error 1 in R_decompress1 with libdeflate”\n",
            "ERROR while rich displaying an object: Error in fetch(key): lazy-load database '/usr/local/lib/R/site-library/GLMsData/help/GLMsData.rdb' is corrupt\n",
            "\n",
            "Traceback:\n",
            "1. tryCatch(withCallingHandlers({\n",
            " .     if (!mime %in% names(repr::mime2repr)) \n",
            " .         stop(\"No repr_* for mimetype \", mime, \" in repr::mime2repr\")\n",
            " .     rpr <- repr::mime2repr[[mime]](obj)\n",
            " .     if (is.null(rpr)) \n",
            " .         return(NULL)\n",
            " .     prepare_content(is.raw(rpr), rpr)\n",
            " . }, error = error_handler), error = outer_handler)\n",
            "2. tryCatchList(expr, classes, parentenv, handlers)\n",
            "3. tryCatchOne(expr, names, parentenv, handlers[[1L]])\n",
            "4. doTryCatch(return(expr), name, parentenv, handler)\n",
            "5. withCallingHandlers({\n",
            " .     if (!mime %in% names(repr::mime2repr)) \n",
            " .         stop(\"No repr_* for mimetype \", mime, \" in repr::mime2repr\")\n",
            " .     rpr <- repr::mime2repr[[mime]](obj)\n",
            " .     if (is.null(rpr)) \n",
            " .         return(NULL)\n",
            " .     prepare_content(is.raw(rpr), rpr)\n",
            " . }, error = error_handler)\n",
            "6. repr::mime2repr[[mime]](obj)\n",
            "7. repr_text.help_files_with_topic(obj)\n",
            "8. repr_help_files_with_topic_generic(obj, Rd2txt)\n",
            "9. get_help_file(file)\n",
            "10. fetch_rd_db(rd_db, basename(file))\n",
            "11. lazyLoadDBexec(filebase, fun)\n",
            "12. fun(environment())\n",
            "13. fetch(key)\n"
          ]
        }
      ],
      "source": [
        "?sharpener"
      ]
    },
    {
      "cell_type": "markdown",
      "metadata": {
        "id": "I0u-sHokpfKe"
      },
      "source": [
        "While these methods may be okay if the goal is prediction, they offer little to no mechanistic understanding of the system being modeled."
      ]
    }
  ],
  "metadata": {
    "colab": {
      "provenance": []
    },
    "kernelspec": {
      "display_name": "R",
      "name": "ir"
    },
    "language_info": {
      "name": "R"
    }
  },
  "nbformat": 4,
  "nbformat_minor": 0
}
