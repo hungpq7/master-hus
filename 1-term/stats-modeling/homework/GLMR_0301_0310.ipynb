{
  "cells": [
    {
      "cell_type": "markdown",
      "metadata": {
        "id": "0Rl6PZF745OO"
      },
      "source": [
        "# Chapter 3"
      ]
    },
    {
      "cell_type": "markdown",
      "metadata": {
        "id": "LAwD-RMf4-Ng"
      },
      "source": [
        "## Question 3.1\n",
        "\n",
        "The standardized residual $r_i'$ measures the reduction in the RSS (divided by $s^2$) when observation $i$ is omitted from the data. Demonstrate this in R using the `lungcap` data as follows.\n",
        "* Fit the model `LC.lm` (Example 3.1, p. 97). Compute the RSS, $s^2$ and the standardized residuals from this model.\n",
        "* Omit Observation 1 from `lungcap`, and refit the model without Observation 1. Call this model `LC.omit1`.\n",
        "* Compute the difference between the RSS for the full model `LC.lm` and for model `LC.omit1`. Show that this difference divided by $s^2$ is the standardized residuals squared for Observation 1.\n",
        "\n",
        "Repeat the above process for every observation $i$, and show that the $n$ differences divided by $s^2$ are the standardized residuals squared."
      ]
    },
    {
      "cell_type": "markdown",
      "metadata": {
        "id": "RpKq9F5FXXjG"
      },
      "source": [
        "### Answers to 3.1"
      ]
    },
    {
      "cell_type": "code",
      "execution_count": null,
      "metadata": {
        "colab": {
          "base_uri": "https://localhost:8080/"
        },
        "id": "iS4wLscSjClS",
        "outputId": "1b0ec2a0-749a-400a-8293-cd3b88e652f9",
        "vscode": {
          "languageId": "r"
        }
      },
      "outputs": [
        {
          "name": "stderr",
          "output_type": "stream",
          "text": [
            "Installing package into ‘/usr/local/lib/R/site-library’\n",
            "(as ‘lib’ is unspecified)\n",
            "\n"
          ]
        }
      ],
      "source": [
        "install.packages(\"GLMsData\")\n",
        "library(\"GLMsData\")"
      ]
    },
    {
      "cell_type": "code",
      "execution_count": null,
      "metadata": {
        "colab": {
          "base_uri": "https://localhost:8080/",
          "height": 286
        },
        "id": "D6IZi-RRjGRg",
        "outputId": "f10bb49a-c055-4bf6-e093-c442adaf56f0",
        "vscode": {
          "languageId": "r"
        }
      },
      "outputs": [
        {
          "data": {
            "text/html": [
              "<table class=\"dataframe\">\n",
              "<caption>A data.frame: 6 × 5</caption>\n",
              "<thead>\n",
              "\t<tr><th></th><th scope=col>Age</th><th scope=col>FEV</th><th scope=col>Ht</th><th scope=col>Gender</th><th scope=col>Smoke</th></tr>\n",
              "\t<tr><th></th><th scope=col>&lt;int&gt;</th><th scope=col>&lt;dbl&gt;</th><th scope=col>&lt;dbl&gt;</th><th scope=col>&lt;fct&gt;</th><th scope=col>&lt;fct&gt;</th></tr>\n",
              "</thead>\n",
              "<tbody>\n",
              "\t<tr><th scope=row>1</th><td>3</td><td>1.072</td><td>46</td><td>F</td><td>Non-smoker</td></tr>\n",
              "\t<tr><th scope=row>2</th><td>4</td><td>0.839</td><td>48</td><td>F</td><td>Non-smoker</td></tr>\n",
              "\t<tr><th scope=row>3</th><td>4</td><td>1.102</td><td>48</td><td>F</td><td>Non-smoker</td></tr>\n",
              "\t<tr><th scope=row>4</th><td>4</td><td>1.389</td><td>48</td><td>F</td><td>Non-smoker</td></tr>\n",
              "\t<tr><th scope=row>5</th><td>4</td><td>1.577</td><td>49</td><td>F</td><td>Non-smoker</td></tr>\n",
              "\t<tr><th scope=row>6</th><td>4</td><td>1.418</td><td>49</td><td>F</td><td>Non-smoker</td></tr>\n",
              "</tbody>\n",
              "</table>\n"
            ],
            "text/latex": [
              "A data.frame: 6 × 5\n",
              "\\begin{tabular}{r|lllll}\n",
              "  & Age & FEV & Ht & Gender & Smoke\\\\\n",
              "  & <int> & <dbl> & <dbl> & <fct> & <fct>\\\\\n",
              "\\hline\n",
              "\t1 & 3 & 1.072 & 46 & F & Non-smoker\\\\\n",
              "\t2 & 4 & 0.839 & 48 & F & Non-smoker\\\\\n",
              "\t3 & 4 & 1.102 & 48 & F & Non-smoker\\\\\n",
              "\t4 & 4 & 1.389 & 48 & F & Non-smoker\\\\\n",
              "\t5 & 4 & 1.577 & 49 & F & Non-smoker\\\\\n",
              "\t6 & 4 & 1.418 & 49 & F & Non-smoker\\\\\n",
              "\\end{tabular}\n"
            ],
            "text/markdown": [
              "\n",
              "A data.frame: 6 × 5\n",
              "\n",
              "| <!--/--> | Age &lt;int&gt; | FEV &lt;dbl&gt; | Ht &lt;dbl&gt; | Gender &lt;fct&gt; | Smoke &lt;fct&gt; |\n",
              "|---|---|---|---|---|---|\n",
              "| 1 | 3 | 1.072 | 46 | F | Non-smoker |\n",
              "| 2 | 4 | 0.839 | 48 | F | Non-smoker |\n",
              "| 3 | 4 | 1.102 | 48 | F | Non-smoker |\n",
              "| 4 | 4 | 1.389 | 48 | F | Non-smoker |\n",
              "| 5 | 4 | 1.577 | 49 | F | Non-smoker |\n",
              "| 6 | 4 | 1.418 | 49 | F | Non-smoker |\n",
              "\n"
            ],
            "text/plain": [
              "  Age FEV   Ht Gender Smoke     \n",
              "1 3   1.072 46 F      Non-smoker\n",
              "2 4   0.839 48 F      Non-smoker\n",
              "3 4   1.102 48 F      Non-smoker\n",
              "4 4   1.389 48 F      Non-smoker\n",
              "5 4   1.577 49 F      Non-smoker\n",
              "6 4   1.418 49 F      Non-smoker"
            ]
          },
          "metadata": {},
          "output_type": "display_data"
        }
      ],
      "source": [
        "data(\"lungcap\")\n",
        "d <- lungcap\n",
        "d$Smoke <- factor(lungcap$Smoke,\n",
        "                  levels=c(0,1),\n",
        "                  labels=c(\"Non-smoker\", \"Smoker\"))\n",
        "head(d)"
      ]
    },
    {
      "cell_type": "code",
      "execution_count": null,
      "metadata": {
        "colab": {
          "base_uri": "https://localhost:8080/",
          "height": 121
        },
        "id": "YaVDe69GjH0E",
        "outputId": "a5caa8f6-8acc-4a5b-9532-bed6fca1b83c",
        "vscode": {
          "languageId": "r"
        }
      },
      "outputs": [
        {
          "data": {
            "text/html": [
              "118.379025950035"
            ],
            "text/latex": [
              "118.379025950035"
            ],
            "text/markdown": [
              "118.379025950035"
            ],
            "text/plain": [
              "[1] 118.379"
            ]
          },
          "metadata": {},
          "output_type": "display_data"
        },
        {
          "data": {
            "text/html": [
              "0.182121578384668"
            ],
            "text/latex": [
              "0.182121578384668"
            ],
            "text/markdown": [
              "0.182121578384668"
            ],
            "text/plain": [
              "[1] 0.1821216"
            ]
          },
          "metadata": {},
          "output_type": "display_data"
        },
        {
          "data": {
            "text/html": [
              "0.181284878943391"
            ],
            "text/latex": [
              "0.181284878943391"
            ],
            "text/markdown": [
              "0.181284878943391"
            ],
            "text/plain": [
              "[1] 0.1812849"
            ]
          },
          "metadata": {},
          "output_type": "display_data"
        },
        {
          "data": {
            "text/html": [
              "654.778291244173"
            ],
            "text/latex": [
              "654.778291244173"
            ],
            "text/markdown": [
              "654.778291244173"
            ],
            "text/plain": [
              "[1] 654.7783"
            ]
          },
          "metadata": {},
          "output_type": "display_data"
        },
        {
          "data": {
            "text/html": [
              "1.00735121729873"
            ],
            "text/latex": [
              "1.00735121729873"
            ],
            "text/markdown": [
              "1.00735121729873"
            ],
            "text/plain": [
              "[1] 1.007351"
            ]
          },
          "metadata": {},
          "output_type": "display_data"
        },
        {
          "data": {
            "text/html": [
              "1.0027232182753"
            ],
            "text/latex": [
              "1.0027232182753"
            ],
            "text/markdown": [
              "1.0027232182753"
            ],
            "text/plain": [
              "[1] 1.002723"
            ]
          },
          "metadata": {},
          "output_type": "display_data"
        }
      ],
      "source": [
        "# Fit the model LC.lm (Example 3.1, p. 97). Compute the RSS,\n",
        "# s2  and the standardized residuals from this model.\n",
        "\n",
        "LC.lm <- lm(FEV ~ Ht + Gender + Smoke, data=d)\n",
        "\n",
        "resid_LC.lm <- resid(LC.lm)\n",
        "(RSS_LC.lm <- sum(resid_LC.lm^2))\n",
        "(var1_LC.lm <- RSS_LC.lm / (nrow(d) - length(coefficients(LC.lm))))\n",
        "(var2_LC.lm <- var(resid_LC.lm))\n",
        "\n",
        "std.resid_LC.lm  <- rstandard(LC.lm)\n",
        "(std.RSS_LC.lm <- sum(std.resid_LC.lm^2))\n",
        "(std.var1_LC.lm <- std.RSS_LC.lm / (nrow(d) - length(coefficients(LC.lm))))\n",
        "(std.var2_LC.lm <- var(std.resid_LC.lm))"
      ]
    },
    {
      "cell_type": "code",
      "execution_count": null,
      "metadata": {
        "id": "r8dUubtWmPhF",
        "vscode": {
          "languageId": "r"
        }
      },
      "outputs": [],
      "source": [
        "# Omit Observation 1 from lungcap, and refit the model without Observation 1.\n",
        "# Call this model LC.omit1.\n",
        "d2 <- d[-1,]\n",
        "\n",
        "LC.omit1 <- lm(FEV ~ Ht + Gender + Smoke, data=d2)"
      ]
    },
    {
      "cell_type": "code",
      "execution_count": null,
      "metadata": {
        "colab": {
          "base_uri": "https://localhost:8080/",
          "height": 69
        },
        "id": "F6q0C_lGmgOU",
        "outputId": "a77c67e5-269f-48ab-921d-933caec00bb6",
        "vscode": {
          "languageId": "r"
        }
      },
      "outputs": [
        {
          "data": {
            "text/html": [
              "0.222124717544901"
            ],
            "text/latex": [
              "0.222124717544901"
            ],
            "text/markdown": [
              "0.222124717544901"
            ],
            "text/plain": [
              "[1] 0.2221247"
            ]
          },
          "metadata": {},
          "output_type": "display_data"
        },
        {
          "data": {
            "text/html": [
              "1.21965073834216"
            ],
            "text/latex": [
              "1.21965073834216"
            ],
            "text/markdown": [
              "1.21965073834216"
            ],
            "text/plain": [
              "[1] 1.219651"
            ]
          },
          "metadata": {},
          "output_type": "display_data"
        },
        {
          "data": {
            "text/html": [
              "<strong>1:</strong> 1.21965073834203"
            ],
            "text/latex": [
              "\\textbf{1:} 1.21965073834203"
            ],
            "text/markdown": [
              "**1:** 1.21965073834203"
            ],
            "text/plain": [
              "       1 \n",
              "1.219651 "
            ]
          },
          "metadata": {},
          "output_type": "display_data"
        }
      ],
      "source": [
        "# Compute the difference between the RSS for the full model LC.lm and for model LC.omit1.\n",
        "resid_LC.omit1 <- resid(LC.omit1)\n",
        "RSS_LC.omit1 <- sum(resid_LC.omit1^2)\n",
        "var1_LC.omit1 <- RSS_LC.omit1 / (nrow(d) - length(coefficients(LC.lm)))\n",
        "var2_LC.omit1 <- var(resid_LC.omit1)\n",
        "\n",
        "std.resid_LC.omit1  <- rstandard(LC.omit1)\n",
        "std.RSS_LC.omit1 <- sum(std.resid_LC.omit1^2)\n",
        "std.var1_LC.omit1 <- std.RSS_LC.omit1 / (nrow(d) - length(coefficients(LC.lm)))\n",
        "std.var2_LC.omit1 <- var(std.resid_LC.omit1)\n",
        "\n",
        "(diff_RSS <- RSS_LC.lm - RSS_LC.omit1)\n",
        "\n",
        "# Show that this difference divided by  s2  is the standardized residuals squared for Observation 1.\n",
        "(diff_RSS_div_s2 <- diff_RSS / var1_LC.lm)\n",
        "(std_resid_sq_obs1 <- std.resid_LC.lm[1]^2)"
      ]
    },
    {
      "cell_type": "markdown",
      "metadata": {
        "id": "D2KCHJsWAP4H"
      },
      "source": [
        "If it's not clear why this relationship should exist, consider that\n",
        "\n",
        "$$r_i'^2 \\approx \\frac{\\text{RSS}_{\\text{full}} - \\text{RSS}_{\\text{omit i}}}{s^2}$$"
      ]
    },
    {
      "cell_type": "code",
      "execution_count": null,
      "metadata": {
        "colab": {
          "base_uri": "https://localhost:8080/",
          "height": 1000
        },
        "id": "fk77xduUA_D3",
        "outputId": "0816465b-9992-4445-eebe-5d2fdd68eb9e",
        "vscode": {
          "languageId": "r"
        }
      },
      "outputs": [
        {
          "data": {
            "text/html": [
              "<table class=\"dataframe\">\n",
              "<caption>A data.frame: 654 × 2</caption>\n",
              "<thead>\n",
              "\t<tr><th></th><th scope=col>RSS_Diff_Div_s2</th><th scope=col>Standardized_Residuals_Squared</th></tr>\n",
              "\t<tr><th></th><th scope=col>&lt;dbl&gt;</th><th scope=col>&lt;dbl&gt;</th></tr>\n",
              "</thead>\n",
              "<tbody>\n",
              "\t<tr><th scope=row>1</th><td>1.219650738</td><td>1.219650738</td></tr>\n",
              "\t<tr><th scope=row>2</th><td>0.003244245</td><td>0.003244245</td></tr>\n",
              "\t<tr><th scope=row>3</th><td>0.316473132</td><td>0.316473132</td></tr>\n",
              "\t<tr><th scope=row>4</th><td>1.534157462</td><td>1.534157462</td></tr>\n",
              "\t<tr><th scope=row>5</th><td>1.891029009</td><td>1.891029009</td></tr>\n",
              "\t<tr><th scope=row>6</th><td>1.001661528</td><td>1.001661528</td></tr>\n",
              "\t<tr><th scope=row>7</th><td>1.103400211</td><td>1.103400211</td></tr>\n",
              "\t<tr><th scope=row>8</th><td>1.546200917</td><td>1.546200917</td></tr>\n",
              "\t<tr><th scope=row>9</th><td>0.918635926</td><td>0.918635926</td></tr>\n",
              "\t<tr><th scope=row>10</th><td>0.463298504</td><td>0.463298504</td></tr>\n",
              "\t<tr><th scope=row>11</th><td>0.269014629</td><td>0.269014629</td></tr>\n",
              "\t<tr><th scope=row>12</th><td>0.003040289</td><td>0.003040289</td></tr>\n",
              "\t<tr><th scope=row>13</th><td>0.005172408</td><td>0.005172408</td></tr>\n",
              "\t<tr><th scope=row>14</th><td>0.960087714</td><td>0.960087714</td></tr>\n",
              "\t<tr><th scope=row>15</th><td>1.128702039</td><td>1.128702039</td></tr>\n",
              "\t<tr><th scope=row>16</th><td>0.627180330</td><td>0.627180330</td></tr>\n",
              "\t<tr><th scope=row>17</th><td>0.292459884</td><td>0.292459884</td></tr>\n",
              "\t<tr><th scope=row>18</th><td>0.131142101</td><td>0.131142101</td></tr>\n",
              "\t<tr><th scope=row>19</th><td>1.929887645</td><td>1.929887645</td></tr>\n",
              "\t<tr><th scope=row>20</th><td>0.201098027</td><td>0.201098027</td></tr>\n",
              "\t<tr><th scope=row>21</th><td>0.044044440</td><td>0.044044440</td></tr>\n",
              "\t<tr><th scope=row>22</th><td>0.289393472</td><td>0.289393472</td></tr>\n",
              "\t<tr><th scope=row>23</th><td>0.405423230</td><td>0.405423230</td></tr>\n",
              "\t<tr><th scope=row>24</th><td>0.002413702</td><td>0.002413702</td></tr>\n",
              "\t<tr><th scope=row>25</th><td>0.008384557</td><td>0.008384557</td></tr>\n",
              "\t<tr><th scope=row>26</th><td>0.045082885</td><td>0.045082885</td></tr>\n",
              "\t<tr><th scope=row>27</th><td>0.741153661</td><td>0.741153661</td></tr>\n",
              "\t<tr><th scope=row>28</th><td>0.237429056</td><td>0.237429056</td></tr>\n",
              "\t<tr><th scope=row>29</th><td>0.185648142</td><td>0.185648142</td></tr>\n",
              "\t<tr><th scope=row>30</th><td>0.005188496</td><td>0.005188496</td></tr>\n",
              "\t<tr><th scope=row>⋮</th><td>⋮</td><td>⋮</td></tr>\n",
              "\t<tr><th scope=row>625</th><td>0.02029474</td><td>0.02029474</td></tr>\n",
              "\t<tr><th scope=row>626</th><td>0.01271031</td><td>0.01271031</td></tr>\n",
              "\t<tr><th scope=row>627</th><td>0.17698044</td><td>0.17698044</td></tr>\n",
              "\t<tr><th scope=row>628</th><td>0.46049357</td><td>0.46049357</td></tr>\n",
              "\t<tr><th scope=row>629</th><td>0.76406302</td><td>0.76406302</td></tr>\n",
              "\t<tr><th scope=row>630</th><td>0.08159010</td><td>0.08159010</td></tr>\n",
              "\t<tr><th scope=row>631</th><td>4.41247033</td><td>4.41247033</td></tr>\n",
              "\t<tr><th scope=row>632</th><td>0.66402807</td><td>0.66402807</td></tr>\n",
              "\t<tr><th scope=row>633</th><td>1.39574178</td><td>1.39574178</td></tr>\n",
              "\t<tr><th scope=row>634</th><td>7.01479389</td><td>7.01479389</td></tr>\n",
              "\t<tr><th scope=row>635</th><td>0.42522099</td><td>0.42522099</td></tr>\n",
              "\t<tr><th scope=row>636</th><td>0.83636259</td><td>0.83636259</td></tr>\n",
              "\t<tr><th scope=row>637</th><td>7.22811185</td><td>7.22811185</td></tr>\n",
              "\t<tr><th scope=row>638</th><td>6.05203020</td><td>6.05203020</td></tr>\n",
              "\t<tr><th scope=row>639</th><td>0.49140670</td><td>0.49140670</td></tr>\n",
              "\t<tr><th scope=row>640</th><td>6.56127771</td><td>6.56127771</td></tr>\n",
              "\t<tr><th scope=row>641</th><td>7.31737207</td><td>7.31737207</td></tr>\n",
              "\t<tr><th scope=row>642</th><td>1.75614163</td><td>1.75614163</td></tr>\n",
              "\t<tr><th scope=row>643</th><td>0.18250826</td><td>0.18250826</td></tr>\n",
              "\t<tr><th scope=row>644</th><td>0.78483068</td><td>0.78483068</td></tr>\n",
              "\t<tr><th scope=row>645</th><td>0.06541336</td><td>0.06541336</td></tr>\n",
              "\t<tr><th scope=row>646</th><td>1.38779986</td><td>1.38779986</td></tr>\n",
              "\t<tr><th scope=row>647</th><td>3.40810586</td><td>3.40810586</td></tr>\n",
              "\t<tr><th scope=row>648</th><td>0.02675084</td><td>0.02675084</td></tr>\n",
              "\t<tr><th scope=row>649</th><td>0.36823828</td><td>0.36823828</td></tr>\n",
              "\t<tr><th scope=row>650</th><td>3.01834000</td><td>3.01834000</td></tr>\n",
              "\t<tr><th scope=row>651</th><td>0.92642392</td><td>0.92642392</td></tr>\n",
              "\t<tr><th scope=row>652</th><td>0.65581098</td><td>0.65581098</td></tr>\n",
              "\t<tr><th scope=row>653</th><td>1.99120684</td><td>1.99120684</td></tr>\n",
              "\t<tr><th scope=row>654</th><td>1.18826051</td><td>1.18826051</td></tr>\n",
              "</tbody>\n",
              "</table>\n"
            ],
            "text/latex": [
              "A data.frame: 654 × 2\n",
              "\\begin{tabular}{r|ll}\n",
              "  & RSS\\_Diff\\_Div\\_s2 & Standardized\\_Residuals\\_Squared\\\\\n",
              "  & <dbl> & <dbl>\\\\\n",
              "\\hline\n",
              "\t1 & 1.219650738 & 1.219650738\\\\\n",
              "\t2 & 0.003244245 & 0.003244245\\\\\n",
              "\t3 & 0.316473132 & 0.316473132\\\\\n",
              "\t4 & 1.534157462 & 1.534157462\\\\\n",
              "\t5 & 1.891029009 & 1.891029009\\\\\n",
              "\t6 & 1.001661528 & 1.001661528\\\\\n",
              "\t7 & 1.103400211 & 1.103400211\\\\\n",
              "\t8 & 1.546200917 & 1.546200917\\\\\n",
              "\t9 & 0.918635926 & 0.918635926\\\\\n",
              "\t10 & 0.463298504 & 0.463298504\\\\\n",
              "\t11 & 0.269014629 & 0.269014629\\\\\n",
              "\t12 & 0.003040289 & 0.003040289\\\\\n",
              "\t13 & 0.005172408 & 0.005172408\\\\\n",
              "\t14 & 0.960087714 & 0.960087714\\\\\n",
              "\t15 & 1.128702039 & 1.128702039\\\\\n",
              "\t16 & 0.627180330 & 0.627180330\\\\\n",
              "\t17 & 0.292459884 & 0.292459884\\\\\n",
              "\t18 & 0.131142101 & 0.131142101\\\\\n",
              "\t19 & 1.929887645 & 1.929887645\\\\\n",
              "\t20 & 0.201098027 & 0.201098027\\\\\n",
              "\t21 & 0.044044440 & 0.044044440\\\\\n",
              "\t22 & 0.289393472 & 0.289393472\\\\\n",
              "\t23 & 0.405423230 & 0.405423230\\\\\n",
              "\t24 & 0.002413702 & 0.002413702\\\\\n",
              "\t25 & 0.008384557 & 0.008384557\\\\\n",
              "\t26 & 0.045082885 & 0.045082885\\\\\n",
              "\t27 & 0.741153661 & 0.741153661\\\\\n",
              "\t28 & 0.237429056 & 0.237429056\\\\\n",
              "\t29 & 0.185648142 & 0.185648142\\\\\n",
              "\t30 & 0.005188496 & 0.005188496\\\\\n",
              "\t⋮ & ⋮ & ⋮\\\\\n",
              "\t625 & 0.02029474 & 0.02029474\\\\\n",
              "\t626 & 0.01271031 & 0.01271031\\\\\n",
              "\t627 & 0.17698044 & 0.17698044\\\\\n",
              "\t628 & 0.46049357 & 0.46049357\\\\\n",
              "\t629 & 0.76406302 & 0.76406302\\\\\n",
              "\t630 & 0.08159010 & 0.08159010\\\\\n",
              "\t631 & 4.41247033 & 4.41247033\\\\\n",
              "\t632 & 0.66402807 & 0.66402807\\\\\n",
              "\t633 & 1.39574178 & 1.39574178\\\\\n",
              "\t634 & 7.01479389 & 7.01479389\\\\\n",
              "\t635 & 0.42522099 & 0.42522099\\\\\n",
              "\t636 & 0.83636259 & 0.83636259\\\\\n",
              "\t637 & 7.22811185 & 7.22811185\\\\\n",
              "\t638 & 6.05203020 & 6.05203020\\\\\n",
              "\t639 & 0.49140670 & 0.49140670\\\\\n",
              "\t640 & 6.56127771 & 6.56127771\\\\\n",
              "\t641 & 7.31737207 & 7.31737207\\\\\n",
              "\t642 & 1.75614163 & 1.75614163\\\\\n",
              "\t643 & 0.18250826 & 0.18250826\\\\\n",
              "\t644 & 0.78483068 & 0.78483068\\\\\n",
              "\t645 & 0.06541336 & 0.06541336\\\\\n",
              "\t646 & 1.38779986 & 1.38779986\\\\\n",
              "\t647 & 3.40810586 & 3.40810586\\\\\n",
              "\t648 & 0.02675084 & 0.02675084\\\\\n",
              "\t649 & 0.36823828 & 0.36823828\\\\\n",
              "\t650 & 3.01834000 & 3.01834000\\\\\n",
              "\t651 & 0.92642392 & 0.92642392\\\\\n",
              "\t652 & 0.65581098 & 0.65581098\\\\\n",
              "\t653 & 1.99120684 & 1.99120684\\\\\n",
              "\t654 & 1.18826051 & 1.18826051\\\\\n",
              "\\end{tabular}\n"
            ],
            "text/markdown": [
              "\n",
              "A data.frame: 654 × 2\n",
              "\n",
              "| <!--/--> | RSS_Diff_Div_s2 &lt;dbl&gt; | Standardized_Residuals_Squared &lt;dbl&gt; |\n",
              "|---|---|---|\n",
              "| 1 | 1.219650738 | 1.219650738 |\n",
              "| 2 | 0.003244245 | 0.003244245 |\n",
              "| 3 | 0.316473132 | 0.316473132 |\n",
              "| 4 | 1.534157462 | 1.534157462 |\n",
              "| 5 | 1.891029009 | 1.891029009 |\n",
              "| 6 | 1.001661528 | 1.001661528 |\n",
              "| 7 | 1.103400211 | 1.103400211 |\n",
              "| 8 | 1.546200917 | 1.546200917 |\n",
              "| 9 | 0.918635926 | 0.918635926 |\n",
              "| 10 | 0.463298504 | 0.463298504 |\n",
              "| 11 | 0.269014629 | 0.269014629 |\n",
              "| 12 | 0.003040289 | 0.003040289 |\n",
              "| 13 | 0.005172408 | 0.005172408 |\n",
              "| 14 | 0.960087714 | 0.960087714 |\n",
              "| 15 | 1.128702039 | 1.128702039 |\n",
              "| 16 | 0.627180330 | 0.627180330 |\n",
              "| 17 | 0.292459884 | 0.292459884 |\n",
              "| 18 | 0.131142101 | 0.131142101 |\n",
              "| 19 | 1.929887645 | 1.929887645 |\n",
              "| 20 | 0.201098027 | 0.201098027 |\n",
              "| 21 | 0.044044440 | 0.044044440 |\n",
              "| 22 | 0.289393472 | 0.289393472 |\n",
              "| 23 | 0.405423230 | 0.405423230 |\n",
              "| 24 | 0.002413702 | 0.002413702 |\n",
              "| 25 | 0.008384557 | 0.008384557 |\n",
              "| 26 | 0.045082885 | 0.045082885 |\n",
              "| 27 | 0.741153661 | 0.741153661 |\n",
              "| 28 | 0.237429056 | 0.237429056 |\n",
              "| 29 | 0.185648142 | 0.185648142 |\n",
              "| 30 | 0.005188496 | 0.005188496 |\n",
              "| ⋮ | ⋮ | ⋮ |\n",
              "| 625 | 0.02029474 | 0.02029474 |\n",
              "| 626 | 0.01271031 | 0.01271031 |\n",
              "| 627 | 0.17698044 | 0.17698044 |\n",
              "| 628 | 0.46049357 | 0.46049357 |\n",
              "| 629 | 0.76406302 | 0.76406302 |\n",
              "| 630 | 0.08159010 | 0.08159010 |\n",
              "| 631 | 4.41247033 | 4.41247033 |\n",
              "| 632 | 0.66402807 | 0.66402807 |\n",
              "| 633 | 1.39574178 | 1.39574178 |\n",
              "| 634 | 7.01479389 | 7.01479389 |\n",
              "| 635 | 0.42522099 | 0.42522099 |\n",
              "| 636 | 0.83636259 | 0.83636259 |\n",
              "| 637 | 7.22811185 | 7.22811185 |\n",
              "| 638 | 6.05203020 | 6.05203020 |\n",
              "| 639 | 0.49140670 | 0.49140670 |\n",
              "| 640 | 6.56127771 | 6.56127771 |\n",
              "| 641 | 7.31737207 | 7.31737207 |\n",
              "| 642 | 1.75614163 | 1.75614163 |\n",
              "| 643 | 0.18250826 | 0.18250826 |\n",
              "| 644 | 0.78483068 | 0.78483068 |\n",
              "| 645 | 0.06541336 | 0.06541336 |\n",
              "| 646 | 1.38779986 | 1.38779986 |\n",
              "| 647 | 3.40810586 | 3.40810586 |\n",
              "| 648 | 0.02675084 | 0.02675084 |\n",
              "| 649 | 0.36823828 | 0.36823828 |\n",
              "| 650 | 3.01834000 | 3.01834000 |\n",
              "| 651 | 0.92642392 | 0.92642392 |\n",
              "| 652 | 0.65581098 | 0.65581098 |\n",
              "| 653 | 1.99120684 | 1.99120684 |\n",
              "| 654 | 1.18826051 | 1.18826051 |\n",
              "\n"
            ],
            "text/plain": [
              "    RSS_Diff_Div_s2 Standardized_Residuals_Squared\n",
              "1   1.219650738     1.219650738                   \n",
              "2   0.003244245     0.003244245                   \n",
              "3   0.316473132     0.316473132                   \n",
              "4   1.534157462     1.534157462                   \n",
              "5   1.891029009     1.891029009                   \n",
              "6   1.001661528     1.001661528                   \n",
              "7   1.103400211     1.103400211                   \n",
              "8   1.546200917     1.546200917                   \n",
              "9   0.918635926     0.918635926                   \n",
              "10  0.463298504     0.463298504                   \n",
              "11  0.269014629     0.269014629                   \n",
              "12  0.003040289     0.003040289                   \n",
              "13  0.005172408     0.005172408                   \n",
              "14  0.960087714     0.960087714                   \n",
              "15  1.128702039     1.128702039                   \n",
              "16  0.627180330     0.627180330                   \n",
              "17  0.292459884     0.292459884                   \n",
              "18  0.131142101     0.131142101                   \n",
              "19  1.929887645     1.929887645                   \n",
              "20  0.201098027     0.201098027                   \n",
              "21  0.044044440     0.044044440                   \n",
              "22  0.289393472     0.289393472                   \n",
              "23  0.405423230     0.405423230                   \n",
              "24  0.002413702     0.002413702                   \n",
              "25  0.008384557     0.008384557                   \n",
              "26  0.045082885     0.045082885                   \n",
              "27  0.741153661     0.741153661                   \n",
              "28  0.237429056     0.237429056                   \n",
              "29  0.185648142     0.185648142                   \n",
              "30  0.005188496     0.005188496                   \n",
              "⋮   ⋮               ⋮                             \n",
              "625 0.02029474      0.02029474                    \n",
              "626 0.01271031      0.01271031                    \n",
              "627 0.17698044      0.17698044                    \n",
              "628 0.46049357      0.46049357                    \n",
              "629 0.76406302      0.76406302                    \n",
              "630 0.08159010      0.08159010                    \n",
              "631 4.41247033      4.41247033                    \n",
              "632 0.66402807      0.66402807                    \n",
              "633 1.39574178      1.39574178                    \n",
              "634 7.01479389      7.01479389                    \n",
              "635 0.42522099      0.42522099                    \n",
              "636 0.83636259      0.83636259                    \n",
              "637 7.22811185      7.22811185                    \n",
              "638 6.05203020      6.05203020                    \n",
              "639 0.49140670      0.49140670                    \n",
              "640 6.56127771      6.56127771                    \n",
              "641 7.31737207      7.31737207                    \n",
              "642 1.75614163      1.75614163                    \n",
              "643 0.18250826      0.18250826                    \n",
              "644 0.78483068      0.78483068                    \n",
              "645 0.06541336      0.06541336                    \n",
              "646 1.38779986      1.38779986                    \n",
              "647 3.40810586      3.40810586                    \n",
              "648 0.02675084      0.02675084                    \n",
              "649 0.36823828      0.36823828                    \n",
              "650 3.01834000      3.01834000                    \n",
              "651 0.92642392      0.92642392                    \n",
              "652 0.65581098      0.65581098                    \n",
              "653 1.99120684      1.99120684                    \n",
              "654 1.18826051      1.18826051                    "
            ]
          },
          "metadata": {},
          "output_type": "display_data"
        }
      ],
      "source": [
        "# Repeat the above process for every observation  i ,\n",
        "# and show that the  n  differences divided by  s2  are the standardized residuals squared.\n",
        "\n",
        "LC.lm <- lm(FEV ~ Ht + Gender + Smoke, data = d)\n",
        "\n",
        "resid_LC.lm <- resid(LC.lm)\n",
        "RSS_LC.lm <- sum(resid_LC.lm^2)\n",
        "s2 <- RSS_LC.lm / (nrow(d) - length(coefficients(LC.lm)))\n",
        "\n",
        "std.resid_LC.lm <- rstandard(LC.lm)\n",
        "\n",
        "rss_diff <- numeric(nrow(d))\n",
        "for (i in 1:nrow(d)) {\n",
        "  # Omit the ith observation and refit the model\n",
        "  d_omit <- d[-i, ]\n",
        "  LC.omit <- lm(FEV ~ Ht + Gender + Smoke, data = d_omit)\n",
        "\n",
        "  # Calculate RSS for the model without the ith observation\n",
        "  resid_LC.omit <- resid(LC.omit)\n",
        "  RSS_LC.omit <- sum(resid_LC.omit^2)\n",
        "\n",
        "  # Calculate the difference in RSS\n",
        "  rss_diff[i] <- RSS_LC.lm - RSS_LC.omit\n",
        "}\n",
        "\n",
        "rss_diff_div_s2 <- rss_diff / s2\n",
        "\n",
        "comparison <- data.frame(\n",
        "  RSS_Diff_Div_s2 = rss_diff_div_s2,\n",
        "  Standardized_Residuals_Squared = std.resid_LC.lm^2\n",
        ")\n",
        "\n",
        "comparison"
      ]
    },
    {
      "cell_type": "markdown",
      "metadata": {
        "id": "FoKZOcuLW6ZP"
      },
      "source": [
        "## Question 3.2\n",
        "\n",
        "Consider the hat matrix $H$ as defined in (3.3) (p. 101).\n",
        "\n",
        "1. Show that $H$ is idempotent; that is, $H^2 = H$.\n",
        "2. Show that $H$ is symmetric; that is, $H^T = H$.\n",
        "3. Show $I_n − H$ is idempotent and symmetric."
      ]
    },
    {
      "cell_type": "markdown",
      "metadata": {
        "id": "mP1E7vDRXV0m"
      },
      "source": [
        "### Answers to 3.2, 1\n",
        "\n",
        "***Show that $H$ is idempotent; that is, $H^2 = H$.***\n",
        "\n",
        "Although the question implies it, recall that the definition of an \"idempotent\" matrix is that we can multiply it by itself and get the same matrix.  For example, $1$ is idempotent under multiplication because $1 \\times 1 = 1$.  Similarly for the identity matrix\n",
        "\n",
        "$$\n",
        "\\begin{bmatrix}\n",
        "1 & 0 \\\\\n",
        "0 & 1 \\\\\n",
        "\\end{bmatrix} \\times\n",
        "\\begin{bmatrix}\n",
        "1 & 0 \\\\\n",
        "0 & 1 \\\\\n",
        "\\end{bmatrix} =\n",
        "\\begin{bmatrix}\n",
        "1 & 0 \\\\\n",
        "0 & 1 \\\\\n",
        "\\end{bmatrix}\n",
        "\\rightarrow I \\times I = I^2 = I \\\\\n",
        "$$\n",
        "\n",
        "Here, we're asked to check if $H = X_w(X_w^T X_w)^{-1} X^T$ is idempotent.\n",
        "\n",
        "$$\\begin{aligned}\n",
        "H \\times H &= X(X^T X)^{-1} X^T \\times X(X^T X)^{-1} X^T \\\\\n",
        "&= X(X^T X)^{-1} (X^T X) (X^T X)^{-1} X^T \\\\\n",
        "&= X(X^T X)^{-1} I X^T \\\\\n",
        "&= X(X^T X)^{-1} X^T \\\\\n",
        "&= H \\\\\n",
        "\\end{aligned}$$"
      ]
    },
    {
      "cell_type": "markdown",
      "metadata": {
        "id": "xX20bpngelVx"
      },
      "source": [
        "### Answer to 3.2, 2\n",
        "\n",
        "***Show that $H$ is symmetric; that is, $H^T = H$.***\n",
        "\n",
        "Again implied by the question, a \"symmetric\" matrix means that we can transpose the matrix and get the same matrix.  For example\n",
        "\n",
        "$$\n",
        "\\begin{bmatrix}\n",
        "a & b \\\\\n",
        "b & c \\\\\n",
        "\\end{bmatrix} ^T =\n",
        "\\begin{bmatrix}\n",
        "a & b \\\\\n",
        "b & c \\\\\n",
        "\\end{bmatrix}\n",
        "$$\n",
        "\n",
        "What about $H$?\n",
        "\n",
        "$$H = X (X^T X)^{-1} X^T$$\n",
        "$$\\rightarrow H^T = (X (X^T X)^{-1} X^T)^T$$\n",
        "\n",
        "By the transpose properties\n",
        "* $(AB)^T = B^T A^T$,\n",
        "* $(A^T)^T = A$, and\n",
        "* $((A^T A)^{-1})^T = (A^T A)^{-1}$\n",
        "\n",
        "we get\n",
        "\n",
        "$$\\begin{aligned}\n",
        "H^T &= (X^T)^T ((X^T X)^{-1})^T (X)^T \\ \\text{(first property)}\\\\\n",
        "&= X (X^T X)^{-1} X^T \\ \\text{(second and third properties)} \\\\\n",
        "&= H \\\\\n",
        "\\end{aligned}$$"
      ]
    },
    {
      "cell_type": "markdown",
      "metadata": {
        "id": "t9HKznE3hTCz"
      },
      "source": [
        "### Answer to 3.2, 3\n",
        "\n",
        "***Show $I_n − H$ is idempotent and symmetric.***\n",
        "\n",
        "Here, $I_n$ denotes an identity matrix that is the same dimension as $H$.\n",
        "\n",
        "Showing idempotency,\n",
        "\n",
        "$$\\begin{aligned}\n",
        "(I-H) \\times (I-H) &= II - IH - HI + HH \\\\\n",
        "&= I - 2H + HH \\\\\n",
        "&= I - 2H + H \\ \\text{(since HH=H by part 1)} \\\\\n",
        "&= I - H \\\\\n",
        "\\end{aligned}$$\n",
        "\n",
        "Showing symmetry:\n",
        "\n",
        "$$\\begin{aligned}\n",
        "(I-H)^T &= I^T - H^T \\\\\n",
        "& = I - H \\ \\text{(both I and H symmetric)} \\\\\n",
        "\\end{aligned}$$"
      ]
    },
    {
      "cell_type": "markdown",
      "metadata": {
        "id": "PrywJ8CUNe3S"
      },
      "source": [
        "## Question 3.3\n",
        "\n",
        "Consider a simple linear regression model, with all prior weights set to one and including a constant term in the linear predictor.\n",
        "\n",
        "1. Show that\n",
        "\n",
        "$$h_i = \\frac{1}{n} + \\frac{(x_i - \\bar{x})^2}{\\sum_{j=1}^{n}(x_j - \\bar{x})^2}$$\n",
        "\n",
        "2. Use this expression to show that $h_i \\ge (1/n)$.\n",
        "3. Show that $h_i \\le 1$.  HINT: Since $H$ is idempotent (Problem 3.2), first show $h_i = \\sum_{j=1}^{n} h_{ij}^2 = h_i^2 + \\sum_{j \\not = i} h_{ij}^2$."
      ]
    },
    {
      "cell_type": "markdown",
      "metadata": {
        "id": "DcKUv-x9Oshe"
      },
      "source": [
        "#### Answers\n",
        "\n",
        "To start, recall the hat matrix $H$.\n",
        "\n",
        "$$H = X^T (X^T X)^{-1} X$$\n",
        "\n",
        "This yields an $n \\times n$ matrix.  The diagonal elements of $H$, $h_{ii} = h_i$, are the \"leverages\"--the amount of influence a given datapoint has in determining its predicted value.  We can find $h_i$ as\n",
        "\n",
        "$$h_i = \\vec{x}_{.i}^T (X^T X)^{-1} \\vec{x}_{.i}$$\n",
        "\n",
        "\n",
        "where $\\vec{x}_{.i}$ is the meant to be the vector $\\vec{x}_{.i} = [1 \\ x_i]^T$, with $1$ representing the intercept and $x_i$ the value of $x$ for case $i$."
      ]
    },
    {
      "cell_type": "markdown",
      "metadata": {
        "id": "QgcXvP0X_vuT"
      },
      "source": [
        "#### Answer to 3.3, 1\n",
        "\n",
        "$$\\begin{aligned}\n",
        "h_i &= \\begin{bmatrix} 1 & x_i \\end{bmatrix}\n",
        "\\left(\n",
        "\\begin{bmatrix}\n",
        "n & \\vec{1}^T X \\\\\n",
        "X^T \\vec{1} & X^T X \\\\\n",
        "\\end{bmatrix}\n",
        "\\right)^{-1}\n",
        "\\begin{bmatrix} 1 \\\\\n",
        "x_i \\end{bmatrix} \\\\\n",
        "&\\text{for } p'=2 \\\\\n",
        "&= \\begin{bmatrix} 1 & x_i \\end{bmatrix}\n",
        "\\left(\n",
        "\\begin{bmatrix}\n",
        "n & \\sum_j x_j \\\\\n",
        "\\sum_j x_j & \\sum_j x_j^2 \\\\\n",
        "\\end{bmatrix}\n",
        "\\right) ^{-1}\n",
        "\\begin{bmatrix} 1 \\\\\n",
        "x_i \\end{bmatrix} \\\\\n",
        "&= \\begin{bmatrix} 1 & x_i \\end{bmatrix}\n",
        "\\left(\n",
        "\\frac{1}{n \\sum_j x_j^2 - (\\sum_j x_j)^2}\n",
        "\\begin{bmatrix}\n",
        "\\sum_j x_j^2 & -\\sum_j x_j \\\\\n",
        "-\\sum_j x_j & n \\\\\n",
        "\\end{bmatrix}\n",
        "\\right)\n",
        "\\begin{bmatrix} 1 \\\\\n",
        "x_i \\end{bmatrix} \\\\\n",
        "&= \\frac{1}{n \\sum_j x_j^2 - (\\sum_j x_j)^2}\n",
        "\\left(\n",
        "\\begin{bmatrix} 1 & x_i \\end{bmatrix}\n",
        "\\begin{bmatrix}\n",
        "\\sum_j x_j^2 & -\\sum_j x_j \\\\\n",
        "-\\sum_j x_j & n \\\\\n",
        "\\end{bmatrix}\n",
        "\\begin{bmatrix} 1 \\\\\n",
        "x_i \\end{bmatrix}\n",
        "\\right) \\\\\n",
        "&= \\frac{1}{n \\sum_j (x_j - \\bar{x})^2}\n",
        "\\left(\n",
        "\\sum_j x_j^2 - 2 x_i \\sum_j x_j + n x_i^2\n",
        "\\right) \\\\\n",
        "&\\text{Since } \\sum_j x_j = n \\bar{x} \\text{ and } \\sum_j x_j^2 = n \\bar{x}^2 + \\sum_j (x_j - \\bar{x})^2 \\\\\n",
        "&= \\frac{1}{n \\sum_j (x_j - \\bar{x})^2}\n",
        "\\left(\n",
        "n \\bar{x}^2 + \\sum_j (x_j - \\bar{x})^2 - 2 n x_i \\bar{x} + n x_i^2\n",
        "\\right) \\\\\n",
        "&=  \\frac{1}{n \\sum_j (x_j - \\bar{x})^2}\n",
        "\\left(\n",
        "n(\\bar{x}^2 - 2 x_i \\bar{x} + x_i^2) + \\sum_j (x_j - \\bar{x})^2\n",
        "\\right) \\\\\n",
        "&= \\frac{n(x_i - \\bar{x})^2}{n \\sum_j (x_j - \\bar{x})^2} +\n",
        "\\frac{\\sum_j (x_j - \\bar{x})^2}{n \\sum_j (x_j - \\bar{x})^2} \\\\\n",
        "&= \\frac{(x_i - \\bar{x})^2}{\\sum_j (x_j - \\bar{x})^2} + \\frac{1}{n} \\\\\n",
        "&= \\frac{1}{n} + \\frac{(x_i - \\bar{x})^2}{\\sum_j (x_j - \\bar{x})^2} \\\\\n",
        "\\end{aligned}$$"
      ]
    },
    {
      "cell_type": "markdown",
      "metadata": {
        "id": "r7lHolkcPlqT"
      },
      "source": [
        "#### Answer to 3.3, 2\n",
        "\n",
        "***Use this expression to show that $h_i \\ge (1/n)$.***\n",
        "\n",
        "From our expression, we see that $h_i$ is $\\frac{1}{n}$ PLUS A NON-NEGATIVE TERM (we know it's non-negative because the terms are squared), so it must follow that $h_i \\ge \\frac{1}{n}$."
      ]
    },
    {
      "cell_type": "markdown",
      "metadata": {
        "id": "6DQIydkeQPoJ"
      },
      "source": [
        "#### Answer to 3.3, 3\n",
        "\n",
        "***Show that $h_i \\le 1$.  HINT: Since $H$ is idempotent (Problem 3.2), first show $h_i = \\sum_{j=1}^{n} h_{ij}^2 = h_i^2 + \\sum_{j \\not = i} h_{ij}^2$.***\n",
        "\n",
        "Recall that $H$ is idempotent because $H^2 = H$.  This implies for each element in $H$, $h_{ij}$, that\n",
        "\n",
        "$$h_{ij} = \\sum_{k=1}^n h_{ik} h_{kj}$$\n",
        "\n",
        "For the diagonal elements, $h_i$, this can be expanded to\n",
        "\n",
        "$$h_i = h_i^2 + \\sum_{j \\not = i} h_{ij}^2$$\n",
        "\n",
        "I think the best way to show this is with a simple example.\n",
        "\n",
        "$$\\begin{bmatrix}\n",
        "h_{11} & h_{12} \\\\\n",
        "h_{21} & h_{22}\n",
        "\\end{bmatrix}\n",
        "\\begin{bmatrix}\n",
        "h_{11} & h_{12} \\\\\n",
        "h_{21} & h_{22}\n",
        "\\end{bmatrix}\n",
        "=\\begin{bmatrix}\n",
        "h_{11}^2 + h_{12} h_{21} & h_{11} h_{12} + h_{12} h_{22} \\\\\n",
        "h_{11} h_{21} + h_{21} h_{22} & h_{12} h_{21} + h_{22}^2 \\\\\n",
        "\\end{bmatrix}$$\n",
        "\n",
        "Since $H$ is symmetric, we can relabel this like\n",
        "\n",
        "$$\\begin{bmatrix}\n",
        "h_{11}^2 + h_{12}^2 & h_{11} h_{12} + h_{12} h_{22} \\\\\n",
        "h_{11} h_{21} + h_{21} h_{22} & h_{22}^2 +h_{21}^2 \\\\\n",
        "\\end{bmatrix}$$\n",
        "\n",
        "Notice that the diagonal terms, $h_i$, indeed follow $h_i = h_i^2 + \\sum_{j \\not = i} h_{ij}^2$.\n",
        "\n",
        "Since both $h_i^2$ and $\\sum_{j \\not = i} h_{ij}^2$ are necessarily positive and yet sum to $h_i$, we know that $h_i \\ge h_i^2$.  The only way for a positive value $v$ to get *smaller* when squaring is if $v < 1$.  Hence, we conclude that $h_i \\le 1$."
      ]
    },
    {
      "cell_type": "markdown",
      "metadata": {
        "id": "c-Xnh-c4xZMT"
      },
      "source": [
        "## Question 3.4\n",
        "\n",
        "Equation (3.6)\n",
        "\n",
        "$$D = \\frac{(r')^2}{p'} \\frac{h}{1-h}$$\n",
        "\n",
        "(p. 110) gives an expression for Cook's distance, which can also be written as\n",
        "\n",
        "$$D_i = \\frac{(\\boldsymbol{\\hat{\\mu}} - \\boldsymbol{\\hat{\\mu}}_{(i)})^T (\\boldsymbol{\\hat{\\mu}} - \\boldsymbol{\\hat{\\mu}}_{(i)})}{p' s^2}$$\n",
        "\n",
        "Interpret Cook's distance using this form."
      ]
    },
    {
      "cell_type": "markdown",
      "metadata": {
        "id": "eLMJyK3Hyu1K"
      },
      "source": [
        "### Answer to 3.4\n",
        "\n",
        "Recall that Cook's distance measures a single observation's influence over the fitted values.\n",
        "\n",
        "Here, that influence is evident in the numerator.  Note that $\\boldsymbol{\\hat{\\mu}}$ is the vector of all fitted values that were fitted with the complete data set, while $\\boldsymbol{\\hat{\\mu}}_{(i)}$ is the the vector of all fitted values that were fitted **without** observation $i$.  So the numerator is the squared distance between these estimates.  When an observation is omitted, these two fits will differ by some distance; the more influential a single observation is in determining the total-data fit, the greater this distance will be (since omitting it omits a major influence of the total-data fit).  \n",
        "\n",
        "The denominator *normalizes* this squared distance based on the number of parameters ($p'$) and residual variance ($s^2$).  In this way, more parameters or greater variance diminishes the estimated influence of an observation.  This should make sense because greater variance implies unaccounted influences in the data, which necessarily diminishes the influence of any/all observations, and this diminishment should be exacerbated by increased parameters since more parameters decreases variance (i.e., if there is still high variance with many parameters, we should further decrease the estimated influence of any/all observations)."
      ]
    },
    {
      "cell_type": "markdown",
      "metadata": {
        "id": "f2h8IeL1he02"
      },
      "source": [
        "## Question 3.5\n",
        "\n",
        "To gain experience reading Q–Q plots, use `R` to produce Q–Q plots of data known to be generated randomly from a standard normal distribution using `rnorm()`. Generate ten Q–Q plots based on 100 random numbers, and comment on using Q–Q plots when `n = 100`. Repeat the exercise for `n = 50`, `n = 20` and `n = 10`, and comment further."
      ]
    },
    {
      "cell_type": "markdown",
      "metadata": {
        "id": "WoBJoe1KlIqi"
      },
      "source": [
        "### Answer to 3.5\n",
        "\n",
        "Instead of generating 10 x 4 = 40 plots, let's make some code that produces one plot for each `n` value, then run it several times."
      ]
    },
    {
      "cell_type": "code",
      "execution_count": null,
      "metadata": {
        "colab": {
          "base_uri": "https://localhost:8080/",
          "height": 437
        },
        "id": "OA7Z-bkRh4YU",
        "outputId": "a23fe6fe-b2a1-49a2-9931-f1f72863d7c1",
        "vscode": {
          "languageId": "r"
        }
      },
      "outputs": [
        {
          "data": {
            "image/png": "[encoded data removed]",
            "text/plain": [
              "Plot with title “n=10 QQ”"
            ]
          },
          "metadata": {
            "image/png": {
              "height": 420,
              "width": 420
            }
          },
          "output_type": "display_data"
        }
      ],
      "source": [
        "y100 <- sort(rnorm(n=100))\n",
        "y50 <- sort(rnorm(n=50))\n",
        "y20 <- sort(rnorm(n=20))\n",
        "y10 <- sort(rnorm(n=10))\n",
        "\n",
        "par(mfrow=c(2,2))\n",
        "plot((y100) ~ qnorm(seq(from=0, to=1, length=length(y100))),\n",
        "     ylab=\"y100\", xlab=\"qnorm\", main=\"n=100 QQ\",\n",
        "     xlim=c(-3,3), ylim=c(-3,3))\n",
        "     abline(0,1,col=\"red\")\n",
        "plot((y50) ~ qnorm(seq(from=0, to=1, length=length(y50))),\n",
        "     ylab=\"y50\", xlab=\"qnorm\", main=\"n=50 QQ\",\n",
        "     xlim=c(-3,3), ylim=c(-3,3))\n",
        "     abline(0,1,col=\"red\")\n",
        "plot((y20) ~ qnorm(seq(from=0, to=1, length=length(y20))),\n",
        "     ylab=\"y20\", xlab=\"qnorm\", main=\"n=20 QQ\",\n",
        "     xlim=c(-3,3), ylim=c(-3,3))\n",
        "     abline(0,1,col=\"red\")\n",
        "plot((y10) ~ qnorm(seq(from=0, to=1, length=length(y10))),\n",
        "     ylab=\"y10\", xlab=\"qnorm\", main=\"n=10 QQ\",\n",
        "     xlim=c(-3,3), ylim=c(-3,3))\n",
        "     abline(0,1,col=\"red\")"
      ]
    },
    {
      "cell_type": "markdown",
      "metadata": {
        "id": "ncvdNgBJlXmz"
      },
      "source": [
        "Running this several times, I see a couple of trends.\n",
        "\n",
        "1. As `n` increases, the range of values increases.\n",
        "2. It looks like, as `n` decreases, the **average** distance between the data and the theoretical qq-line increases.  Let's check this."
      ]
    },
    {
      "cell_type": "code",
      "execution_count": null,
      "metadata": {
        "colab": {
          "base_uri": "https://localhost:8080/",
          "height": 86
        },
        "id": "Fcj9nKoNmSL6",
        "outputId": "44af9241-93d1-4adf-c94f-2e5770ca1d1f",
        "vscode": {
          "languageId": "r"
        }
      },
      "outputs": [
        {
          "data": {
            "text/html": [
              "0.10219019575995"
            ],
            "text/latex": [
              "0.10219019575995"
            ],
            "text/markdown": [
              "0.10219019575995"
            ],
            "text/plain": [
              "[1] 0.1021902"
            ]
          },
          "metadata": {},
          "output_type": "display_data"
        },
        {
          "data": {
            "text/html": [
              "0.119254617059713"
            ],
            "text/latex": [
              "0.119254617059713"
            ],
            "text/markdown": [
              "0.119254617059713"
            ],
            "text/plain": [
              "[1] 0.1192546"
            ]
          },
          "metadata": {},
          "output_type": "display_data"
        },
        {
          "data": {
            "text/html": [
              "0.410799442106133"
            ],
            "text/latex": [
              "0.410799442106133"
            ],
            "text/markdown": [
              "0.410799442106133"
            ],
            "text/plain": [
              "[1] 0.4107994"
            ]
          },
          "metadata": {},
          "output_type": "display_data"
        },
        {
          "data": {
            "text/html": [
              "0.256586352968766"
            ],
            "text/latex": [
              "0.256586352968766"
            ],
            "text/markdown": [
              "0.256586352968766"
            ],
            "text/plain": [
              "[1] 0.2565864"
            ]
          },
          "metadata": {},
          "output_type": "display_data"
        }
      ],
      "source": [
        "mean(abs(y100[-c(1, 100)] - qnorm(seq(from=0, to=1, length=length(y100)))[-c(1, 100)]))\n",
        "mean(abs(y50[-c(1, 50)] - qnorm(seq(from=0, to=1, length=length(y50)))[-c(1, 50)]))\n",
        "mean(abs(y20[-c(1, 20)] - qnorm(seq(from=0, to=1, length=length(y20)))[-c(1, 20)]))\n",
        "mean(abs(y10[-c(1, 10)] - qnorm(seq(from=0, to=1, length=length(y10)))[-c(1, 10)]))"
      ]
    },
    {
      "cell_type": "markdown",
      "metadata": {
        "id": "76ttidI1LTfL"
      },
      "source": [
        "## Question 3.6\n",
        "\n",
        "Show that the partial residual plot for a simple linear regression model is simply a plot $y$ against $x$."
      ]
    },
    {
      "cell_type": "markdown",
      "metadata": {
        "id": "TxqXj9ktLngn"
      },
      "source": [
        "### Answer to 3.6"
      ]
    },
    {
      "cell_type": "code",
      "execution_count": null,
      "metadata": {
        "colab": {
          "base_uri": "https://localhost:8080/",
          "height": 437
        },
        "id": "f2RhxMb6Ll14",
        "outputId": "54f85ae1-289a-43c0-e115-7a9143cb2648",
        "vscode": {
          "languageId": "r"
        }
      },
      "outputs": [
        {
          "data": {
            "image/png": "[encoded data removed]",
            "text/plain": [
              "plot without title"
            ]
          },
          "metadata": {
            "image/png": {
              "height": 420,
              "width": 420
            }
          },
          "output_type": "display_data"
        }
      ],
      "source": [
        "N <- 100\n",
        "x <- rnorm(n=N)\n",
        "y <- rnorm(n=N, mean= (1 + 2*x), sd=1)\n",
        "\n",
        "m <- lm(y~x)\n",
        "r_part <- (coef(m)[[1]] + coef(m)[[2]]*x) + residuals(m)\n",
        "\n",
        "plot(y ~ x, cex=1, lwd=4)\n",
        "points(r_part ~ x, pch=19, col=\"pink\")"
      ]
    },
    {
      "cell_type": "markdown",
      "metadata": {
        "id": "SLy-ZtMzblRw"
      },
      "source": [
        "## Question 3.7\n",
        "\n",
        "For the naval hospital data (data set: `nhospital`) (Example 3.18, p. 136), fit the three models that contain two of the explanatory variables. Show that the fitted values are very similar for all three models."
      ]
    },
    {
      "cell_type": "markdown",
      "metadata": {
        "id": "QRHrQ9yqcJWW"
      },
      "source": [
        "### Answer to 3.7\n",
        "\n",
        "Let's get a look at the data?"
      ]
    },
    {
      "cell_type": "code",
      "execution_count": null,
      "metadata": {
        "colab": {
          "base_uri": "https://localhost:8080/",
          "height": 286
        },
        "id": "AwhrIfjubv57",
        "outputId": "95a37b17-0fbb-46a6-9140-acf578df4442",
        "vscode": {
          "languageId": "r"
        }
      },
      "outputs": [
        {
          "data": {
            "text/html": [
              "<table class=\"dataframe\">\n",
              "<caption>A data.frame: 6 × 4</caption>\n",
              "<thead>\n",
              "\t<tr><th></th><th scope=col>Cases</th><th scope=col>Eligible</th><th scope=col>OpRooms</th><th scope=col>MainHours</th></tr>\n",
              "\t<tr><th></th><th scope=col>&lt;int&gt;</th><th scope=col>&lt;dbl&gt;</th><th scope=col>&lt;int&gt;</th><th scope=col>&lt;dbl&gt;</th></tr>\n",
              "</thead>\n",
              "<tbody>\n",
              "\t<tr><th scope=row>1</th><td> 89</td><td> 25.5</td><td> 4</td><td> 304.37</td></tr>\n",
              "\t<tr><th scope=row>2</th><td>513</td><td>294.3</td><td>11</td><td>2616.32</td></tr>\n",
              "\t<tr><th scope=row>3</th><td>231</td><td> 83.7</td><td> 4</td><td>1139.12</td></tr>\n",
              "\t<tr><th scope=row>4</th><td> 68</td><td> 30.7</td><td> 2</td><td> 285.43</td></tr>\n",
              "\t<tr><th scope=row>5</th><td>319</td><td>129.8</td><td> 6</td><td>1413.77</td></tr>\n",
              "\t<tr><th scope=row>6</th><td>276</td><td>180.8</td><td> 6</td><td>1555.68</td></tr>\n",
              "</tbody>\n",
              "</table>\n"
            ],
            "text/latex": [
              "A data.frame: 6 × 4\n",
              "\\begin{tabular}{r|llll}\n",
              "  & Cases & Eligible & OpRooms & MainHours\\\\\n",
              "  & <int> & <dbl> & <int> & <dbl>\\\\\n",
              "\\hline\n",
              "\t1 &  89 &  25.5 &  4 &  304.37\\\\\n",
              "\t2 & 513 & 294.3 & 11 & 2616.32\\\\\n",
              "\t3 & 231 &  83.7 &  4 & 1139.12\\\\\n",
              "\t4 &  68 &  30.7 &  2 &  285.43\\\\\n",
              "\t5 & 319 & 129.8 &  6 & 1413.77\\\\\n",
              "\t6 & 276 & 180.8 &  6 & 1555.68\\\\\n",
              "\\end{tabular}\n"
            ],
            "text/markdown": [
              "\n",
              "A data.frame: 6 × 4\n",
              "\n",
              "| <!--/--> | Cases &lt;int&gt; | Eligible &lt;dbl&gt; | OpRooms &lt;int&gt; | MainHours &lt;dbl&gt; |\n",
              "|---|---|---|---|---|\n",
              "| 1 |  89 |  25.5 |  4 |  304.37 |\n",
              "| 2 | 513 | 294.3 | 11 | 2616.32 |\n",
              "| 3 | 231 |  83.7 |  4 | 1139.12 |\n",
              "| 4 |  68 |  30.7 |  2 |  285.43 |\n",
              "| 5 | 319 | 129.8 |  6 | 1413.77 |\n",
              "| 6 | 276 | 180.8 |  6 | 1555.68 |\n",
              "\n"
            ],
            "text/plain": [
              "  Cases Eligible OpRooms MainHours\n",
              "1  89    25.5     4       304.37  \n",
              "2 513   294.3    11      2616.32  \n",
              "3 231    83.7     4      1139.12  \n",
              "4  68    30.7     2       285.43  \n",
              "5 319   129.8     6      1413.77  \n",
              "6 276   180.8     6      1555.68  "
            ]
          },
          "metadata": {},
          "output_type": "display_data"
        }
      ],
      "source": [
        "install.packages(\"GLMsData\")\n",
        "library(GLMsData)\n",
        "\n",
        "data(nhospital)\n",
        "d <- nhospital\n",
        "head(d)"
      ]
    },
    {
      "cell_type": "markdown",
      "metadata": {
        "id": "kicKUe92ciZK"
      },
      "source": [
        "Based on p. 137, I think we're meant to use `MainHours` as the outcome variable."
      ]
    },
    {
      "cell_type": "code",
      "execution_count": null,
      "metadata": {
        "id": "SQY3yW5ac5Ul",
        "vscode": {
          "languageId": "r"
        }
      },
      "outputs": [],
      "source": [
        "m1 <- lm(MainHours ~ Cases*Eligible, data=d)\n",
        "m2 <- lm(MainHours ~ Cases*OpRooms, data=d)\n",
        "m3 <- lm(MainHours ~ Eligible*OpRooms, data=d)"
      ]
    },
    {
      "cell_type": "markdown",
      "metadata": {
        "id": "USgKFKaPdLDE"
      },
      "source": [
        "Now let's show the predictions of each model."
      ]
    },
    {
      "cell_type": "code",
      "execution_count": null,
      "metadata": {
        "colab": {
          "base_uri": "https://localhost:8080/"
        },
        "id": "KU_UUxv1dOX5",
        "outputId": "0e89ccd7-bb14-403b-ce03-35d19828afb4",
        "vscode": {
          "languageId": "r"
        }
      },
      "outputs": [
        {
          "data": {
            "image/png": "[encoded data removed]",
            "text/plain": [
              "plot without title"
            ]
          },
          "metadata": {
            "image/png": {
              "height": 420,
              "width": 420
            }
          },
          "output_type": "display_data"
        }
      ],
      "source": [
        "plot(predict(m1))\n",
        "points(predict(m2), col=\"red\")\n",
        "points(predict(m3), col=\"blue\")"
      ]
    },
    {
      "cell_type": "markdown",
      "metadata": {
        "id": "1jNAaGwHdgKt"
      },
      "source": [
        "Indeed, pretty close.  Why?  This is because, as demonstrated in the text, the three explanatory variables are highly correlated; the infomation contained in any variable is highly duplicated by the other two."
      ]
    },
    {
      "cell_type": "markdown",
      "metadata": {
        "id": "gTCpuCHfgn6-"
      },
      "source": [
        "## Question 3.8\n",
        "\n",
        "The lung capacity data [21] in Example 1.1 (data set: `lungcap`) have been used often in Chaps. 2 and 3.\n",
        "\n",
        "1. Fit the model with `FEV` as the response and smoking status as the only explanatory variable. Interpret the meaning of the coefficient for smoking.\n",
        "2. Fit the model with `FEV` as the response and all other variables as explanatory variables (but do not use any interactions). Interpret the coefficient for smoking status.\n",
        "3. Fit the model with the logarithm of `FEV` as the response and all other variables as explanatory variables (but do not use any interactions). Interpret the coefficient for smoking status.\n",
        "4. Determine a suitable model for the data."
      ]
    },
    {
      "cell_type": "markdown",
      "metadata": {
        "id": "7FmefojYhP7d"
      },
      "source": [
        "### Answer to 3.8, 1\n",
        "\n",
        "***Fit the model with `FEV` as the response and smoking status as the only explanatory variable. Interpret the meaning of the coefficient for smoking.***"
      ]
    },
    {
      "cell_type": "code",
      "execution_count": null,
      "metadata": {
        "colab": {
          "base_uri": "https://localhost:8080/",
          "height": 286
        },
        "id": "FjIfLAzJhd4K",
        "outputId": "16b530e1-cf74-4ca4-a59e-9cd6b92b520c",
        "vscode": {
          "languageId": "r"
        }
      },
      "outputs": [
        {
          "data": {
            "text/html": [
              "<table class=\"dataframe\">\n",
              "<caption>A data.frame: 6 × 5</caption>\n",
              "<thead>\n",
              "\t<tr><th></th><th scope=col>Age</th><th scope=col>FEV</th><th scope=col>Ht</th><th scope=col>Gender</th><th scope=col>Smoke</th></tr>\n",
              "\t<tr><th></th><th scope=col>&lt;int&gt;</th><th scope=col>&lt;dbl&gt;</th><th scope=col>&lt;dbl&gt;</th><th scope=col>&lt;fct&gt;</th><th scope=col>&lt;int&gt;</th></tr>\n",
              "</thead>\n",
              "<tbody>\n",
              "\t<tr><th scope=row>1</th><td>3</td><td>1.072</td><td>46</td><td>F</td><td>0</td></tr>\n",
              "\t<tr><th scope=row>2</th><td>4</td><td>0.839</td><td>48</td><td>F</td><td>0</td></tr>\n",
              "\t<tr><th scope=row>3</th><td>4</td><td>1.102</td><td>48</td><td>F</td><td>0</td></tr>\n",
              "\t<tr><th scope=row>4</th><td>4</td><td>1.389</td><td>48</td><td>F</td><td>0</td></tr>\n",
              "\t<tr><th scope=row>5</th><td>4</td><td>1.577</td><td>49</td><td>F</td><td>0</td></tr>\n",
              "\t<tr><th scope=row>6</th><td>4</td><td>1.418</td><td>49</td><td>F</td><td>0</td></tr>\n",
              "</tbody>\n",
              "</table>\n"
            ],
            "text/latex": [
              "A data.frame: 6 × 5\n",
              "\\begin{tabular}{r|lllll}\n",
              "  & Age & FEV & Ht & Gender & Smoke\\\\\n",
              "  & <int> & <dbl> & <dbl> & <fct> & <int>\\\\\n",
              "\\hline\n",
              "\t1 & 3 & 1.072 & 46 & F & 0\\\\\n",
              "\t2 & 4 & 0.839 & 48 & F & 0\\\\\n",
              "\t3 & 4 & 1.102 & 48 & F & 0\\\\\n",
              "\t4 & 4 & 1.389 & 48 & F & 0\\\\\n",
              "\t5 & 4 & 1.577 & 49 & F & 0\\\\\n",
              "\t6 & 4 & 1.418 & 49 & F & 0\\\\\n",
              "\\end{tabular}\n"
            ],
            "text/markdown": [
              "\n",
              "A data.frame: 6 × 5\n",
              "\n",
              "| <!--/--> | Age &lt;int&gt; | FEV &lt;dbl&gt; | Ht &lt;dbl&gt; | Gender &lt;fct&gt; | Smoke &lt;int&gt; |\n",
              "|---|---|---|---|---|---|\n",
              "| 1 | 3 | 1.072 | 46 | F | 0 |\n",
              "| 2 | 4 | 0.839 | 48 | F | 0 |\n",
              "| 3 | 4 | 1.102 | 48 | F | 0 |\n",
              "| 4 | 4 | 1.389 | 48 | F | 0 |\n",
              "| 5 | 4 | 1.577 | 49 | F | 0 |\n",
              "| 6 | 4 | 1.418 | 49 | F | 0 |\n",
              "\n"
            ],
            "text/plain": [
              "  Age FEV   Ht Gender Smoke\n",
              "1 3   1.072 46 F      0    \n",
              "2 4   0.839 48 F      0    \n",
              "3 4   1.102 48 F      0    \n",
              "4 4   1.389 48 F      0    \n",
              "5 4   1.577 49 F      0    \n",
              "6 4   1.418 49 F      0    "
            ]
          },
          "metadata": {},
          "output_type": "display_data"
        }
      ],
      "source": [
        "install.packages(\"GLMsData\")\n",
        "library(GLMsData)\n",
        "\n",
        "data(lungcap)\n",
        "d <- lungcap\n",
        "head(d)"
      ]
    },
    {
      "cell_type": "code",
      "execution_count": null,
      "metadata": {
        "colab": {
          "base_uri": "https://localhost:8080/",
          "height": 329
        },
        "id": "FugxQL2whpAW",
        "outputId": "6e5cb92c-0398-4a3a-ae05-d592c5743b36",
        "vscode": {
          "languageId": "r"
        }
      },
      "outputs": [
        {
          "data": {
            "text/plain": [
              "\n",
              "Call:\n",
              "lm(formula = FEV ~ Smoke, data = d)\n",
              "\n",
              "Residuals:\n",
              "    Min      1Q  Median      3Q     Max \n",
              "-1.7751 -0.6339 -0.1021  0.4804  3.2269 \n",
              "\n",
              "Coefficients:\n",
              "            Estimate Std. Error t value Pr(>|t|)    \n",
              "(Intercept)  2.56614    0.03466  74.037  < 2e-16 ***\n",
              "Smoke        0.71072    0.10994   6.464 1.99e-10 ***\n",
              "---\n",
              "Signif. codes:  0 ‘***’ 0.001 ‘**’ 0.01 ‘*’ 0.05 ‘.’ 0.1 ‘ ’ 1\n",
              "\n",
              "Residual standard error: 0.8412 on 652 degrees of freedom\n",
              "Multiple R-squared:  0.06023,\tAdjusted R-squared:  0.05879 \n",
              "F-statistic: 41.79 on 1 and 652 DF,  p-value: 1.993e-10\n"
            ]
          },
          "metadata": {},
          "output_type": "display_data"
        }
      ],
      "source": [
        "m1 <- lm(FEV ~ Smoke, data=d)\n",
        "summary(m1)"
      ]
    },
    {
      "cell_type": "markdown",
      "metadata": {
        "id": "buvbOqCoh2c2"
      },
      "source": [
        "FEV increases by an average of $~0.71 \\pm 0.11$ FEV units in smokers compared to non-smokers.  This estimate is statistically significant."
      ]
    },
    {
      "cell_type": "markdown",
      "metadata": {
        "id": "UhN06Rw9iPwL"
      },
      "source": [
        "### Answer to 3.8, 2\n",
        "\n",
        "***Fit the model with `FEV` as the response and all other variables as explanatory variables (but do not use any interactions). Interpret the coefficient for smoking status.***"
      ]
    },
    {
      "cell_type": "code",
      "execution_count": null,
      "metadata": {
        "colab": {
          "base_uri": "https://localhost:8080/",
          "height": 381
        },
        "id": "LQ0LnWqViaxZ",
        "outputId": "21a90f84-5b13-4126-c54d-deddcc47a245",
        "vscode": {
          "languageId": "r"
        }
      },
      "outputs": [
        {
          "data": {
            "text/plain": [
              "\n",
              "Call:\n",
              "lm(formula = FEV ~ ., data = d)\n",
              "\n",
              "Residuals:\n",
              "     Min       1Q   Median       3Q      Max \n",
              "-1.37656 -0.25033  0.00894  0.25588  1.92047 \n",
              "\n",
              "Coefficients:\n",
              "             Estimate Std. Error t value Pr(>|t|)    \n",
              "(Intercept) -4.456974   0.222839 -20.001  < 2e-16 ***\n",
              "Age          0.065509   0.009489   6.904 1.21e-11 ***\n",
              "Ht           0.104199   0.004758  21.901  < 2e-16 ***\n",
              "GenderM      0.157103   0.033207   4.731 2.74e-06 ***\n",
              "Smoke       -0.087246   0.059254  -1.472    0.141    \n",
              "---\n",
              "Signif. codes:  0 ‘***’ 0.001 ‘**’ 0.01 ‘*’ 0.05 ‘.’ 0.1 ‘ ’ 1\n",
              "\n",
              "Residual standard error: 0.4122 on 649 degrees of freedom\n",
              "Multiple R-squared:  0.7754,\tAdjusted R-squared:  0.774 \n",
              "F-statistic:   560 on 4 and 649 DF,  p-value: < 2.2e-16\n"
            ]
          },
          "metadata": {},
          "output_type": "display_data"
        }
      ],
      "source": [
        "m2 <- lm(FEV ~ ., d)\n",
        "summary(m2)"
      ]
    },
    {
      "cell_type": "markdown",
      "metadata": {
        "id": "EcFYHRjDijS7"
      },
      "source": [
        "After accounting for the main effects of `Age`, `Ht`, and `Gender`, smokers have an FEV $~0.09 \\pm 0.06$ fewer FEV units compared to non-smokers.  This estimate is not statistically significant."
      ]
    },
    {
      "cell_type": "markdown",
      "metadata": {
        "id": "bGHtRpF0jI1T"
      },
      "source": [
        "### Answer to 3.8, 3\n",
        "\n",
        "***Fit the model with the logarithm of `FEV` as the response and all other variables as explanatory variables (but do not use any interactions). Interpret the coefficient for smoking status.***"
      ]
    },
    {
      "cell_type": "code",
      "execution_count": null,
      "metadata": {
        "colab": {
          "base_uri": "https://localhost:8080/",
          "height": 381
        },
        "id": "jnN4alBljR5t",
        "outputId": "4353fbb7-524b-4010-bb04-74737ab2b1bf",
        "vscode": {
          "languageId": "r"
        }
      },
      "outputs": [
        {
          "data": {
            "text/plain": [
              "\n",
              "Call:\n",
              "lm(formula = log(FEV) ~ ., data = d)\n",
              "\n",
              "Residuals:\n",
              "     Min       1Q   Median       3Q      Max \n",
              "-0.63278 -0.08657  0.01146  0.09540  0.40701 \n",
              "\n",
              "Coefficients:\n",
              "             Estimate Std. Error t value Pr(>|t|)    \n",
              "(Intercept) -1.943998   0.078639 -24.721  < 2e-16 ***\n",
              "Age          0.023387   0.003348   6.984  7.1e-12 ***\n",
              "Ht           0.042796   0.001679  25.489  < 2e-16 ***\n",
              "GenderM      0.029319   0.011719   2.502   0.0126 *  \n",
              "Smoke       -0.046068   0.020910  -2.203   0.0279 *  \n",
              "---\n",
              "Signif. codes:  0 ‘***’ 0.001 ‘**’ 0.01 ‘*’ 0.05 ‘.’ 0.1 ‘ ’ 1\n",
              "\n",
              "Residual standard error: 0.1455 on 649 degrees of freedom\n",
              "Multiple R-squared:  0.8106,\tAdjusted R-squared:  0.8095 \n",
              "F-statistic: 694.6 on 4 and 649 DF,  p-value: < 2.2e-16\n"
            ]
          },
          "metadata": {},
          "output_type": "display_data"
        }
      ],
      "source": [
        "m3 <- lm(log(FEV) ~ ., data=d)\n",
        "summary(m3)"
      ]
    },
    {
      "cell_type": "markdown",
      "metadata": {
        "id": "QFHtnYoZjXwm"
      },
      "source": [
        "After accounting for other explanatory variables, the $log(FEV)$ decreases by $~0.05 \\pm 0.02$ FEV units.  This estimate is statistically significant."
      ]
    },
    {
      "cell_type": "markdown",
      "metadata": {
        "id": "CYt93c1HkIPz"
      },
      "source": [
        "### Answer to 3.8, 4\n",
        "\n",
        "***Determine a suitable model for the data.***"
      ]
    },
    {
      "cell_type": "code",
      "execution_count": null,
      "metadata": {
        "colab": {
          "base_uri": "https://localhost:8080/",
          "height": 192
        },
        "id": "kPrCVh6bkmeH",
        "outputId": "156bd5a7-b884-494b-bf91-fb7d28a1685b",
        "vscode": {
          "languageId": "r"
        }
      },
      "outputs": [
        {
          "data": {
            "text/html": [
              "<table class=\"dataframe\">\n",
              "<caption>A data.frame: 3 × 2</caption>\n",
              "<thead>\n",
              "\t<tr><th></th><th scope=col>df</th><th scope=col>AIC</th></tr>\n",
              "\t<tr><th></th><th scope=col>&lt;dbl&gt;</th><th scope=col>&lt;dbl&gt;</th></tr>\n",
              "</thead>\n",
              "<tbody>\n",
              "\t<tr><th scope=row>m1</th><td>3</td><td>1633.7583</td></tr>\n",
              "\t<tr><th scope=row>m2</th><td>6</td><td> 703.7935</td></tr>\n",
              "\t<tr><th scope=row>m3</th><td>6</td><td>-658.6037</td></tr>\n",
              "</tbody>\n",
              "</table>\n"
            ],
            "text/latex": [
              "A data.frame: 3 × 2\n",
              "\\begin{tabular}{r|ll}\n",
              "  & df & AIC\\\\\n",
              "  & <dbl> & <dbl>\\\\\n",
              "\\hline\n",
              "\tm1 & 3 & 1633.7583\\\\\n",
              "\tm2 & 6 &  703.7935\\\\\n",
              "\tm3 & 6 & -658.6037\\\\\n",
              "\\end{tabular}\n"
            ],
            "text/markdown": [
              "\n",
              "A data.frame: 3 × 2\n",
              "\n",
              "| <!--/--> | df &lt;dbl&gt; | AIC &lt;dbl&gt; |\n",
              "|---|---|---|\n",
              "| m1 | 3 | 1633.7583 |\n",
              "| m2 | 6 |  703.7935 |\n",
              "| m3 | 6 | -658.6037 |\n",
              "\n"
            ],
            "text/plain": [
              "   df AIC      \n",
              "m1 3  1633.7583\n",
              "m2 6   703.7935\n",
              "m3 6  -658.6037"
            ]
          },
          "metadata": {},
          "output_type": "display_data"
        }
      ],
      "source": [
        "AIC(m1,m2,m3)"
      ]
    },
    {
      "cell_type": "markdown",
      "metadata": {
        "id": "1XQyCyC7lPYQ"
      },
      "source": [
        "Based on AIC, `m3` is preferred."
      ]
    },
    {
      "cell_type": "markdown",
      "metadata": {
        "id": "PcG5ZJlE5EAD"
      },
      "source": [
        "## Question 3.9\n",
        "\n",
        "In Chap. 2, the lung capacity data (data set: `lungcap`) was analysed using `log(FEV)` as the response variable, with `Ht` as one of the explanatory variables. In Example 3.13, a model was proposed for analysing `log(FEV)` using `log(Ht)` in place of `Ht` as one of the covariates. Compare these two models using a diagnostic analysis, and comment."
      ]
    },
    {
      "cell_type": "markdown",
      "metadata": {
        "id": "aeOIhwDeDlTq"
      },
      "source": [
        "### Answer to 3.9\n",
        "\n",
        "Let's get these models up."
      ]
    },
    {
      "cell_type": "code",
      "execution_count": null,
      "metadata": {
        "colab": {
          "base_uri": "https://localhost:8080/"
        },
        "id": "aqRZPtaxDqS_",
        "outputId": "396fbe53-a7cd-4bac-eecf-2646bb9d5043",
        "vscode": {
          "languageId": "r"
        }
      },
      "outputs": [
        {
          "name": "stderr",
          "output_type": "stream",
          "text": [
            "Installing package into ‘/usr/local/lib/R/site-library’\n",
            "(as ‘lib’ is unspecified)\n",
            "\n"
          ]
        }
      ],
      "source": [
        "install.packages(\"GLMsData\")\n",
        "library(GLMsData)\n",
        "\n",
        "data(lungcap)\n",
        "d <- lungcap"
      ]
    },
    {
      "cell_type": "code",
      "execution_count": null,
      "metadata": {
        "id": "cHqiCpu1D6M0",
        "vscode": {
          "languageId": "r"
        }
      },
      "outputs": [],
      "source": [
        "example_2.15 <- lm(log(FEV) ~ Age + Ht + Gender + Smoke, data=d)\n",
        "example_3.13b <- lm(log(FEV) ~ Age + log(Ht) + Gender + Smoke, data=d)"
      ]
    },
    {
      "cell_type": "markdown",
      "metadata": {
        "id": "qV7ZAri_E2cS"
      },
      "source": [
        "If you're looking in the book, notice that I had to modify Example 3.13 to include the same explanatory variables used in example 2.15 in order to make a fair comparison.\n",
        "\n",
        "Let's compare these.  One way to do that is to check out the diagnositc plots."
      ]
    },
    {
      "cell_type": "code",
      "execution_count": null,
      "metadata": {
        "colab": {
          "base_uri": "https://localhost:8080/",
          "height": 437
        },
        "id": "wyeiNjT9FJo_",
        "outputId": "07b1de21-0fb4-4c2d-8949-3386dbfd5509",
        "vscode": {
          "languageId": "r"
        }
      },
      "outputs": [
        {
          "data": {
            "image/png": "[encoded data removed]",
            "text/plain": [
              "Plot with title “”"
            ]
          },
          "metadata": {
            "image/png": {
              "height": 420,
              "width": 420
            }
          },
          "output_type": "display_data"
        }
      ],
      "source": [
        "par(mfrow=c(1,2))\n",
        "plot(example_2.15, which=2)\n",
        "plot(example_3.13b, which=2)"
      ]
    },
    {
      "cell_type": "markdown",
      "metadata": {
        "id": "zc9kc006F6pE"
      },
      "source": [
        "We can also compare AIC values."
      ]
    },
    {
      "cell_type": "code",
      "execution_count": null,
      "metadata": {
        "colab": {
          "base_uri": "https://localhost:8080/",
          "height": 52
        },
        "id": "CEYccDX4F8hL",
        "outputId": "5373ba9f-2a23-42eb-d3c7-5875601a23ad",
        "vscode": {
          "languageId": "r"
        }
      },
      "outputs": [
        {
          "data": {
            "text/html": [
              "-658.603742306018"
            ],
            "text/latex": [
              "-658.603742306018"
            ],
            "text/markdown": [
              "-658.603742306018"
            ],
            "text/plain": [
              "[1] -658.6037"
            ]
          },
          "metadata": {},
          "output_type": "display_data"
        },
        {
          "data": {
            "text/html": [
              "-657.170009011847"
            ],
            "text/latex": [
              "-657.170009011847"
            ],
            "text/markdown": [
              "-657.170009011847"
            ],
            "text/plain": [
              "[1] -657.17"
            ]
          },
          "metadata": {},
          "output_type": "display_data"
        }
      ],
      "source": [
        "AIC(example_2.15)\n",
        "AIC(example_3.13b)"
      ]
    },
    {
      "cell_type": "markdown",
      "metadata": {
        "id": "F42GOSlnGDQu"
      },
      "source": [
        "We get the same message all the way through: the two models are basically identical.  Maybe this is because we use so many predictor variables, all but one common between the models.\n",
        "\n",
        "What if we only regress on `Ht` or `log(Ht)`?"
      ]
    },
    {
      "cell_type": "code",
      "execution_count": null,
      "metadata": {
        "colab": {
          "base_uri": "https://localhost:8080/",
          "height": 437
        },
        "id": "MJ_IRWrvGS2P",
        "outputId": "00171840-5baf-40f2-bae6-0a04fea15db8",
        "vscode": {
          "languageId": "r"
        }
      },
      "outputs": [
        {
          "data": {
            "image/png": "[encoded data removed]",
            "text/plain": [
              "Plot with title “”"
            ]
          },
          "metadata": {
            "image/png": {
              "height": 420,
              "width": 420
            }
          },
          "output_type": "display_data"
        }
      ],
      "source": [
        "m_ht <- lm(log(FEV) ~ Ht, data=d)\n",
        "m_logHt <- lm(log(FEV) ~ log(Ht), data=d)\n",
        "\n",
        "par(mfrow=c(1,2))\n",
        "plot(m_ht, which=2)\n",
        "plot(m_logHt, which=2)"
      ]
    },
    {
      "cell_type": "markdown",
      "metadata": {
        "id": "hNNXlDzsG1jg"
      },
      "source": [
        "Now I see *some* difference between the models, with `log(Ht)` seeming to fit the data better."
      ]
    },
    {
      "cell_type": "code",
      "execution_count": null,
      "metadata": {
        "colab": {
          "base_uri": "https://localhost:8080/",
          "height": 52
        },
        "id": "ziQYrEs0G1Eq",
        "outputId": "0a46df4e-d626-4065-8157-b03e487ce812",
        "vscode": {
          "languageId": "r"
        }
      },
      "outputs": [
        {
          "data": {
            "text/html": [
              "-614.644981802856"
            ],
            "text/latex": [
              "-614.644981802856"
            ],
            "text/markdown": [
              "-614.644981802856"
            ],
            "text/plain": [
              "[1] -614.645"
            ]
          },
          "metadata": {},
          "output_type": "display_data"
        },
        {
          "data": {
            "text/html": [
              "-611.000788884738"
            ],
            "text/latex": [
              "-611.000788884738"
            ],
            "text/markdown": [
              "-611.000788884738"
            ],
            "text/plain": [
              "[1] -611.0008"
            ]
          },
          "metadata": {},
          "output_type": "display_data"
        }
      ],
      "source": [
        "AIC(m_ht)\n",
        "AIC(m_logHt)"
      ]
    },
    {
      "cell_type": "markdown",
      "metadata": {
        "id": "Vi-Roxs6HQd4"
      },
      "source": [
        "The `log(Ht)` model may be a little better, but the two models are still doing pretty similarly."
      ]
    },
    {
      "cell_type": "markdown",
      "metadata": {
        "id": "SEJP0YffiDsu"
      },
      "source": [
        "## Question 3.10\n",
        "\n",
        "In Sect. 3.15.2 (p. 141), a model is fitted to the cheese tasting data (data set: `cheese`). However, before fitting this model, the plot of `Taste` against `log(H2S)` suggested slightly non-constant variance. An alternative model might suggest using `log(Taste)` as the response rather than `Taste`. Show that using `log(Taste)` as the response results in a poor model."
      ]
    },
    {
      "cell_type": "markdown",
      "metadata": {
        "id": "BHiC_bKBn5lq"
      },
      "source": [
        "### Answer to 3.10\n",
        "\n",
        "Let's first load the data, recreate the original plot, and then adjust the plot for `log(Taste)`"
      ]
    },
    {
      "cell_type": "code",
      "execution_count": null,
      "metadata": {
        "colab": {
          "base_uri": "https://localhost:8080/"
        },
        "id": "Wjhr3UyuoKL7",
        "outputId": "ebdc7dc1-ec02-4b37-b654-e89ee291f8a4",
        "vscode": {
          "languageId": "r"
        }
      },
      "outputs": [
        {
          "name": "stderr",
          "output_type": "stream",
          "text": [
            "Installing package into ‘/usr/local/lib/R/site-library’\n",
            "(as ‘lib’ is unspecified)\n",
            "\n"
          ]
        }
      ],
      "source": [
        "install.packages(\"GLMsData\")\n",
        "library(GLMsData)\n",
        "data(cheese)"
      ]
    },
    {
      "cell_type": "code",
      "execution_count": null,
      "metadata": {
        "colab": {
          "base_uri": "https://localhost:8080/",
          "height": 437
        },
        "id": "UaoBC5LHoVgk",
        "outputId": "800bb1ba-92be-4fc6-a25b-662ac8b48e7d",
        "vscode": {
          "languageId": "r"
        }
      },
      "outputs": [
        {
          "data": {
            "image/png": "[encoded data removed]",
            "text/plain": [
              "plot without title"
            ]
          },
          "metadata": {
            "image/png": {
              "height": 420,
              "width": 420
            }
          },
          "output_type": "display_data"
        }
      ],
      "source": [
        "par(mfrow=c(1,2))\n",
        "plot(Taste ~ log(H2S), data=cheese, las=1, pch=19, xlab=\"log(H2S concentration)\", ylab=\"Taste score\")\n",
        "plot(log(Taste) ~ log(H2S), data=cheese, las=1, pch=19, xlab=\"log(H2S concentration)\", ylab=\"log(Taste) score\")"
      ]
    },
    {
      "cell_type": "markdown",
      "metadata": {
        "id": "xN1CZDuTsV6K"
      },
      "source": [
        "Now let's get the models up."
      ]
    },
    {
      "cell_type": "code",
      "execution_count": null,
      "metadata": {
        "id": "XBAaK76IsZQv",
        "vscode": {
          "languageId": "r"
        }
      },
      "outputs": [],
      "source": [
        "cheese.m1 <- lm(Taste ~ Acetic * log(H2S) * Lactic, data=cheese)\n",
        "cheese.m1_ln <- lm(log(Taste) ~ Acetic * log(H2S) * Lactic, data=cheese)"
      ]
    },
    {
      "cell_type": "code",
      "execution_count": null,
      "metadata": {
        "colab": {
          "base_uri": "https://localhost:8080/",
          "height": 437
        },
        "id": "CyjVYOHKzT1N",
        "outputId": "83107843-2dbf-4f01-d0b8-e1982d89c5b1",
        "vscode": {
          "languageId": "r"
        }
      },
      "outputs": [
        {
          "data": {
            "image/png": "[encoded data removed]",
            "text/plain": [
              "Plot with title “”"
            ]
          },
          "metadata": {
            "image/png": {
              "height": 420,
              "width": 420
            }
          },
          "output_type": "display_data"
        }
      ],
      "source": [
        "par(mfrow=c(1,2))\n",
        "plot(cheese.m1, which=2)\n",
        "plot(cheese.m1_ln, which=2)"
      ]
    }
  ],
  "metadata": {
    "colab": {
      "provenance": [],
      "toc_visible": true
    },
    "kernelspec": {
      "display_name": "R",
      "name": "ir"
    },
    "language_info": {
      "name": "R"
    }
  },
  "nbformat": 4,
  "nbformat_minor": 0
}
