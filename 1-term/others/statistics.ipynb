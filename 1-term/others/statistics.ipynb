{
 "cells": [
  {
   "cell_type": "markdown",
   "metadata": {},
   "source": [
    "#### Binomial distribution\n",
    "[Binomial distribution] is a discrete distribution, it is defined as the probability of $k$ $(k\\in\\mathbb{N})$ number of occurrences of an event in $n$ $(n\\in\\mathbb{N})$ trials. Each trial has exactly two possible outcomes: success with the probability of $p$ $(p\\in [0;1])$ and failure with the probability of $1-p$. The PMF of binomial distribution is:\n",
    "\n",
    "$$f(k;n,p) = \\binom{n}{k} p^k (1-p)^{n-k}$$\n",
    "\n",
    "If $\\mathbf{x}$ is a binomial distributed random variable: $\\mathbf{x}\\sim \\text{Bin}(n,p)$, then $\\mathbf{x}$ has the mean of $np$ and the variance of $np(1-p)$.\n",
    "\n",
    "[Binomial distribution]: https://en.wikipedia.org/wiki/Binomial_distribution"
   ]
  },
  {
   "cell_type": "markdown",
   "metadata": {},
   "source": [
    "#### Mean & variance\n",
    "\n",
    "$$E(X)=\\int xf(x)dx$$\n",
    "\n",
    "$$\\text{Var}(X)=E[(x-E[x])^2]=E[X^2]-E[X]^2$$"
   ]
  },
  {
   "cell_type": "markdown",
   "metadata": {},
   "source": [
    "#### Approximation of binomial distribution\n",
    "When $np(1-p)>10$, then "
   ]
  }
 ],
 "metadata": {
  "language_info": {
   "name": "python"
  }
 },
 "nbformat": 4,
 "nbformat_minor": 2
}
