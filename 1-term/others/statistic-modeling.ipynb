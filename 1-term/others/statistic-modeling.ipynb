{
 "cells": [
  {
   "cell_type": "code",
   "execution_count": null,
   "metadata": {
    "vscode": {
     "languageId": "plaintext"
    }
   },
   "outputs": [],
   "source": []
  },
  {
   "cell_type": "markdown",
   "metadata": {},
   "source": [
    "2 mẫu lấy từ 2 tổng thể độc lập:\n",
    "\n",
    "||Sample mean|Sample size|Population mean|Population variance|\n",
    "|:-:|:-:|:-:|:-:|:-:|\n",
    "|$\\mathbf{x}_1$|$\\hat\\mu_1$|$n_1$|$\\mu_1$|$\\sigma_1^2$|\n",
    "|$\\mathbf{x}_2$|$\\hat\\mu_2$|$n_2$|$\\mu_2$|$\\sigma_2^2$|\n",
    "\n",
    "Khi đó, $\\hat\\mu_1-\\hat\\mu_2$ là ước lượng không chệch của $\\mu_1-\\mu_2$ với phương sai:\n",
    "\n",
    "$$V=\\text{Var}(\\mu_1-\\mu_2)=\\frac{\\sigma_1^2}{n_1}+\\frac{\\sigma_2^2}{n_2}$$\n",
    "\n",
    "Với kích thước mẫu giới hạn bởi $n_1+n_2=N$. Hãy xác định $n_1,n_2$ sao cho thông tin ước lượng là tối đa (phương sai tối thiểu).\n",
    "\n",
    "---\n",
    "\n",
    "Đặt $a=n_1/N$ thì $n_2/N=1-a$\n",
    "\n",
    "$$V(a)=\\frac{\\sigma_1^2}{aN}+\\frac{\\sigma_2^2}{(1-a)N}$$\n",
    "\n",
    "Để $V(a)$ đạt min thì $V'(a)=0$ và $V''(a)>0$\n",
    "\n",
    "$$\\frac{d}{da}V(a)=\\frac{1}{N}\\left(-\\frac{\\sigma_1^2}{a^2}+\\frac{\\sigma_2^2}{(1-a)^2} \\right)=0$$\n",
    "\n",
    "$$\\iff (\\sigma_2^2-\\sigma_1^2)a^2+2\\sigma_1^2a-\\sigma_1^2=0$$\n",
    "\n",
    "$$\\iff a\\in \\left(\\frac{\\sigma_1}{\\sigma_1+\\sigma_2},\\frac{\\sigma_1}{\\sigma_1-\\sigma_2}\\right)$$\n",
    "\n",
    "Do $0<a<1$ nên $\\displaystyle{a=\\frac{\\sigma_1}{\\sigma_1+\\sigma_2}}$. Thay số vào $V''(a)$ dễ thấy:\n",
    "\n",
    "$$\\frac{d^2}{da^2}V(a)=\\frac{2}{N}\\left(\\frac{\\sigma_1^2}{a^3}+\\frac{\\sigma_2^2}{(1-a)^3} \\right)>0$$\n",
    "\n",
    "Vậy $V$ đạt min khi $\\displaystyle{n_1=\\frac{\\sigma_1}{\\sigma_1+\\sigma_2}N \\quad;\\quad n_2=\\frac{\\sigma_2}{\\sigma_1+\\sigma_2}N}$\n",
    "\n",
    "---\n",
    "\n",
    "\n",
    "Theo BĐT Cauchy-Schwarz:\n",
    "\n",
    "$$\\begin{align*}\n",
    "&\\;   & VN &=& \\left(\\frac{\\sigma_1^2}{n_1}+\\frac{\\sigma_2^2}{n_2}\\right)(n_1+n_2) &\\geq (\\sigma_1+\\sigma_2)^2 \\\\\n",
    "&\\iff & V  &=& \\frac{\\sigma_1^2}{n_1}+\\frac{\\sigma_2^2}{n_2}                      &\\geq \\frac{(\\sigma_1+\\sigma_2)^2}{N}\n",
    "\\end{align*}$$\n",
    "\n",
    "$V$ nhỏ nhất khi:\n",
    "\n",
    "$$\\frac{\\sigma_1}{n_1}=\\frac{\\sigma_2}{n_2}\\iff\n",
    "n_1=\\frac{\\sigma_1}{\\sigma_1+\\sigma_2}N \\quad;\\quad n_2=\\frac{\\sigma_2}{\\sigma_1+\\sigma_2}N$$"
   ]
  },
  {
   "cell_type": "code",
   "execution_count": null,
   "metadata": {
    "vscode": {
     "languageId": "plaintext"
    }
   },
   "outputs": [],
   "source": []
  }
 ],
 "metadata": {
  "language_info": {
   "name": "python"
  }
 },
 "nbformat": 4,
 "nbformat_minor": 2
}
