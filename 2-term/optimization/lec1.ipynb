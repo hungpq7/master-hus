{
 "cells": [
  {
   "cell_type": "markdown",
   "id": "a8345470",
   "metadata": {},
   "source": [
    "# Convex\n",
    "- Định nghĩa tập lồi: Tập hợp S lồi nếu đoạn thẳng nối 2 điểm bất kỳ: $\\lambda x+(1-\\lambda) y$ vẫn thuộc S.\n",
    "- Định nghĩa hàm lồi: đoạn thẳng nối 2 điểm bất kỳ $f(\\lambda x_1 + (1-\\lambda)x_2)$ nằm trên $\\geq$ đồ thị: $\\lambda f(x_1) + (1-\\lambda)f(x_2)$. \n",
    "    - hàm lồi ngặt: đường thẳng luôn năm trên hẳn ($>$) đồ thị -> đường cong\n",
    "    - hàm lồi mạnh: đảm bảo độ cong tối thiểu\n",
    "    - epigraph? f là hàm lồi -> epi(f) là tập lồi\n",
    "    - tập mức dưới?\n",
    "\n",
    "Note: Nhiều geometric object có thể biểu diễn bằng các bất đẳng thức ma trận như hyperplane, polygon."
   ]
  },
  {
   "cell_type": "markdown",
   "id": "2646ed48",
   "metadata": {},
   "source": [
    "# Optimization\n",
    "Thành phần: (1) vector input $x$, (2) hàm $f$ to be minimize & (3) constraints."
   ]
  }
 ],
 "metadata": {
  "language_info": {
   "name": "python"
  }
 },
 "nbformat": 4,
 "nbformat_minor": 5
}
