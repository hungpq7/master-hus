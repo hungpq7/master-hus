{
 "cells": [
  {
   "cell_type": "markdown",
   "id": "49ad03c1",
   "metadata": {},
   "source": [
    "# Convex\n",
    "- Định nghĩa tập lồi: Tập hợp S lồi nếu đoạn thẳng nối 2 điểm bất kỳ: $\\lambda x+(1-\\lambda) y$ vẫn thuộc S.\n",
    "- Định nghĩa hàm lồi: đoạn thẳng nối 2 điểm bất kỳ $f(\\lambda x_1 + (1-\\lambda)x_2)$ nằm trên $\\geq$ đồ thị: $\\lambda f(x_1) + (1-\\lambda)f(x_2)$. \n",
    "    - hàm lồi ngặt: đường thẳng luôn năm trên hẳn ($>$) đồ thị -> đường cong\n",
    "    - hàm lồi mạnh: đảm bảo độ cong tối thiểu\n",
    "    - epigraph? f là hàm lồi -> epi(f) là tập lồi\n",
    "    - tập mức dưới?\n",
    "\n",
    "Note: Nhiều geometric object có thể biểu diễn bằng các bất đẳng thức ma trận như hyperplane, polygon."
   ]
  },
  {
   "cell_type": "markdown",
   "id": "e66509dd",
   "metadata": {},
   "source": [
    "# Optimization\n",
    "Thành phần: (1) vector input $x$, (2) hàm $f$ to be minimize & (3) constraints.\n",
    "Chứng minh: giao của các tập lồi vẫn là tập lồi."
   ]
  },
  {
   "cell_type": "markdown",
   "id": "0f7cc15d",
   "metadata": {},
   "source": [
    "## Lecture 2\n",
    "khai triển gradient và hessian dạng ma trận: $f(x)=c^Tx$, $g(x)=x^TAx$, norm 2 bình\n",
    "\n",
    "ma trận nửa xác định dương: vuông và đối xứng. A nửa xác định dương nếu: $p^TAp\\geq0$ với mọi p thuộc $R^n$. nếu xác định dương thì dùng $>0$. ma trận nửa xác định dương có các giá trị riêng đều >= 0. \n",
    "ma trận xác định dương <-> các định thức con đều dương.\n",
    "ma trận xác định âm <-> định thức con đan dấu\n",
    "\n",
    "- đặc trưng bậc nhất hàm lồi: đg cong nằm trên đường tiếp tuyến\n",
    "- đặc trưng bậc hai: ma trận hessian nửa xác định dương\n",
    "- vd: chứng minh $x^4$ là hàm lồi -> tiêu chuẩn bậc 2 là $12x^2\\geq0$ dễ cm nhất."
   ]
  },
  {
   "cell_type": "markdown",
   "id": "387b9e0a",
   "metadata": {},
   "source": [
    "## 4. Line Search\n",
    "Wolfe condition: hàm mục tiêu giảm đủ nhiều. Ý nghĩa: giảm độ dốc của đường tiếp tuyến -> bẻ lên dẫn đến có 1 phần alpha nằm dưới đường thẳng. "
   ]
  }
 ],
 "metadata": {
  "language_info": {
   "name": "python"
  }
 },
 "nbformat": 4,
 "nbformat_minor": 5
}
