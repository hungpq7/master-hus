{
 "cells": [
  {
   "cell_type": "markdown",
   "id": "a81be242",
   "metadata": {},
   "source": [
    "khai triển gradient và hessian dạng ma trận: $f(x)=c^Tx$, $g(x)=x^TAx$, norm 2 bình\n",
    "\n",
    "ma trận nửa xác định dương: vuông và đối xứng. A nửa xác định dương nếu: $p^TAp\\geq0$ với mọi p thuộc $R^n$. nếu xác định dương thì dùng $>0$. ma trận nửa xác định dương có các giá trị riêng đều >= 0. \n",
    "ma trận xác định dương <-> các định thức con đều dương.\n",
    "ma trận xác định âm <-> định thức con đan dấu\n",
    "\n",
    "- đặc trưng bậc nhất hàm lồi: đg cong nằm trên đường tiếp tuyến\n",
    "- đặc trưng bậc hai: ma trận hessian nửa xác định dương\n",
    "- vd: chứng minh $x^4$ là hàm lồi -> tiêu chuẩn bậc 2 là $12x^2\\geq0$ dễ cm nhất."
   ]
  }
 ],
 "metadata": {
  "language_info": {
   "name": "python"
  }
 },
 "nbformat": 4,
 "nbformat_minor": 5
}
